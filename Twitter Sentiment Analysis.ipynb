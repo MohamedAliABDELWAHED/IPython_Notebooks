{
 "metadata": {
  "name": "Twitter Sentiment Analysis"
 },
 "nbformat": 3,
 "nbformat_minor": 0,
 "worksheets": [
  {
   "cells": [
    {
     "cell_type": "code",
     "collapsed": false,
     "input": "from __future__ import print_function\nimport pandas as pd\nimport numpy as np\nimport statsmodels.api as sm\nimport statsmodels.formula.api as smf\nimport statsmodels.stats.api as sms\nimport matplotlib.pyplot as plt",
     "language": "python",
     "metadata": {},
     "outputs": [],
     "prompt_number": 45
    },
    {
     "cell_type": "code",
     "collapsed": false,
     "input": "import nltk\nimport nltk.classify.util\nfrom nltk.probability import MLEProbDist",
     "language": "python",
     "metadata": {},
     "outputs": [],
     "prompt_number": 143
    },
    {
     "cell_type": "code",
     "collapsed": false,
     "input": "data = pd.read_csv('C:/Users/Aaron/Google_Drive/Projects/Excel/Simply_Measured/social_data.csv')",
     "language": "python",
     "metadata": {},
     "outputs": [],
     "prompt_number": 47
    },
    {
     "cell_type": "code",
     "collapsed": false,
     "input": "data.head(5)",
     "language": "python",
     "metadata": {},
     "outputs": [
      {
       "html": "<div style=\"max-height:1000px;max-width:1500px;overflow:auto;\">\n<table border=\"1\" class=\"dataframe\">\n  <thead>\n    <tr style=\"text-align: right;\">\n      <th></th>\n      <th>Username</th>\n      <th>Name</th>\n      <th>Update</th>\n      <th>Link</th>\n      <th>Followers</th>\n      <th>Friends</th>\n      <th>Time</th>\n      <th>Day</th>\n      <th>Day_of_Week</th>\n      <th>Day_of_Week_Num</th>\n      <th>Hour_of_Day</th>\n      <th>Part_of_Day</th>\n      <th>Part_of_Day_Num</th>\n      <th>Month</th>\n      <th>Klout_Score</th>\n      <th>Clicks</th>\n      <th>Potential_Impressions</th>\n      <th>Retweets</th>\n      <th>Replies</th>\n      <th>Engagement</th>\n      <th></th>\n    </tr>\n  </thead>\n  <tbody>\n    <tr>\n      <th>0</th>\n      <td>      @Accenture</td>\n      <td>      Accenture</td>\n      <td> How do Australian doctors feel about #healthca...</td>\n      <td> http://twitter.com/Accenture/statuses/38493715...</td>\n      <td>  100683</td>\n      <td>    765</td>\n      <td> 10/1/2013 0:05</td>\n      <td> 10/1/2013</td>\n      <td> Tuesday</td>\n      <td> 3</td>\n      <td> 0</td>\n      <td> Night</td>\n      <td> 4</td>\n      <td> October</td>\n      <td> 85.8358</td>\n      <td>  19</td>\n      <td>  100683</td>\n      <td>  4</td>\n      <td> 0</td>\n      <td>  6</td>\n      <td>...</td>\n    </tr>\n    <tr>\n      <th>1</th>\n      <td>             @hm</td>\n      <td>            H&amp;M</td>\n      <td> Be enchanted by the unique style of the cool k...</td>\n      <td> http://twitter.com/hm/statuses/384938365386100736</td>\n      <td> 2826068</td>\n      <td>    201</td>\n      <td> 10/1/2013 0:10</td>\n      <td> 10/1/2013</td>\n      <td> Tuesday</td>\n      <td> 3</td>\n      <td> 0</td>\n      <td> Night</td>\n      <td> 4</td>\n      <td> October</td>\n      <td> 81.2000</td>\n      <td> 639</td>\n      <td> 2826068</td>\n      <td> 24</td>\n      <td> 2</td>\n      <td> 51</td>\n      <td>...</td>\n    </tr>\n    <tr>\n      <th>2</th>\n      <td>          @nokia</td>\n      <td>          Nokia</td>\n      <td> Imagine spending 4 days in Puerto Rico with @a...</td>\n      <td> http://twitter.com/nokia/statuses/384940717216...</td>\n      <td>  929340</td>\n      <td> 188543</td>\n      <td> 10/1/2013 0:19</td>\n      <td> 10/1/2013</td>\n      <td> Tuesday</td>\n      <td> 3</td>\n      <td> 0</td>\n      <td> Night</td>\n      <td> 4</td>\n      <td> October</td>\n      <td> 91.3083</td>\n      <td>   0</td>\n      <td>  929340</td>\n      <td> 47</td>\n      <td> 7</td>\n      <td> 76</td>\n      <td>...</td>\n    </tr>\n    <tr>\n      <th>3</th>\n      <td>    @santanderuk</td>\n      <td>   Santander UK</td>\n      <td> Check out Santander\ufffds top tips for staying sec...</td>\n      <td> http://twitter.com/santanderuk/statuses/384941...</td>\n      <td>    6899</td>\n      <td>    217</td>\n      <td> 10/1/2013 0:22</td>\n      <td> 10/1/2013</td>\n      <td> Tuesday</td>\n      <td> 3</td>\n      <td> 0</td>\n      <td> Night</td>\n      <td> 4</td>\n      <td> October</td>\n      <td> 60.1154</td>\n      <td>  34</td>\n      <td>    6899</td>\n      <td>  3</td>\n      <td> 1</td>\n      <td>  5</td>\n      <td>...</td>\n    </tr>\n    <tr>\n      <th>4</th>\n      <td> @Siemens_Energy</td>\n      <td> Siemens_Energy</td>\n      <td> RT @Siemens_SG Two of our speakers give a snea...</td>\n      <td> http://twitter.com/Siemens_Energy/statuses/384...</td>\n      <td>   62335</td>\n      <td>  13732</td>\n      <td> 10/1/2013 0:25</td>\n      <td> 10/1/2013</td>\n      <td> Tuesday</td>\n      <td> 3</td>\n      <td> 0</td>\n      <td> Night</td>\n      <td> 4</td>\n      <td> October</td>\n      <td> 62.2268</td>\n      <td>   0</td>\n      <td>   62335</td>\n      <td>  4</td>\n      <td> 0</td>\n      <td>  4</td>\n      <td>...</td>\n    </tr>\n  </tbody>\n</table>\n<p>5 rows \u00d7 24 columns</p>\n</div>",
       "metadata": {},
       "output_type": "pyout",
       "prompt_number": 48,
       "text": "          Username            Name  \\\n0       @Accenture       Accenture   \n1              @hm             H&M   \n2           @nokia           Nokia   \n3     @santanderuk    Santander UK   \n4  @Siemens_Energy  Siemens_Energy   \n\n                                              Update  \\\n0  How do Australian doctors feel about #healthca...   \n1  Be enchanted by the unique style of the cool k...   \n2  Imagine spending 4 days in Puerto Rico with @a...   \n3  Check out Santander\ufffds top tips for staying sec...   \n4  RT @Siemens_SG Two of our speakers give a snea...   \n\n                                                Link  Followers  Friends  \\\n0  http://twitter.com/Accenture/statuses/38493715...     100683      765   \n1  http://twitter.com/hm/statuses/384938365386100736    2826068      201   \n2  http://twitter.com/nokia/statuses/384940717216...     929340   188543   \n3  http://twitter.com/santanderuk/statuses/384941...       6899      217   \n4  http://twitter.com/Siemens_Energy/statuses/384...      62335    13732   \n\n             Time        Day Day_of_Week  Day_of_Week_Num  Hour_of_Day  \\\n0  10/1/2013 0:05  10/1/2013     Tuesday                3            0   \n1  10/1/2013 0:10  10/1/2013     Tuesday                3            0   \n2  10/1/2013 0:19  10/1/2013     Tuesday                3            0   \n3  10/1/2013 0:22  10/1/2013     Tuesday                3            0   \n4  10/1/2013 0:25  10/1/2013     Tuesday                3            0   \n\n  Part_of_Day  Part_of_Day_Num    Month  Klout_Score  Clicks  \\\n0       Night                4  October      85.8358      19   \n1       Night                4  October      81.2000     639   \n2       Night                4  October      91.3083       0   \n3       Night                4  October      60.1154      34   \n4       Night                4  October      62.2268       0   \n\n   Potential_Impressions  Retweets  Replies  Engagement      \n0                 100683         4        0           6 ...  \n1                2826068        24        2          51 ...  \n2                 929340        47        7          76 ...  \n3                   6899         3        1           5 ...  \n4                  62335         4        0           4 ...  \n\n[5 rows x 24 columns]"
      }
     ],
     "prompt_number": 48
    },
    {
     "cell_type": "code",
     "collapsed": false,
     "input": "tweets = list(data.Update)",
     "language": "python",
     "metadata": {},
     "outputs": [],
     "prompt_number": 130
    },
    {
     "cell_type": "code",
     "collapsed": false,
     "input": "tweets[0:5]",
     "language": "python",
     "metadata": {},
     "outputs": [
      {
       "metadata": {},
       "output_type": "pyout",
       "prompt_number": 131,
       "text": "[\"How do Australian doctors feel about #healthcare IT? Read Accenture's latest research. #futureofhealth http://bit.ly/17mtMmW ( http://www.accenture.com/au-en/Pages/insight-acn-doctors-survey-profile-healthcare-it.aspx?c=psv_hlth13twsm_10130&n=smc_0813#sf16245909 )\",\n \"Be enchanted by the unique style of the cool kids in Dublin. This is the video you can't miss! http://bit.ly/19jBMSi ( http://www.youtube.com/watch?v=cm23hD8ruDc )\",\n 'Imagine spending 4 days in Puerto Rico with @alvarezphoto as your mentor: http://nokia.ly/17W1DkE ( http://www.talenthouse.com/photograph-for-nokia-and-national-geographic?thpr )  #NokiaxNatGeo http://pic.twitter.com/T6Ds8FqzJu ( http://twitter.com/nokia/status/384940717216235520/photo/1 )',\n 'Check out Santander\\x92s top tips for staying secure online http://bit.ly/1afJCTZ ( http://www.santander.co.uk/csgs/Satellite?appID=abbey.internet.Abbeycom&c=Page&canal=CABBEYCOM&cid=1237899888304&empr=Abbeycom&leng=en_GB&pagename=Abbeycom/Page/WC_ACOM_TemplateA1 )',\n \"RT @Siemens_SG Two of our speakers give a sneak preview of what's to come at European Utility Week Oct. 15-17 http://sie.ag/15yaCq7 ( http://w3.siemens.com/smartgrid/global/en/news-and-events/events/European_Utility_Week_2013/Pages/Overview.aspx )  #EUW13\"]"
      }
     ],
     "prompt_number": 131
    },
    {
     "cell_type": "code",
     "collapsed": false,
     "input": "nltk.word_tokenize(tweets[0])",
     "language": "python",
     "metadata": {},
     "outputs": [
      {
       "metadata": {},
       "output_type": "pyout",
       "prompt_number": 122,
       "text": "['How',\n 'do',\n 'Australian',\n 'doctors',\n 'feel',\n 'about',\n '#',\n 'healthcare',\n 'IT',\n '?',\n 'Read',\n 'Accenture',\n \"'s\",\n 'latest',\n 'research.',\n '#',\n 'futureofhealth',\n 'http',\n ':',\n '//bit.ly/17mtMmW',\n '(',\n 'http',\n ':',\n '//www.accenture.com/au-en/Pages/insight-acn-doctors-survey-profile-healthcare-it.aspx',\n '?',\n 'c=psv_hlth13twsm_10130',\n '&',\n 'n=smc_0813',\n '#',\n 'sf16245909',\n ')']"
      }
     ],
     "prompt_number": 122
    },
    {
     "cell_type": "code",
     "collapsed": false,
     "input": "def bagOfWords(tweets):\n    wordsList = []\n    for (words, sentiment) in tweets:\n        wordsList.extend(words)\n    return wordsList",
     "language": "python",
     "metadata": {},
     "outputs": [],
     "prompt_number": 123
    },
    {
     "cell_type": "code",
     "collapsed": false,
     "input": "def WordFeatures(wordList):\n    wordList = nltk.FreqDist(wordList)\n    wordFeatures = wordList.keys()\n    return wordFeatures",
     "language": "python",
     "metadata": {},
     "outputs": [],
     "prompt_number": 124
    },
    {
     "cell_type": "code",
     "collapsed": false,
     "input": "def getFeatures(doc):\n    docWords = set(doc)\n    feat = {}\n    for word in wordFeatures:\n        feat['contains(%s)' % word] = (word in docWords)\n    return feat",
     "language": "python",
     "metadata": {},
     "outputs": [],
     "prompt_number": 125
    },
    {
     "cell_type": "code",
     "collapsed": false,
     "input": "positiveTweets = [('...', 'positive'),\n('...', 'positive')]",
     "language": "python",
     "metadata": {},
     "outputs": [],
     "prompt_number": 133
    },
    {
     "cell_type": "code",
     "collapsed": false,
     "input": "negativeTweets = [('. . .', 'negative'), ('...', 'negative')]",
     "language": "python",
     "metadata": {},
     "outputs": [],
     "prompt_number": 134
    },
    {
     "cell_type": "code",
     "collapsed": false,
     "input": "corpusOfTweets = []\nfor (words, sentiment) in positiveTweets + negativeTweets:\n    wordsFiltered = [e.lower() for e in nltk.word_tokenize(words) if len(e) >= 3]\n    tweets.append((wordsFiltered, sentiment))",
     "language": "python",
     "metadata": {},
     "outputs": [],
     "prompt_number": 135
    },
    {
     "cell_type": "code",
     "collapsed": false,
     "input": "wordFeatures = wordFeatures(bagOfWords(corpusOfTweets))",
     "language": "python",
     "metadata": {},
     "outputs": [],
     "prompt_number": 99
    },
    {
     "cell_type": "code",
     "collapsed": false,
     "input": "training = nltk.classify.apply_features(getFeatures, corpusOfTweets)",
     "language": "python",
     "metadata": {},
     "outputs": [],
     "prompt_number": 136
    },
    {
     "cell_type": "code",
     "collapsed": false,
     "input": "classifier = nltk.NaiveBayesClassifier.train(training,estimator=MLEProbDist)",
     "language": "python",
     "metadata": {},
     "outputs": [],
     "prompt_number": 144
    },
    {
     "cell_type": "code",
     "collapsed": false,
     "input": "print(classifier.show_most_informative_features(10))",
     "language": "python",
     "metadata": {},
     "outputs": [
      {
       "output_type": "stream",
       "stream": "stdout",
       "text": "Most Informative Features\nNone\n"
      }
     ],
     "prompt_number": 145
    },
    {
     "cell_type": "code",
     "collapsed": false,
     "input": "for status in tweets:\n    print(\"Tweet: {0} \\n Sentiment: {1}\", classifier.classify(extract_features(status[\"text\"].split())))",
     "language": "python",
     "metadata": {},
     "outputs": [
      {
       "ename": "NameError",
       "evalue": "name 'extract_features' is not defined",
       "output_type": "pyerr",
       "traceback": [
        "\u001b[1;31m---------------------------------------------------------------------------\u001b[0m\n\u001b[1;31mNameError\u001b[0m                                 Traceback (most recent call last)",
        "\u001b[1;32m<ipython-input-150-cc9cdf996b71>\u001b[0m in \u001b[0;36m<module>\u001b[1;34m()\u001b[0m\n\u001b[0;32m      1\u001b[0m \u001b[1;32mfor\u001b[0m \u001b[0mstatus\u001b[0m \u001b[1;32min\u001b[0m \u001b[0mtweets\u001b[0m\u001b[1;33m:\u001b[0m\u001b[1;33m\u001b[0m\u001b[0m\n\u001b[1;32m----> 2\u001b[1;33m     \u001b[1;32mprint\u001b[0m\u001b[1;33m(\u001b[0m\u001b[1;34m\"Tweet: {0} \\n Sentiment: {1}\"\u001b[0m\u001b[1;33m,\u001b[0m \u001b[0mclassifier\u001b[0m\u001b[1;33m.\u001b[0m\u001b[0mclassify\u001b[0m\u001b[1;33m(\u001b[0m\u001b[0mextract_features\u001b[0m\u001b[1;33m(\u001b[0m\u001b[0mstatus\u001b[0m\u001b[1;33m[\u001b[0m\u001b[1;34m\"text\"\u001b[0m\u001b[1;33m]\u001b[0m\u001b[1;33m.\u001b[0m\u001b[0msplit\u001b[0m\u001b[1;33m(\u001b[0m\u001b[1;33m)\u001b[0m\u001b[1;33m)\u001b[0m\u001b[1;33m)\u001b[0m\u001b[1;33m)\u001b[0m\u001b[1;33m\u001b[0m\u001b[0m\n\u001b[0m",
        "\u001b[1;31mNameError\u001b[0m: name 'extract_features' is not defined"
       ]
      }
     ],
     "prompt_number": 150
    },
    {
     "cell_type": "code",
     "collapsed": false,
     "input": "for status in tweets:\n    print(\"Tweet: {0} \\n Sentiment: {1}\"\n    .format(status[1],\n    classifier.classify(wordFeatures\n        (status[1].split()))))",
     "language": "python",
     "metadata": {},
     "outputs": [
      {
       "ename": "NameError",
       "evalue": "name 'wordFeatures' is not defined",
       "output_type": "pyerr",
       "traceback": [
        "\u001b[1;31m---------------------------------------------------------------------------\u001b[0m\n\u001b[1;31mNameError\u001b[0m                                 Traceback (most recent call last)",
        "\u001b[1;32m<ipython-input-162-33098ab2500e>\u001b[0m in \u001b[0;36m<module>\u001b[1;34m()\u001b[0m\n\u001b[0;32m      2\u001b[0m     print(\"Tweet: {0} \\n Sentiment: {1}\"\n\u001b[0;32m      3\u001b[0m     .format(status[1],\n\u001b[1;32m----> 4\u001b[1;33m     classifier.classify(wordFeatures\n\u001b[0m\u001b[0;32m      5\u001b[0m         (status[1].split()))))\n",
        "\u001b[1;31mNameError\u001b[0m: name 'wordFeatures' is not defined"
       ]
      }
     ],
     "prompt_number": 162
    },
    {
     "cell_type": "code",
     "collapsed": false,
     "input": "",
     "language": "python",
     "metadata": {},
     "outputs": []
    }
   ],
   "metadata": {}
  }
 ]
}