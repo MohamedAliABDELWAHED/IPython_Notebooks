{
 "metadata": {
  "name": "Python for Data Analysis - Pandas"
 },
 "nbformat": 3,
 "nbformat_minor": 0,
 "worksheets": [
  {
   "cells": [
    {
     "cell_type": "raw",
     "metadata": {},
     "source": "Pandas contains high-level data structures and manipulation tools. It was built on top of Numpy."
    },
    {
     "cell_type": "code",
     "collapsed": false,
     "input": "from pandas import Series, DataFrame\nimport pandas as pd\nimport numpy as np",
     "language": "python",
     "metadata": {},
     "outputs": [],
     "prompt_number": 1
    },
    {
     "cell_type": "heading",
     "level": 2,
     "metadata": {},
     "source": "Introduction to pandas Data Structures"
    },
    {
     "cell_type": "raw",
     "metadata": {},
     "source": "pandas relies on two data structures: Series and DataFrame."
    },
    {
     "cell_type": "heading",
     "level": 3,
     "metadata": {},
     "source": "Series"
    },
    {
     "cell_type": "raw",
     "metadata": {},
     "source": "A Series is a one-dimensional array-like object containing an array of data (of any NumPy type) and an associated array of data labels, called its index."
    },
    {
     "cell_type": "code",
     "collapsed": false,
     "input": "obj = Series([4, 7, -5, 3])",
     "language": "python",
     "metadata": {},
     "outputs": [],
     "prompt_number": 2
    },
    {
     "cell_type": "code",
     "collapsed": false,
     "input": "obj",
     "language": "python",
     "metadata": {},
     "outputs": [
      {
       "metadata": {},
       "output_type": "pyout",
       "prompt_number": 3,
       "text": "0    4\n1    7\n2   -5\n3    3\ndtype: int64"
      }
     ],
     "prompt_number": 3
    },
    {
     "cell_type": "raw",
     "metadata": {},
     "source": "string of a Series is displayed interactively as the index on the left and the values on the right. Since an index wasn't specified, a default one consisting of the integers 0 through N - 1 (N = length of data) is created. "
    },
    {
     "cell_type": "code",
     "collapsed": false,
     "input": "obj.values",
     "language": "python",
     "metadata": {},
     "outputs": [
      {
       "metadata": {},
       "output_type": "pyout",
       "prompt_number": 4,
       "text": "array([ 4,  7, -5,  3], dtype=int64)"
      }
     ],
     "prompt_number": 4
    },
    {
     "cell_type": "code",
     "collapsed": false,
     "input": "obj.index",
     "language": "python",
     "metadata": {},
     "outputs": [
      {
       "metadata": {},
       "output_type": "pyout",
       "prompt_number": 5,
       "text": "Int64Index([0, 1, 2, 3], dtype='int64')"
      }
     ],
     "prompt_number": 5
    },
    {
     "cell_type": "code",
     "collapsed": false,
     "input": "obj2 = Series([4, 7, -5, 3], index=['d', 'b', 'a', 'c'])",
     "language": "python",
     "metadata": {},
     "outputs": [],
     "prompt_number": 6
    },
    {
     "cell_type": "code",
     "collapsed": false,
     "input": "obj2",
     "language": "python",
     "metadata": {},
     "outputs": [
      {
       "metadata": {},
       "output_type": "pyout",
       "prompt_number": 7,
       "text": "d    4\nb    7\na   -5\nc    3\ndtype: int64"
      }
     ],
     "prompt_number": 7
    },
    {
     "cell_type": "code",
     "collapsed": false,
     "input": "obj2.index",
     "language": "python",
     "metadata": {},
     "outputs": [
      {
       "metadata": {},
       "output_type": "pyout",
       "prompt_number": 8,
       "text": "Index([u'd', u'b', u'a', u'c'], dtype='object')"
      }
     ],
     "prompt_number": 8
    },
    {
     "cell_type": "raw",
     "metadata": {},
     "source": "Can use values in the index when selecting single values or a set of values:"
    },
    {
     "cell_type": "code",
     "collapsed": false,
     "input": "obj2['a']",
     "language": "python",
     "metadata": {},
     "outputs": [
      {
       "metadata": {},
       "output_type": "pyout",
       "prompt_number": 9,
       "text": "-5"
      }
     ],
     "prompt_number": 9
    },
    {
     "cell_type": "code",
     "collapsed": false,
     "input": "obj2['d']",
     "language": "python",
     "metadata": {},
     "outputs": [
      {
       "metadata": {},
       "output_type": "pyout",
       "prompt_number": 10,
       "text": "4"
      }
     ],
     "prompt_number": 10
    },
    {
     "cell_type": "code",
     "collapsed": false,
     "input": "obj2[['c', 'a', 'd']]",
     "language": "python",
     "metadata": {},
     "outputs": [
      {
       "metadata": {},
       "output_type": "pyout",
       "prompt_number": 11,
       "text": "c    3\na   -5\nd    4\ndtype: int64"
      }
     ],
     "prompt_number": 11
    },
    {
     "cell_type": "raw",
     "metadata": {},
     "source": "NumPy array operations, such as filtering with a boolean array, scalar multiplication, or applying math functions, will preserve the index-value link:"
    },
    {
     "cell_type": "code",
     "collapsed": false,
     "input": "obj2",
     "language": "python",
     "metadata": {},
     "outputs": [
      {
       "metadata": {},
       "output_type": "pyout",
       "prompt_number": 12,
       "text": "d    4\nb    7\na   -5\nc    3\ndtype: int64"
      }
     ],
     "prompt_number": 12
    },
    {
     "cell_type": "code",
     "collapsed": false,
     "input": "obj2[obj2 > 0]",
     "language": "python",
     "metadata": {},
     "outputs": [
      {
       "metadata": {},
       "output_type": "pyout",
       "prompt_number": 13,
       "text": "d    4\nb    7\nc    3\ndtype: int64"
      }
     ],
     "prompt_number": 13
    },
    {
     "cell_type": "code",
     "collapsed": false,
     "input": "obj2 * 2",
     "language": "python",
     "metadata": {},
     "outputs": [
      {
       "metadata": {},
       "output_type": "pyout",
       "prompt_number": 14,
       "text": "d     8\nb    14\na   -10\nc     6\ndtype: int64"
      }
     ],
     "prompt_number": 14
    },
    {
     "cell_type": "code",
     "collapsed": false,
     "input": "np.exp(obj2)",
     "language": "python",
     "metadata": {},
     "outputs": [
      {
       "metadata": {},
       "output_type": "pyout",
       "prompt_number": 17,
       "text": "d      54.598150\nb    1096.633158\na       0.006738\nc      20.085537\ndtype: float64"
      }
     ],
     "prompt_number": 17
    },
    {
     "cell_type": "code",
     "collapsed": false,
     "input": "'b' in obj2",
     "language": "python",
     "metadata": {},
     "outputs": [
      {
       "metadata": {},
       "output_type": "pyout",
       "prompt_number": 18,
       "text": "True"
      }
     ],
     "prompt_number": 18
    },
    {
     "cell_type": "code",
     "collapsed": false,
     "input": "'e' in obj2",
     "language": "python",
     "metadata": {},
     "outputs": [
      {
       "metadata": {},
       "output_type": "pyout",
       "prompt_number": 19,
       "text": "False"
      }
     ],
     "prompt_number": 19
    },
    {
     "cell_type": "raw",
     "metadata": {},
     "source": "A series can be created from a Python dictionary by passing the dict:"
    },
    {
     "cell_type": "code",
     "collapsed": false,
     "input": "sdata = {'Ohio': 35000, 'Texas': 71000, 'Oregon': 16000, 'Utah': 5000}",
     "language": "python",
     "metadata": {},
     "outputs": [],
     "prompt_number": 4
    },
    {
     "cell_type": "code",
     "collapsed": false,
     "input": "obj3 = Series(sdata)",
     "language": "python",
     "metadata": {},
     "outputs": [],
     "prompt_number": 5
    },
    {
     "cell_type": "code",
     "collapsed": false,
     "input": "obj3",
     "language": "python",
     "metadata": {},
     "outputs": [
      {
       "metadata": {},
       "output_type": "pyout",
       "prompt_number": 6,
       "text": "Ohio      35000\nOregon    16000\nTexas     71000\nUtah       5000\ndtype: int64"
      }
     ],
     "prompt_number": 6
    },
    {
     "cell_type": "code",
     "collapsed": false,
     "input": "states = ['California', 'Ohio', 'Oregon', 'Texas']",
     "language": "python",
     "metadata": {},
     "outputs": [],
     "prompt_number": 7
    },
    {
     "cell_type": "code",
     "collapsed": false,
     "input": "obj4 = Series(sdata, index=states)",
     "language": "python",
     "metadata": {},
     "outputs": [],
     "prompt_number": 8
    },
    {
     "cell_type": "code",
     "collapsed": false,
     "input": "obj4",
     "language": "python",
     "metadata": {},
     "outputs": [
      {
       "metadata": {},
       "output_type": "pyout",
       "prompt_number": 9,
       "text": "California      NaN\nOhio          35000\nOregon        16000\nTexas         71000\ndtype: float64"
      }
     ],
     "prompt_number": 9
    },
    {
     "cell_type": "raw",
     "metadata": {},
     "source": "3 values found in sdata were placed in the appropriate locations, but since no value for California was found, it appears as NaN. The isnull and notnull functions in pandas can be used to detect missing data"
    },
    {
     "cell_type": "code",
     "collapsed": false,
     "input": "pd.isnull(obj4)",
     "language": "python",
     "metadata": {},
     "outputs": [
      {
       "metadata": {},
       "output_type": "pyout",
       "prompt_number": 10,
       "text": "California     True\nOhio          False\nOregon        False\nTexas         False\ndtype: bool"
      }
     ],
     "prompt_number": 10
    },
    {
     "cell_type": "code",
     "collapsed": false,
     "input": "pd.notnull(obj4)",
     "language": "python",
     "metadata": {},
     "outputs": [
      {
       "metadata": {},
       "output_type": "pyout",
       "prompt_number": 11,
       "text": "California    False\nOhio           True\nOregon         True\nTexas          True\ndtype: bool"
      }
     ],
     "prompt_number": 11
    },
    {
     "cell_type": "code",
     "collapsed": false,
     "input": "obj4.isnull()",
     "language": "python",
     "metadata": {},
     "outputs": [
      {
       "metadata": {},
       "output_type": "pyout",
       "prompt_number": 12,
       "text": "California     True\nOhio          False\nOregon        False\nTexas         False\ndtype: bool"
      }
     ],
     "prompt_number": 12
    },
    {
     "cell_type": "raw",
     "metadata": {},
     "source": "Series also automatically algigns differently indexed data in arithmetic operations"
    },
    {
     "cell_type": "code",
     "collapsed": false,
     "input": "obj3 + obj4",
     "language": "python",
     "metadata": {},
     "outputs": [
      {
       "metadata": {},
       "output_type": "pyout",
       "prompt_number": 13,
       "text": "California       NaN\nOhio           70000\nOregon         32000\nTexas         142000\nUtah             NaN\ndtype: float64"
      }
     ],
     "prompt_number": 13
    },
    {
     "cell_type": "raw",
     "metadata": {},
     "source": "The series object itself and its index have a name attribute, which integrates with other key areas of pandas functionality"
    },
    {
     "cell_type": "code",
     "collapsed": false,
     "input": "obj4.name = 'population'",
     "language": "python",
     "metadata": {},
     "outputs": [],
     "prompt_number": 14
    },
    {
     "cell_type": "code",
     "collapsed": false,
     "input": "obj4.index.name = 'state'",
     "language": "python",
     "metadata": {},
     "outputs": [],
     "prompt_number": 15
    },
    {
     "cell_type": "code",
     "collapsed": false,
     "input": "obj4",
     "language": "python",
     "metadata": {},
     "outputs": [
      {
       "metadata": {},
       "output_type": "pyout",
       "prompt_number": 16,
       "text": "state\nCalifornia      NaN\nOhio          35000\nOregon        16000\nTexas         71000\nName: population, dtype: float64"
      }
     ],
     "prompt_number": 16
    },
    {
     "cell_type": "raw",
     "metadata": {},
     "source": "A series index can also be altered in place by assignment"
    },
    {
     "cell_type": "heading",
     "level": 2,
     "metadata": {},
     "source": "Pandas Dataframe"
    },
    {
     "cell_type": "raw",
     "metadata": {},
     "source": "A dataframe represents a tabular, spreadsheet-like data structure containing an ordered collection of columns, each of which can be a different value type. The Dataframe has both a row and column index. Can be thought of as a dict of Series.\n\nThe data is stored as one or more two-dimensional blocks rather than a list, dict or some other data type."
    },
    {
     "cell_type": "raw",
     "metadata": {},
     "source": "To construct a dataframe, one of the most common ways is from a dict of equal length lists or NumPy arrays"
    },
    {
     "cell_type": "code",
     "collapsed": false,
     "input": "data = {'state': ['Ohio', 'Ohio', 'Ohio', 'Nevada', 'Nevada'],\n        'year': [2000, 2001, 2002, 2001, 2002],\n        'pop': [1.5, 1.7, 3.6, 2.4, 2.9]}\nframe = DataFrame(data)",
     "language": "python",
     "metadata": {},
     "outputs": [],
     "prompt_number": 18
    },
    {
     "cell_type": "code",
     "collapsed": false,
     "input": "frame",
     "language": "python",
     "metadata": {},
     "outputs": [
      {
       "html": "<div style=\"max-height:1000px;max-width:1500px;overflow:auto;\">\n<table border=\"1\" class=\"dataframe\">\n  <thead>\n    <tr style=\"text-align: right;\">\n      <th></th>\n      <th>pop</th>\n      <th>state</th>\n      <th>year</th>\n    </tr>\n  </thead>\n  <tbody>\n    <tr>\n      <th>0</th>\n      <td> 1.5</td>\n      <td>   Ohio</td>\n      <td> 2000</td>\n    </tr>\n    <tr>\n      <th>1</th>\n      <td> 1.7</td>\n      <td>   Ohio</td>\n      <td> 2001</td>\n    </tr>\n    <tr>\n      <th>2</th>\n      <td> 3.6</td>\n      <td>   Ohio</td>\n      <td> 2002</td>\n    </tr>\n    <tr>\n      <th>3</th>\n      <td> 2.4</td>\n      <td> Nevada</td>\n      <td> 2001</td>\n    </tr>\n    <tr>\n      <th>4</th>\n      <td> 2.9</td>\n      <td> Nevada</td>\n      <td> 2002</td>\n    </tr>\n  </tbody>\n</table>\n<p>5 rows \u00d7 3 columns</p>\n</div>",
       "metadata": {},
       "output_type": "pyout",
       "prompt_number": 19,
       "text": "   pop   state  year\n0  1.5    Ohio  2000\n1  1.7    Ohio  2001\n2  3.6    Ohio  2002\n3  2.4  Nevada  2001\n4  2.9  Nevada  2002\n\n[5 rows x 3 columns]"
      }
     ],
     "prompt_number": 19
    },
    {
     "cell_type": "raw",
     "metadata": {},
     "source": "If a sequence of columns is specified, the DataFrame's columns will be exactly what is passed:"
    },
    {
     "cell_type": "code",
     "collapsed": false,
     "input": "DataFrame(data, columns=['year', 'state', 'pop'])",
     "language": "python",
     "metadata": {},
     "outputs": [
      {
       "html": "<div style=\"max-height:1000px;max-width:1500px;overflow:auto;\">\n<table border=\"1\" class=\"dataframe\">\n  <thead>\n    <tr style=\"text-align: right;\">\n      <th></th>\n      <th>year</th>\n      <th>state</th>\n      <th>pop</th>\n    </tr>\n  </thead>\n  <tbody>\n    <tr>\n      <th>0</th>\n      <td> 2000</td>\n      <td>   Ohio</td>\n      <td> 1.5</td>\n    </tr>\n    <tr>\n      <th>1</th>\n      <td> 2001</td>\n      <td>   Ohio</td>\n      <td> 1.7</td>\n    </tr>\n    <tr>\n      <th>2</th>\n      <td> 2002</td>\n      <td>   Ohio</td>\n      <td> 3.6</td>\n    </tr>\n    <tr>\n      <th>3</th>\n      <td> 2001</td>\n      <td> Nevada</td>\n      <td> 2.4</td>\n    </tr>\n    <tr>\n      <th>4</th>\n      <td> 2002</td>\n      <td> Nevada</td>\n      <td> 2.9</td>\n    </tr>\n  </tbody>\n</table>\n<p>5 rows \u00d7 3 columns</p>\n</div>",
       "metadata": {},
       "output_type": "pyout",
       "prompt_number": 21,
       "text": "   year   state  pop\n0  2000    Ohio  1.5\n1  2001    Ohio  1.7\n2  2002    Ohio  3.6\n3  2001  Nevada  2.4\n4  2002  Nevada  2.9\n\n[5 rows x 3 columns]"
      }
     ],
     "prompt_number": 21
    },
    {
     "cell_type": "raw",
     "metadata": {},
     "source": "Similar to Series, if a column is passed that isn't contained in data, it will appear with NA values"
    },
    {
     "cell_type": "code",
     "collapsed": false,
     "input": "frame2 = DataFrame(data, columns=['year', 'state', 'pop', 'debt'],\n                    index=['one', 'two', 'three', 'four', 'five'])",
     "language": "python",
     "metadata": {},
     "outputs": [],
     "prompt_number": 23
    },
    {
     "cell_type": "code",
     "collapsed": false,
     "input": "frame2",
     "language": "python",
     "metadata": {},
     "outputs": [
      {
       "html": "<div style=\"max-height:1000px;max-width:1500px;overflow:auto;\">\n<table border=\"1\" class=\"dataframe\">\n  <thead>\n    <tr style=\"text-align: right;\">\n      <th></th>\n      <th>year</th>\n      <th>state</th>\n      <th>pop</th>\n      <th>debt</th>\n    </tr>\n  </thead>\n  <tbody>\n    <tr>\n      <th>one</th>\n      <td> 2000</td>\n      <td>   Ohio</td>\n      <td> 1.5</td>\n      <td> NaN</td>\n    </tr>\n    <tr>\n      <th>two</th>\n      <td> 2001</td>\n      <td>   Ohio</td>\n      <td> 1.7</td>\n      <td> NaN</td>\n    </tr>\n    <tr>\n      <th>three</th>\n      <td> 2002</td>\n      <td>   Ohio</td>\n      <td> 3.6</td>\n      <td> NaN</td>\n    </tr>\n    <tr>\n      <th>four</th>\n      <td> 2001</td>\n      <td> Nevada</td>\n      <td> 2.4</td>\n      <td> NaN</td>\n    </tr>\n    <tr>\n      <th>five</th>\n      <td> 2002</td>\n      <td> Nevada</td>\n      <td> 2.9</td>\n      <td> NaN</td>\n    </tr>\n  </tbody>\n</table>\n<p>5 rows \u00d7 4 columns</p>\n</div>",
       "metadata": {},
       "output_type": "pyout",
       "prompt_number": 24,
       "text": "       year   state  pop debt\none    2000    Ohio  1.5  NaN\ntwo    2001    Ohio  1.7  NaN\nthree  2002    Ohio  3.6  NaN\nfour   2001  Nevada  2.4  NaN\nfive   2002  Nevada  2.9  NaN\n\n[5 rows x 4 columns]"
      }
     ],
     "prompt_number": 24
    },
    {
     "cell_type": "code",
     "collapsed": false,
     "input": "frame2.columns",
     "language": "python",
     "metadata": {},
     "outputs": [
      {
       "metadata": {},
       "output_type": "pyout",
       "prompt_number": 25,
       "text": "Index([u'year', u'state', u'pop', u'debt'], dtype='object')"
      }
     ],
     "prompt_number": 25
    },
    {
     "cell_type": "raw",
     "metadata": {},
     "source": "A column in a DataFrame can be retrieved as a Series either by dict-like notation or by attribute:"
    },
    {
     "cell_type": "code",
     "collapsed": false,
     "input": "frame2['state']",
     "language": "python",
     "metadata": {},
     "outputs": [
      {
       "metadata": {},
       "output_type": "pyout",
       "prompt_number": 26,
       "text": "one        Ohio\ntwo        Ohio\nthree      Ohio\nfour     Nevada\nfive     Nevada\nName: state, dtype: object"
      }
     ],
     "prompt_number": 26
    },
    {
     "cell_type": "code",
     "collapsed": false,
     "input": "frame2.year",
     "language": "python",
     "metadata": {},
     "outputs": [
      {
       "metadata": {},
       "output_type": "pyout",
       "prompt_number": 27,
       "text": "one      2000\ntwo      2001\nthree    2002\nfour     2001\nfive     2002\nName: year, dtype: int64"
      }
     ],
     "prompt_number": 27
    },
    {
     "cell_type": "raw",
     "metadata": {},
     "source": "Rows can be retrieved by position or name by a couple of methods, such as the ix indexing field"
    },
    {
     "cell_type": "code",
     "collapsed": false,
     "input": "frame2.ix['three']",
     "language": "python",
     "metadata": {},
     "outputs": [
      {
       "metadata": {},
       "output_type": "pyout",
       "prompt_number": 28,
       "text": "year     2002\nstate    Ohio\npop       3.6\ndebt      NaN\nName: three, dtype: object"
      }
     ],
     "prompt_number": 28
    },
    {
     "cell_type": "raw",
     "metadata": {},
     "source": "Columns can be modified by assignment. For example, the empty 'debt' column could be assigned a scalar value or an array of values"
    },
    {
     "cell_type": "code",
     "collapsed": false,
     "input": "frame2['debt'] = 16.5",
     "language": "python",
     "metadata": {},
     "outputs": [],
     "prompt_number": 29
    },
    {
     "cell_type": "code",
     "collapsed": false,
     "input": "frame2",
     "language": "python",
     "metadata": {},
     "outputs": [
      {
       "html": "<div style=\"max-height:1000px;max-width:1500px;overflow:auto;\">\n<table border=\"1\" class=\"dataframe\">\n  <thead>\n    <tr style=\"text-align: right;\">\n      <th></th>\n      <th>year</th>\n      <th>state</th>\n      <th>pop</th>\n      <th>debt</th>\n    </tr>\n  </thead>\n  <tbody>\n    <tr>\n      <th>one</th>\n      <td> 2000</td>\n      <td>   Ohio</td>\n      <td> 1.5</td>\n      <td> 16.5</td>\n    </tr>\n    <tr>\n      <th>two</th>\n      <td> 2001</td>\n      <td>   Ohio</td>\n      <td> 1.7</td>\n      <td> 16.5</td>\n    </tr>\n    <tr>\n      <th>three</th>\n      <td> 2002</td>\n      <td>   Ohio</td>\n      <td> 3.6</td>\n      <td> 16.5</td>\n    </tr>\n    <tr>\n      <th>four</th>\n      <td> 2001</td>\n      <td> Nevada</td>\n      <td> 2.4</td>\n      <td> 16.5</td>\n    </tr>\n    <tr>\n      <th>five</th>\n      <td> 2002</td>\n      <td> Nevada</td>\n      <td> 2.9</td>\n      <td> 16.5</td>\n    </tr>\n  </tbody>\n</table>\n<p>5 rows \u00d7 4 columns</p>\n</div>",
       "metadata": {},
       "output_type": "pyout",
       "prompt_number": 30,
       "text": "       year   state  pop  debt\none    2000    Ohio  1.5  16.5\ntwo    2001    Ohio  1.7  16.5\nthree  2002    Ohio  3.6  16.5\nfour   2001  Nevada  2.4  16.5\nfive   2002  Nevada  2.9  16.5\n\n[5 rows x 4 columns]"
      }
     ],
     "prompt_number": 30
    },
    {
     "cell_type": "code",
     "collapsed": false,
     "input": "frame2['debt'] = np.arange(5.)",
     "language": "python",
     "metadata": {},
     "outputs": [],
     "prompt_number": 31
    },
    {
     "cell_type": "code",
     "collapsed": false,
     "input": "frame2",
     "language": "python",
     "metadata": {},
     "outputs": [
      {
       "html": "<div style=\"max-height:1000px;max-width:1500px;overflow:auto;\">\n<table border=\"1\" class=\"dataframe\">\n  <thead>\n    <tr style=\"text-align: right;\">\n      <th></th>\n      <th>year</th>\n      <th>state</th>\n      <th>pop</th>\n      <th>debt</th>\n    </tr>\n  </thead>\n  <tbody>\n    <tr>\n      <th>one</th>\n      <td> 2000</td>\n      <td>   Ohio</td>\n      <td> 1.5</td>\n      <td> 0</td>\n    </tr>\n    <tr>\n      <th>two</th>\n      <td> 2001</td>\n      <td>   Ohio</td>\n      <td> 1.7</td>\n      <td> 1</td>\n    </tr>\n    <tr>\n      <th>three</th>\n      <td> 2002</td>\n      <td>   Ohio</td>\n      <td> 3.6</td>\n      <td> 2</td>\n    </tr>\n    <tr>\n      <th>four</th>\n      <td> 2001</td>\n      <td> Nevada</td>\n      <td> 2.4</td>\n      <td> 3</td>\n    </tr>\n    <tr>\n      <th>five</th>\n      <td> 2002</td>\n      <td> Nevada</td>\n      <td> 2.9</td>\n      <td> 4</td>\n    </tr>\n  </tbody>\n</table>\n<p>5 rows \u00d7 4 columns</p>\n</div>",
       "metadata": {},
       "output_type": "pyout",
       "prompt_number": 33,
       "text": "       year   state  pop  debt\none    2000    Ohio  1.5     0\ntwo    2001    Ohio  1.7     1\nthree  2002    Ohio  3.6     2\nfour   2001  Nevada  2.4     3\nfive   2002  Nevada  2.9     4\n\n[5 rows x 4 columns]"
      }
     ],
     "prompt_number": 33
    },
    {
     "cell_type": "raw",
     "metadata": {},
     "source": "When assigning lists or arrays to a column, the value's length must match the length of the DataFrame. If a Series is assigned, it will instead conform to the DataFrame's index, inserting missing values."
    },
    {
     "cell_type": "code",
     "collapsed": false,
     "input": "val = Series([-1.2, -1.5, -1.7], index=['two', 'four', 'five'])",
     "language": "python",
     "metadata": {},
     "outputs": [],
     "prompt_number": 34
    },
    {
     "cell_type": "code",
     "collapsed": false,
     "input": "frame2['debt'] = val",
     "language": "python",
     "metadata": {},
     "outputs": [],
     "prompt_number": 35
    },
    {
     "cell_type": "code",
     "collapsed": false,
     "input": "frame2",
     "language": "python",
     "metadata": {},
     "outputs": [
      {
       "html": "<div style=\"max-height:1000px;max-width:1500px;overflow:auto;\">\n<table border=\"1\" class=\"dataframe\">\n  <thead>\n    <tr style=\"text-align: right;\">\n      <th></th>\n      <th>year</th>\n      <th>state</th>\n      <th>pop</th>\n      <th>debt</th>\n    </tr>\n  </thead>\n  <tbody>\n    <tr>\n      <th>one</th>\n      <td> 2000</td>\n      <td>   Ohio</td>\n      <td> 1.5</td>\n      <td> NaN</td>\n    </tr>\n    <tr>\n      <th>two</th>\n      <td> 2001</td>\n      <td>   Ohio</td>\n      <td> 1.7</td>\n      <td>-1.2</td>\n    </tr>\n    <tr>\n      <th>three</th>\n      <td> 2002</td>\n      <td>   Ohio</td>\n      <td> 3.6</td>\n      <td> NaN</td>\n    </tr>\n    <tr>\n      <th>four</th>\n      <td> 2001</td>\n      <td> Nevada</td>\n      <td> 2.4</td>\n      <td>-1.5</td>\n    </tr>\n    <tr>\n      <th>five</th>\n      <td> 2002</td>\n      <td> Nevada</td>\n      <td> 2.9</td>\n      <td>-1.7</td>\n    </tr>\n  </tbody>\n</table>\n<p>5 rows \u00d7 4 columns</p>\n</div>",
       "metadata": {},
       "output_type": "pyout",
       "prompt_number": 36,
       "text": "       year   state  pop  debt\none    2000    Ohio  1.5   NaN\ntwo    2001    Ohio  1.7  -1.2\nthree  2002    Ohio  3.6   NaN\nfour   2001  Nevada  2.4  -1.5\nfive   2002  Nevada  2.9  -1.7\n\n[5 rows x 4 columns]"
      }
     ],
     "prompt_number": 36
    },
    {
     "cell_type": "raw",
     "metadata": {},
     "source": "Assigning a column that doesn't exist will create a new column. The del keyword will delete columns as with a dict:"
    },
    {
     "cell_type": "code",
     "collapsed": false,
     "input": "frame2['eastern'] = frame2.state == 'Ohio'",
     "language": "python",
     "metadata": {},
     "outputs": [],
     "prompt_number": 37
    },
    {
     "cell_type": "code",
     "collapsed": false,
     "input": "frame2",
     "language": "python",
     "metadata": {},
     "outputs": [
      {
       "html": "<div style=\"max-height:1000px;max-width:1500px;overflow:auto;\">\n<table border=\"1\" class=\"dataframe\">\n  <thead>\n    <tr style=\"text-align: right;\">\n      <th></th>\n      <th>year</th>\n      <th>state</th>\n      <th>pop</th>\n      <th>debt</th>\n      <th>eastern</th>\n    </tr>\n  </thead>\n  <tbody>\n    <tr>\n      <th>one</th>\n      <td> 2000</td>\n      <td>   Ohio</td>\n      <td> 1.5</td>\n      <td> NaN</td>\n      <td>  True</td>\n    </tr>\n    <tr>\n      <th>two</th>\n      <td> 2001</td>\n      <td>   Ohio</td>\n      <td> 1.7</td>\n      <td>-1.2</td>\n      <td>  True</td>\n    </tr>\n    <tr>\n      <th>three</th>\n      <td> 2002</td>\n      <td>   Ohio</td>\n      <td> 3.6</td>\n      <td> NaN</td>\n      <td>  True</td>\n    </tr>\n    <tr>\n      <th>four</th>\n      <td> 2001</td>\n      <td> Nevada</td>\n      <td> 2.4</td>\n      <td>-1.5</td>\n      <td> False</td>\n    </tr>\n    <tr>\n      <th>five</th>\n      <td> 2002</td>\n      <td> Nevada</td>\n      <td> 2.9</td>\n      <td>-1.7</td>\n      <td> False</td>\n    </tr>\n  </tbody>\n</table>\n<p>5 rows \u00d7 5 columns</p>\n</div>",
       "metadata": {},
       "output_type": "pyout",
       "prompt_number": 38,
       "text": "       year   state  pop  debt eastern\none    2000    Ohio  1.5   NaN    True\ntwo    2001    Ohio  1.7  -1.2    True\nthree  2002    Ohio  3.6   NaN    True\nfour   2001  Nevada  2.4  -1.5   False\nfive   2002  Nevada  2.9  -1.7   False\n\n[5 rows x 5 columns]"
      }
     ],
     "prompt_number": 38
    },
    {
     "cell_type": "code",
     "collapsed": false,
     "input": "del frame2['eastern']",
     "language": "python",
     "metadata": {},
     "outputs": [],
     "prompt_number": 39
    },
    {
     "cell_type": "code",
     "collapsed": false,
     "input": "frame2.columns",
     "language": "python",
     "metadata": {},
     "outputs": [
      {
       "metadata": {},
       "output_type": "pyout",
       "prompt_number": 40,
       "text": "Index([u'year', u'state', u'pop', u'debt'], dtype='object')"
      }
     ],
     "prompt_number": 40
    },
    {
     "cell_type": "raw",
     "metadata": {},
     "source": "Another form of data is a nested dict of dicts format:"
    },
    {
     "cell_type": "code",
     "collapsed": false,
     "input": "pop = {'Nevada': {2001: 2.4, 2002: 2.9},\n       'Ohio': {2000: 1.5, 2001: 1.7, 2002: 3.6}}",
     "language": "python",
     "metadata": {},
     "outputs": [],
     "prompt_number": 41
    },
    {
     "cell_type": "raw",
     "metadata": {},
     "source": "If passed to DataFrame, it will interpret the outer dict keys as the columns and the inner keys as the row indices:"
    },
    {
     "cell_type": "code",
     "collapsed": false,
     "input": "frame3 = DataFrame(pop)",
     "language": "python",
     "metadata": {},
     "outputs": [],
     "prompt_number": 42
    },
    {
     "cell_type": "code",
     "collapsed": false,
     "input": "frame3",
     "language": "python",
     "metadata": {},
     "outputs": [
      {
       "html": "<div style=\"max-height:1000px;max-width:1500px;overflow:auto;\">\n<table border=\"1\" class=\"dataframe\">\n  <thead>\n    <tr style=\"text-align: right;\">\n      <th></th>\n      <th>Nevada</th>\n      <th>Ohio</th>\n    </tr>\n  </thead>\n  <tbody>\n    <tr>\n      <th>2000</th>\n      <td> NaN</td>\n      <td> 1.5</td>\n    </tr>\n    <tr>\n      <th>2001</th>\n      <td> 2.4</td>\n      <td> 1.7</td>\n    </tr>\n    <tr>\n      <th>2002</th>\n      <td> 2.9</td>\n      <td> 3.6</td>\n    </tr>\n  </tbody>\n</table>\n<p>3 rows \u00d7 2 columns</p>\n</div>",
       "metadata": {},
       "output_type": "pyout",
       "prompt_number": 43,
       "text": "      Nevada  Ohio\n2000     NaN   1.5\n2001     2.4   1.7\n2002     2.9   3.6\n\n[3 rows x 2 columns]"
      }
     ],
     "prompt_number": 43
    },
    {
     "cell_type": "code",
     "collapsed": false,
     "input": "frame3.T",
     "language": "python",
     "metadata": {},
     "outputs": [
      {
       "html": "<div style=\"max-height:1000px;max-width:1500px;overflow:auto;\">\n<table border=\"1\" class=\"dataframe\">\n  <thead>\n    <tr style=\"text-align: right;\">\n      <th></th>\n      <th>2000</th>\n      <th>2001</th>\n      <th>2002</th>\n    </tr>\n  </thead>\n  <tbody>\n    <tr>\n      <th>Nevada</th>\n      <td> NaN</td>\n      <td> 2.4</td>\n      <td> 2.9</td>\n    </tr>\n    <tr>\n      <th>Ohio</th>\n      <td> 1.5</td>\n      <td> 1.7</td>\n      <td> 3.6</td>\n    </tr>\n  </tbody>\n</table>\n<p>2 rows \u00d7 3 columns</p>\n</div>",
       "metadata": {},
       "output_type": "pyout",
       "prompt_number": 44,
       "text": "        2000  2001  2002\nNevada   NaN   2.4   2.9\nOhio     1.5   1.7   3.6\n\n[2 rows x 3 columns]"
      }
     ],
     "prompt_number": 44
    },
    {
     "cell_type": "raw",
     "metadata": {},
     "source": "The keys in the inner dicts are unioned and sorted to form the index in the result. This isn't true if an explicit index is specified:"
    },
    {
     "cell_type": "code",
     "collapsed": false,
     "input": "DataFrame(pop, index=[2001, 2002, 2003])",
     "language": "python",
     "metadata": {},
     "outputs": [
      {
       "html": "<div style=\"max-height:1000px;max-width:1500px;overflow:auto;\">\n<table border=\"1\" class=\"dataframe\">\n  <thead>\n    <tr style=\"text-align: right;\">\n      <th></th>\n      <th>Nevada</th>\n      <th>Ohio</th>\n    </tr>\n  </thead>\n  <tbody>\n    <tr>\n      <th>2001</th>\n      <td> 2.4</td>\n      <td> 1.7</td>\n    </tr>\n    <tr>\n      <th>2002</th>\n      <td> 2.9</td>\n      <td> 3.6</td>\n    </tr>\n    <tr>\n      <th>2003</th>\n      <td> NaN</td>\n      <td> NaN</td>\n    </tr>\n  </tbody>\n</table>\n<p>3 rows \u00d7 2 columns</p>\n</div>",
       "metadata": {},
       "output_type": "pyout",
       "prompt_number": 45,
       "text": "      Nevada  Ohio\n2001     2.4   1.7\n2002     2.9   3.6\n2003     NaN   NaN\n\n[3 rows x 2 columns]"
      }
     ],
     "prompt_number": 45
    },
    {
     "cell_type": "code",
     "collapsed": false,
     "input": "pdata = {'Ohio': frame3['Ohio'][:-1],\n         'Nevada': frame3['Nevada'][:2]}",
     "language": "python",
     "metadata": {},
     "outputs": [],
     "prompt_number": 46
    },
    {
     "cell_type": "code",
     "collapsed": false,
     "input": "DataFrame(pdata)",
     "language": "python",
     "metadata": {},
     "outputs": [
      {
       "html": "<div style=\"max-height:1000px;max-width:1500px;overflow:auto;\">\n<table border=\"1\" class=\"dataframe\">\n  <thead>\n    <tr style=\"text-align: right;\">\n      <th></th>\n      <th>Nevada</th>\n      <th>Ohio</th>\n    </tr>\n  </thead>\n  <tbody>\n    <tr>\n      <th>2000</th>\n      <td> NaN</td>\n      <td> 1.5</td>\n    </tr>\n    <tr>\n      <th>2001</th>\n      <td> 2.4</td>\n      <td> 1.7</td>\n    </tr>\n  </tbody>\n</table>\n<p>2 rows \u00d7 2 columns</p>\n</div>",
       "metadata": {},
       "output_type": "pyout",
       "prompt_number": 47,
       "text": "      Nevada  Ohio\n2000     NaN   1.5\n2001     2.4   1.7\n\n[2 rows x 2 columns]"
      }
     ],
     "prompt_number": 47
    },
    {
     "cell_type": "code",
     "collapsed": false,
     "input": "frame3.index.name = 'year'; frame3.columns.name = 'state'",
     "language": "python",
     "metadata": {},
     "outputs": [],
     "prompt_number": 48
    },
    {
     "cell_type": "code",
     "collapsed": false,
     "input": "frame3",
     "language": "python",
     "metadata": {},
     "outputs": [
      {
       "html": "<div style=\"max-height:1000px;max-width:1500px;overflow:auto;\">\n<table border=\"1\" class=\"dataframe\">\n  <thead>\n    <tr style=\"text-align: right;\">\n      <th>state</th>\n      <th>Nevada</th>\n      <th>Ohio</th>\n    </tr>\n    <tr>\n      <th>year</th>\n      <th></th>\n      <th></th>\n    </tr>\n  </thead>\n  <tbody>\n    <tr>\n      <th>2000</th>\n      <td> NaN</td>\n      <td> 1.5</td>\n    </tr>\n    <tr>\n      <th>2001</th>\n      <td> 2.4</td>\n      <td> 1.7</td>\n    </tr>\n    <tr>\n      <th>2002</th>\n      <td> 2.9</td>\n      <td> 3.6</td>\n    </tr>\n  </tbody>\n</table>\n<p>3 rows \u00d7 2 columns</p>\n</div>",
       "metadata": {},
       "output_type": "pyout",
       "prompt_number": 49,
       "text": "state  Nevada  Ohio\nyear               \n2000      NaN   1.5\n2001      2.4   1.7\n2002      2.9   3.6\n\n[3 rows x 2 columns]"
      }
     ],
     "prompt_number": 49
    },
    {
     "cell_type": "raw",
     "metadata": {},
     "source": "Like Series, the values attribute returns the data contained in the DataFrame as a 2D ndarray:"
    },
    {
     "cell_type": "code",
     "collapsed": false,
     "input": "frame3.values",
     "language": "python",
     "metadata": {},
     "outputs": [
      {
       "metadata": {},
       "output_type": "pyout",
       "prompt_number": 50,
       "text": "array([[ nan,  1.5],\n       [ 2.4,  1.7],\n       [ 2.9,  3.6]])"
      }
     ],
     "prompt_number": 50
    },
    {
     "cell_type": "raw",
     "metadata": {},
     "source": "If the DataFrame's columns are different types, the dtype of the values array will be chosen to accomodate all of the columns:"
    },
    {
     "cell_type": "code",
     "collapsed": false,
     "input": "frame2.values",
     "language": "python",
     "metadata": {},
     "outputs": [
      {
       "metadata": {},
       "output_type": "pyout",
       "prompt_number": 51,
       "text": "array([[2000L, 'Ohio', 1.5, nan],\n       [2001L, 'Ohio', 1.7, -1.2],\n       [2002L, 'Ohio', 3.6, nan],\n       [2001L, 'Nevada', 2.4, -1.5],\n       [2002L, 'Nevada', 2.9, -1.7]], dtype=object)"
      }
     ],
     "prompt_number": 51
    },
    {
     "cell_type": "heading",
     "level": 2,
     "metadata": {},
     "source": "Index Objects"
    },
    {
     "cell_type": "raw",
     "metadata": {},
     "source": "pandas' Index objects are responsible for holding the axis labels and other metadata (like the axis name or names). Any array or other sequence of labels used when constructing a Series or DataFrame is internally converted to an Index:"
    },
    {
     "cell_type": "code",
     "collapsed": false,
     "input": "obj = Series(range(3), index=['a', 'b', 'c'])",
     "language": "python",
     "metadata": {},
     "outputs": [],
     "prompt_number": 52
    },
    {
     "cell_type": "code",
     "collapsed": false,
     "input": "index = obj.index",
     "language": "python",
     "metadata": {},
     "outputs": [],
     "prompt_number": 53
    },
    {
     "cell_type": "code",
     "collapsed": false,
     "input": "index",
     "language": "python",
     "metadata": {},
     "outputs": [
      {
       "metadata": {},
       "output_type": "pyout",
       "prompt_number": 54,
       "text": "Index([u'a', u'b', u'c'], dtype='object')"
      }
     ],
     "prompt_number": 54
    },
    {
     "cell_type": "code",
     "collapsed": false,
     "input": "index[1:]",
     "language": "python",
     "metadata": {},
     "outputs": [
      {
       "metadata": {},
       "output_type": "pyout",
       "prompt_number": 55,
       "text": "Index([u'b', u'c'], dtype='object')"
      }
     ],
     "prompt_number": 55
    },
    {
     "cell_type": "raw",
     "metadata": {},
     "source": "In addition to being array-like, an Index also functions as a fixed-size set:"
    },
    {
     "cell_type": "code",
     "collapsed": false,
     "input": "frame3",
     "language": "python",
     "metadata": {},
     "outputs": [
      {
       "html": "<div style=\"max-height:1000px;max-width:1500px;overflow:auto;\">\n<table border=\"1\" class=\"dataframe\">\n  <thead>\n    <tr style=\"text-align: right;\">\n      <th>state</th>\n      <th>Nevada</th>\n      <th>Ohio</th>\n    </tr>\n    <tr>\n      <th>year</th>\n      <th></th>\n      <th></th>\n    </tr>\n  </thead>\n  <tbody>\n    <tr>\n      <th>2000</th>\n      <td> NaN</td>\n      <td> 1.5</td>\n    </tr>\n    <tr>\n      <th>2001</th>\n      <td> 2.4</td>\n      <td> 1.7</td>\n    </tr>\n    <tr>\n      <th>2002</th>\n      <td> 2.9</td>\n      <td> 3.6</td>\n    </tr>\n  </tbody>\n</table>\n<p>3 rows \u00d7 2 columns</p>\n</div>",
       "metadata": {},
       "output_type": "pyout",
       "prompt_number": 56,
       "text": "state  Nevada  Ohio\nyear               \n2000      NaN   1.5\n2001      2.4   1.7\n2002      2.9   3.6\n\n[3 rows x 2 columns]"
      }
     ],
     "prompt_number": 56
    },
    {
     "cell_type": "code",
     "collapsed": false,
     "input": "'Ohio' in frame3.columns",
     "language": "python",
     "metadata": {},
     "outputs": [
      {
       "metadata": {},
       "output_type": "pyout",
       "prompt_number": 57,
       "text": "True"
      }
     ],
     "prompt_number": 57
    },
    {
     "cell_type": "code",
     "collapsed": false,
     "input": "2003 in frame.index",
     "language": "python",
     "metadata": {},
     "outputs": [
      {
       "metadata": {},
       "output_type": "pyout",
       "prompt_number": 58,
       "text": "False"
      }
     ],
     "prompt_number": 58
    },
    {
     "cell_type": "heading",
     "level": 2,
     "metadata": {},
     "source": "Essential Functionality"
    },
    {
     "cell_type": "heading",
     "level": 3,
     "metadata": {},
     "source": "Reindexing"
    },
    {
     "cell_type": "raw",
     "metadata": {},
     "source": "reindex creates a new object with the data conformed to a new index. An example:"
    },
    {
     "cell_type": "code",
     "collapsed": false,
     "input": "obj = Series([4.5, 7.2, -5.3, 3.6], index=['d', 'b', 'a', 'c'])",
     "language": "python",
     "metadata": {},
     "outputs": [],
     "prompt_number": 59
    },
    {
     "cell_type": "code",
     "collapsed": false,
     "input": "obj",
     "language": "python",
     "metadata": {},
     "outputs": [
      {
       "metadata": {},
       "output_type": "pyout",
       "prompt_number": 60,
       "text": "d    4.5\nb    7.2\na   -5.3\nc    3.6\ndtype: float64"
      }
     ],
     "prompt_number": 60
    },
    {
     "cell_type": "raw",
     "metadata": {},
     "source": "Calling reindex on this Series rearranges the data according to the new index, introducing missing values if any index values were not already present:"
    },
    {
     "cell_type": "code",
     "collapsed": false,
     "input": "obj2 = obj.reindex(['a', 'b', 'c', 'd', 'e'])",
     "language": "python",
     "metadata": {},
     "outputs": [],
     "prompt_number": 61
    },
    {
     "cell_type": "code",
     "collapsed": false,
     "input": "obj2",
     "language": "python",
     "metadata": {},
     "outputs": [
      {
       "metadata": {},
       "output_type": "pyout",
       "prompt_number": 62,
       "text": "a   -5.3\nb    7.2\nc    3.6\nd    4.5\ne    NaN\ndtype: float64"
      }
     ],
     "prompt_number": 62
    },
    {
     "cell_type": "code",
     "collapsed": false,
     "input": "obj.reindex(['a', 'b', 'c', 'd', 'e'], fill_value=0)",
     "language": "python",
     "metadata": {},
     "outputs": [
      {
       "metadata": {},
       "output_type": "pyout",
       "prompt_number": 63,
       "text": "a   -5.3\nb    7.2\nc    3.6\nd    4.5\ne    0.0\ndtype: float64"
      }
     ],
     "prompt_number": 63
    },
    {
     "cell_type": "raw",
     "metadata": {},
     "source": "For data like time series, sometimes its desirable to do some interpolation or filling of values when reindexing. The method option allows that, using a method such as ffill which forward filles the values:"
    },
    {
     "cell_type": "code",
     "collapsed": false,
     "input": "obj3 = Series(['blue', 'purple', 'yellow'], index=[0, 2, 4])",
     "language": "python",
     "metadata": {},
     "outputs": [],
     "prompt_number": 64
    },
    {
     "cell_type": "code",
     "collapsed": false,
     "input": "obj3.reindex(range(6), method='ffill')",
     "language": "python",
     "metadata": {},
     "outputs": [
      {
       "metadata": {},
       "output_type": "pyout",
       "prompt_number": 65,
       "text": "0      blue\n1      blue\n2    purple\n3    purple\n4    yellow\n5    yellow\ndtype: object"
      }
     ],
     "prompt_number": 65
    },
    {
     "cell_type": "raw",
     "metadata": {},
     "source": "With DataFrame, reindex can alter either the (row) index, columns or both. When passed just a sequence the rows are reindexed in the result:"
    },
    {
     "cell_type": "code",
     "collapsed": false,
     "input": "frame = DataFrame(np.arange(9).reshape((3, 3)), index=['a', 'c', 'd'],\n                  columns=['Ohio', 'Texas', 'California'])",
     "language": "python",
     "metadata": {},
     "outputs": [],
     "prompt_number": 66
    },
    {
     "cell_type": "code",
     "collapsed": false,
     "input": "frame",
     "language": "python",
     "metadata": {},
     "outputs": [
      {
       "html": "<div style=\"max-height:1000px;max-width:1500px;overflow:auto;\">\n<table border=\"1\" class=\"dataframe\">\n  <thead>\n    <tr style=\"text-align: right;\">\n      <th></th>\n      <th>Ohio</th>\n      <th>Texas</th>\n      <th>California</th>\n    </tr>\n  </thead>\n  <tbody>\n    <tr>\n      <th>a</th>\n      <td> 0</td>\n      <td> 1</td>\n      <td> 2</td>\n    </tr>\n    <tr>\n      <th>c</th>\n      <td> 3</td>\n      <td> 4</td>\n      <td> 5</td>\n    </tr>\n    <tr>\n      <th>d</th>\n      <td> 6</td>\n      <td> 7</td>\n      <td> 8</td>\n    </tr>\n  </tbody>\n</table>\n<p>3 rows \u00d7 3 columns</p>\n</div>",
       "metadata": {},
       "output_type": "pyout",
       "prompt_number": 67,
       "text": "   Ohio  Texas  California\na     0      1           2\nc     3      4           5\nd     6      7           8\n\n[3 rows x 3 columns]"
      }
     ],
     "prompt_number": 67
    },
    {
     "cell_type": "code",
     "collapsed": false,
     "input": "frame2 = frame.reindex(['a', 'b', 'c', 'd'])",
     "language": "python",
     "metadata": {},
     "outputs": [],
     "prompt_number": 68
    },
    {
     "cell_type": "code",
     "collapsed": false,
     "input": "frame2",
     "language": "python",
     "metadata": {},
     "outputs": [
      {
       "html": "<div style=\"max-height:1000px;max-width:1500px;overflow:auto;\">\n<table border=\"1\" class=\"dataframe\">\n  <thead>\n    <tr style=\"text-align: right;\">\n      <th></th>\n      <th>Ohio</th>\n      <th>Texas</th>\n      <th>California</th>\n    </tr>\n  </thead>\n  <tbody>\n    <tr>\n      <th>a</th>\n      <td>  0</td>\n      <td>  1</td>\n      <td>  2</td>\n    </tr>\n    <tr>\n      <th>b</th>\n      <td>NaN</td>\n      <td>NaN</td>\n      <td>NaN</td>\n    </tr>\n    <tr>\n      <th>c</th>\n      <td>  3</td>\n      <td>  4</td>\n      <td>  5</td>\n    </tr>\n    <tr>\n      <th>d</th>\n      <td>  6</td>\n      <td>  7</td>\n      <td>  8</td>\n    </tr>\n  </tbody>\n</table>\n<p>4 rows \u00d7 3 columns</p>\n</div>",
       "metadata": {},
       "output_type": "pyout",
       "prompt_number": 69,
       "text": "   Ohio  Texas  California\na     0      1           2\nb   NaN    NaN         NaN\nc     3      4           5\nd     6      7           8\n\n[4 rows x 3 columns]"
      }
     ],
     "prompt_number": 69
    },
    {
     "cell_type": "raw",
     "metadata": {},
     "source": "Columns can be reindexed using the columns keyword."
    },
    {
     "cell_type": "code",
     "collapsed": false,
     "input": "states = ['Texas', 'Utah', 'California']",
     "language": "python",
     "metadata": {},
     "outputs": [],
     "prompt_number": 70
    },
    {
     "cell_type": "code",
     "collapsed": false,
     "input": "frame.reindex(columns=states)",
     "language": "python",
     "metadata": {},
     "outputs": [
      {
       "html": "<div style=\"max-height:1000px;max-width:1500px;overflow:auto;\">\n<table border=\"1\" class=\"dataframe\">\n  <thead>\n    <tr style=\"text-align: right;\">\n      <th></th>\n      <th>Texas</th>\n      <th>Utah</th>\n      <th>California</th>\n    </tr>\n  </thead>\n  <tbody>\n    <tr>\n      <th>a</th>\n      <td> 1</td>\n      <td>NaN</td>\n      <td> 2</td>\n    </tr>\n    <tr>\n      <th>c</th>\n      <td> 4</td>\n      <td>NaN</td>\n      <td> 5</td>\n    </tr>\n    <tr>\n      <th>d</th>\n      <td> 7</td>\n      <td>NaN</td>\n      <td> 8</td>\n    </tr>\n  </tbody>\n</table>\n<p>3 rows \u00d7 3 columns</p>\n</div>",
       "metadata": {},
       "output_type": "pyout",
       "prompt_number": 71,
       "text": "   Texas  Utah  California\na      1   NaN           2\nc      4   NaN           5\nd      7   NaN           8\n\n[3 rows x 3 columns]"
      }
     ],
     "prompt_number": 71
    },
    {
     "cell_type": "heading",
     "level": 3,
     "metadata": {},
     "source": "Dropping Entries from an Axis"
    },
    {
     "cell_type": "raw",
     "metadata": {},
     "source": "Easy with an index array or list without the entry. The drop method wll return a new object with the indicated value or values deleted from an axis:"
    },
    {
     "cell_type": "code",
     "collapsed": false,
     "input": "obj = Series(np.arange(5.), index=['a', 'b', 'c', 'd', 'e'])",
     "language": "python",
     "metadata": {},
     "outputs": [],
     "prompt_number": 72
    },
    {
     "cell_type": "code",
     "collapsed": false,
     "input": "new_obj = obj.drop('c')",
     "language": "python",
     "metadata": {},
     "outputs": [],
     "prompt_number": 73
    },
    {
     "cell_type": "code",
     "collapsed": false,
     "input": "new_obj",
     "language": "python",
     "metadata": {},
     "outputs": [
      {
       "metadata": {},
       "output_type": "pyout",
       "prompt_number": 74,
       "text": "a    0\nb    1\nd    3\ne    4\ndtype: float64"
      }
     ],
     "prompt_number": 74
    },
    {
     "cell_type": "code",
     "collapsed": false,
     "input": "obj.drop(['d', 'c'])",
     "language": "python",
     "metadata": {},
     "outputs": [
      {
       "metadata": {},
       "output_type": "pyout",
       "prompt_number": 75,
       "text": "a    0\nb    1\ne    4\ndtype: float64"
      }
     ],
     "prompt_number": 75
    },
    {
     "cell_type": "raw",
     "metadata": {},
     "source": "With DataFrame, index values can be deleted from either axis:"
    },
    {
     "cell_type": "code",
     "collapsed": false,
     "input": "data = DataFrame(np.arange(16).reshape((4, 4)),\n                 index=['Ohio', 'Colorado', 'Utah', 'New York'],\n                 columns=['one', 'two', 'three', 'four'])",
     "language": "python",
     "metadata": {},
     "outputs": [],
     "prompt_number": 76
    },
    {
     "cell_type": "code",
     "collapsed": false,
     "input": "data.drop(['Colorado', 'Ohio'])",
     "language": "python",
     "metadata": {},
     "outputs": [
      {
       "html": "<div style=\"max-height:1000px;max-width:1500px;overflow:auto;\">\n<table border=\"1\" class=\"dataframe\">\n  <thead>\n    <tr style=\"text-align: right;\">\n      <th></th>\n      <th>one</th>\n      <th>two</th>\n      <th>three</th>\n      <th>four</th>\n    </tr>\n  </thead>\n  <tbody>\n    <tr>\n      <th>Utah</th>\n      <td>  8</td>\n      <td>  9</td>\n      <td> 10</td>\n      <td> 11</td>\n    </tr>\n    <tr>\n      <th>New York</th>\n      <td> 12</td>\n      <td> 13</td>\n      <td> 14</td>\n      <td> 15</td>\n    </tr>\n  </tbody>\n</table>\n<p>2 rows \u00d7 4 columns</p>\n</div>",
       "metadata": {},
       "output_type": "pyout",
       "prompt_number": 77,
       "text": "          one  two  three  four\nUtah        8    9     10    11\nNew York   12   13     14    15\n\n[2 rows x 4 columns]"
      }
     ],
     "prompt_number": 77
    },
    {
     "cell_type": "code",
     "collapsed": false,
     "input": "data.drop('two', axis=1)",
     "language": "python",
     "metadata": {},
     "outputs": [
      {
       "html": "<div style=\"max-height:1000px;max-width:1500px;overflow:auto;\">\n<table border=\"1\" class=\"dataframe\">\n  <thead>\n    <tr style=\"text-align: right;\">\n      <th></th>\n      <th>one</th>\n      <th>three</th>\n      <th>four</th>\n    </tr>\n  </thead>\n  <tbody>\n    <tr>\n      <th>Ohio</th>\n      <td>  0</td>\n      <td>  2</td>\n      <td>  3</td>\n    </tr>\n    <tr>\n      <th>Colorado</th>\n      <td>  4</td>\n      <td>  6</td>\n      <td>  7</td>\n    </tr>\n    <tr>\n      <th>Utah</th>\n      <td>  8</td>\n      <td> 10</td>\n      <td> 11</td>\n    </tr>\n    <tr>\n      <th>New York</th>\n      <td> 12</td>\n      <td> 14</td>\n      <td> 15</td>\n    </tr>\n  </tbody>\n</table>\n<p>4 rows \u00d7 3 columns</p>\n</div>",
       "metadata": {},
       "output_type": "pyout",
       "prompt_number": 78,
       "text": "          one  three  four\nOhio        0      2     3\nColorado    4      6     7\nUtah        8     10    11\nNew York   12     14    15\n\n[4 rows x 3 columns]"
      }
     ],
     "prompt_number": 78
    },
    {
     "cell_type": "code",
     "collapsed": false,
     "input": "data.drop(['two', 'four'], axis=1)",
     "language": "python",
     "metadata": {},
     "outputs": [
      {
       "html": "<div style=\"max-height:1000px;max-width:1500px;overflow:auto;\">\n<table border=\"1\" class=\"dataframe\">\n  <thead>\n    <tr style=\"text-align: right;\">\n      <th></th>\n      <th>one</th>\n      <th>three</th>\n    </tr>\n  </thead>\n  <tbody>\n    <tr>\n      <th>Ohio</th>\n      <td>  0</td>\n      <td>  2</td>\n    </tr>\n    <tr>\n      <th>Colorado</th>\n      <td>  4</td>\n      <td>  6</td>\n    </tr>\n    <tr>\n      <th>Utah</th>\n      <td>  8</td>\n      <td> 10</td>\n    </tr>\n    <tr>\n      <th>New York</th>\n      <td> 12</td>\n      <td> 14</td>\n    </tr>\n  </tbody>\n</table>\n<p>4 rows \u00d7 2 columns</p>\n</div>",
       "metadata": {},
       "output_type": "pyout",
       "prompt_number": 79,
       "text": "          one  three\nOhio        0      2\nColorado    4      6\nUtah        8     10\nNew York   12     14\n\n[4 rows x 2 columns]"
      }
     ],
     "prompt_number": 79
    },
    {
     "cell_type": "heading",
     "level": 3,
     "metadata": {},
     "source": "Indexing, selection and Filtering"
    },
    {
     "cell_type": "raw",
     "metadata": {},
     "source": "Series indexing obj[..] works with NumPy array indexing, except it can use a Seri'es index values instead of only integers."
    },
    {
     "cell_type": "code",
     "collapsed": false,
     "input": "obj = Series(np.arange(4.), index=['a', 'b', 'c', 'd'])",
     "language": "python",
     "metadata": {},
     "outputs": [],
     "prompt_number": 81
    },
    {
     "cell_type": "code",
     "collapsed": false,
     "input": "obj['b']",
     "language": "python",
     "metadata": {},
     "outputs": [
      {
       "metadata": {},
       "output_type": "pyout",
       "prompt_number": 82,
       "text": "1.0"
      }
     ],
     "prompt_number": 82
    },
    {
     "cell_type": "code",
     "collapsed": false,
     "input": "obj[1]",
     "language": "python",
     "metadata": {},
     "outputs": [
      {
       "metadata": {},
       "output_type": "pyout",
       "prompt_number": 84,
       "text": "1.0"
      }
     ],
     "prompt_number": 84
    },
    {
     "cell_type": "code",
     "collapsed": false,
     "input": "obj[2:4]",
     "language": "python",
     "metadata": {},
     "outputs": [
      {
       "metadata": {},
       "output_type": "pyout",
       "prompt_number": 85,
       "text": "c    2\nd    3\ndtype: float64"
      }
     ],
     "prompt_number": 85
    },
    {
     "cell_type": "code",
     "collapsed": false,
     "input": "obj[['b', 'a', 'd']]",
     "language": "python",
     "metadata": {},
     "outputs": [
      {
       "metadata": {},
       "output_type": "pyout",
       "prompt_number": 86,
       "text": "b    1\na    0\nd    3\ndtype: float64"
      }
     ],
     "prompt_number": 86
    },
    {
     "cell_type": "raw",
     "metadata": {},
     "source": "Slicing with labels behaves differently than normal Python slicing in that the endpoint is inclusive:"
    },
    {
     "cell_type": "code",
     "collapsed": false,
     "input": "obj['b':'c']",
     "language": "python",
     "metadata": {},
     "outputs": [
      {
       "metadata": {},
       "output_type": "pyout",
       "prompt_number": 87,
       "text": "b    1\nc    2\ndtype: float64"
      }
     ],
     "prompt_number": 87
    },
    {
     "cell_type": "code",
     "collapsed": false,
     "input": "obj['b':'c'] = 5",
     "language": "python",
     "metadata": {},
     "outputs": [],
     "prompt_number": 88
    },
    {
     "cell_type": "code",
     "collapsed": false,
     "input": "obj",
     "language": "python",
     "metadata": {},
     "outputs": [
      {
       "metadata": {},
       "output_type": "pyout",
       "prompt_number": 89,
       "text": "a    0\nb    5\nc    5\nd    3\ndtype: float64"
      }
     ],
     "prompt_number": 89
    },
    {
     "cell_type": "raw",
     "metadata": {},
     "source": "Indexing into a DataFrame is for retrieving one or more columns either with a single value or sequence:"
    },
    {
     "cell_type": "code",
     "collapsed": false,
     "input": "data = DataFrame(np.arange(16).reshape((4, 4)),\n                 index=['Ohio', 'Colorado', 'Utah', 'New York'],\n                 columns=['one', 'two', 'three', 'four'])",
     "language": "python",
     "metadata": {},
     "outputs": [],
     "prompt_number": 90
    },
    {
     "cell_type": "code",
     "collapsed": false,
     "input": "data",
     "language": "python",
     "metadata": {},
     "outputs": [
      {
       "html": "<div style=\"max-height:1000px;max-width:1500px;overflow:auto;\">\n<table border=\"1\" class=\"dataframe\">\n  <thead>\n    <tr style=\"text-align: right;\">\n      <th></th>\n      <th>one</th>\n      <th>two</th>\n      <th>three</th>\n      <th>four</th>\n    </tr>\n  </thead>\n  <tbody>\n    <tr>\n      <th>Ohio</th>\n      <td>  0</td>\n      <td>  1</td>\n      <td>  2</td>\n      <td>  3</td>\n    </tr>\n    <tr>\n      <th>Colorado</th>\n      <td>  4</td>\n      <td>  5</td>\n      <td>  6</td>\n      <td>  7</td>\n    </tr>\n    <tr>\n      <th>Utah</th>\n      <td>  8</td>\n      <td>  9</td>\n      <td> 10</td>\n      <td> 11</td>\n    </tr>\n    <tr>\n      <th>New York</th>\n      <td> 12</td>\n      <td> 13</td>\n      <td> 14</td>\n      <td> 15</td>\n    </tr>\n  </tbody>\n</table>\n<p>4 rows \u00d7 4 columns</p>\n</div>",
       "metadata": {},
       "output_type": "pyout",
       "prompt_number": 91,
       "text": "          one  two  three  four\nOhio        0    1      2     3\nColorado    4    5      6     7\nUtah        8    9     10    11\nNew York   12   13     14    15\n\n[4 rows x 4 columns]"
      }
     ],
     "prompt_number": 91
    },
    {
     "cell_type": "code",
     "collapsed": false,
     "input": "data['two']",
     "language": "python",
     "metadata": {},
     "outputs": [
      {
       "metadata": {},
       "output_type": "pyout",
       "prompt_number": 92,
       "text": "Ohio         1\nColorado     5\nUtah         9\nNew York    13\nName: two, dtype: int32"
      }
     ],
     "prompt_number": 92
    },
    {
     "cell_type": "code",
     "collapsed": false,
     "input": "data[['three', 'one']]",
     "language": "python",
     "metadata": {},
     "outputs": [
      {
       "html": "<div style=\"max-height:1000px;max-width:1500px;overflow:auto;\">\n<table border=\"1\" class=\"dataframe\">\n  <thead>\n    <tr style=\"text-align: right;\">\n      <th></th>\n      <th>three</th>\n      <th>one</th>\n    </tr>\n  </thead>\n  <tbody>\n    <tr>\n      <th>Ohio</th>\n      <td>  2</td>\n      <td>  0</td>\n    </tr>\n    <tr>\n      <th>Colorado</th>\n      <td>  6</td>\n      <td>  4</td>\n    </tr>\n    <tr>\n      <th>Utah</th>\n      <td> 10</td>\n      <td>  8</td>\n    </tr>\n    <tr>\n      <th>New York</th>\n      <td> 14</td>\n      <td> 12</td>\n    </tr>\n  </tbody>\n</table>\n<p>4 rows \u00d7 2 columns</p>\n</div>",
       "metadata": {},
       "output_type": "pyout",
       "prompt_number": 93,
       "text": "          three  one\nOhio          2    0\nColorado      6    4\nUtah         10    8\nNew York     14   12\n\n[4 rows x 2 columns]"
      }
     ],
     "prompt_number": 93
    },
    {
     "cell_type": "code",
     "collapsed": false,
     "input": "data[:2]",
     "language": "python",
     "metadata": {},
     "outputs": [
      {
       "html": "<div style=\"max-height:1000px;max-width:1500px;overflow:auto;\">\n<table border=\"1\" class=\"dataframe\">\n  <thead>\n    <tr style=\"text-align: right;\">\n      <th></th>\n      <th>one</th>\n      <th>two</th>\n      <th>three</th>\n      <th>four</th>\n    </tr>\n  </thead>\n  <tbody>\n    <tr>\n      <th>Ohio</th>\n      <td> 0</td>\n      <td> 1</td>\n      <td> 2</td>\n      <td> 3</td>\n    </tr>\n    <tr>\n      <th>Colorado</th>\n      <td> 4</td>\n      <td> 5</td>\n      <td> 6</td>\n      <td> 7</td>\n    </tr>\n  </tbody>\n</table>\n<p>2 rows \u00d7 4 columns</p>\n</div>",
       "metadata": {},
       "output_type": "pyout",
       "prompt_number": 94,
       "text": "          one  two  three  four\nOhio        0    1      2     3\nColorado    4    5      6     7\n\n[2 rows x 4 columns]"
      }
     ],
     "prompt_number": 94
    },
    {
     "cell_type": "code",
     "collapsed": false,
     "input": "data[data['three'] > 5]",
     "language": "python",
     "metadata": {},
     "outputs": [
      {
       "html": "<div style=\"max-height:1000px;max-width:1500px;overflow:auto;\">\n<table border=\"1\" class=\"dataframe\">\n  <thead>\n    <tr style=\"text-align: right;\">\n      <th></th>\n      <th>one</th>\n      <th>two</th>\n      <th>three</th>\n      <th>four</th>\n    </tr>\n  </thead>\n  <tbody>\n    <tr>\n      <th>Colorado</th>\n      <td>  4</td>\n      <td>  5</td>\n      <td>  6</td>\n      <td>  7</td>\n    </tr>\n    <tr>\n      <th>Utah</th>\n      <td>  8</td>\n      <td>  9</td>\n      <td> 10</td>\n      <td> 11</td>\n    </tr>\n    <tr>\n      <th>New York</th>\n      <td> 12</td>\n      <td> 13</td>\n      <td> 14</td>\n      <td> 15</td>\n    </tr>\n  </tbody>\n</table>\n<p>3 rows \u00d7 4 columns</p>\n</div>",
       "metadata": {},
       "output_type": "pyout",
       "prompt_number": 95,
       "text": "          one  two  three  four\nColorado    4    5      6     7\nUtah        8    9     10    11\nNew York   12   13     14    15\n\n[3 rows x 4 columns]"
      }
     ],
     "prompt_number": 95
    },
    {
     "cell_type": "raw",
     "metadata": {},
     "source": "Another case is in indexing with a boolean DataFrame, such as one produced by a scalar comparison:"
    },
    {
     "cell_type": "code",
     "collapsed": false,
     "input": "data > 5",
     "language": "python",
     "metadata": {},
     "outputs": [
      {
       "html": "<div style=\"max-height:1000px;max-width:1500px;overflow:auto;\">\n<table border=\"1\" class=\"dataframe\">\n  <thead>\n    <tr style=\"text-align: right;\">\n      <th></th>\n      <th>one</th>\n      <th>two</th>\n      <th>three</th>\n      <th>four</th>\n    </tr>\n  </thead>\n  <tbody>\n    <tr>\n      <th>Ohio</th>\n      <td> False</td>\n      <td> False</td>\n      <td> False</td>\n      <td> False</td>\n    </tr>\n    <tr>\n      <th>Colorado</th>\n      <td> False</td>\n      <td> False</td>\n      <td>  True</td>\n      <td>  True</td>\n    </tr>\n    <tr>\n      <th>Utah</th>\n      <td>  True</td>\n      <td>  True</td>\n      <td>  True</td>\n      <td>  True</td>\n    </tr>\n    <tr>\n      <th>New York</th>\n      <td>  True</td>\n      <td>  True</td>\n      <td>  True</td>\n      <td>  True</td>\n    </tr>\n  </tbody>\n</table>\n<p>4 rows \u00d7 4 columns</p>\n</div>",
       "metadata": {},
       "output_type": "pyout",
       "prompt_number": 96,
       "text": "            one    two  three   four\nOhio      False  False  False  False\nColorado  False  False   True   True\nUtah       True   True   True   True\nNew York   True   True   True   True\n\n[4 rows x 4 columns]"
      }
     ],
     "prompt_number": 96
    },
    {
     "cell_type": "code",
     "collapsed": false,
     "input": "data[data < 5] = 0",
     "language": "python",
     "metadata": {},
     "outputs": [],
     "prompt_number": 97
    },
    {
     "cell_type": "code",
     "collapsed": false,
     "input": "data",
     "language": "python",
     "metadata": {},
     "outputs": [
      {
       "html": "<div style=\"max-height:1000px;max-width:1500px;overflow:auto;\">\n<table border=\"1\" class=\"dataframe\">\n  <thead>\n    <tr style=\"text-align: right;\">\n      <th></th>\n      <th>one</th>\n      <th>two</th>\n      <th>three</th>\n      <th>four</th>\n    </tr>\n  </thead>\n  <tbody>\n    <tr>\n      <th>Ohio</th>\n      <td>  0</td>\n      <td>  0</td>\n      <td>  0</td>\n      <td>  0</td>\n    </tr>\n    <tr>\n      <th>Colorado</th>\n      <td>  0</td>\n      <td>  5</td>\n      <td>  6</td>\n      <td>  7</td>\n    </tr>\n    <tr>\n      <th>Utah</th>\n      <td>  8</td>\n      <td>  9</td>\n      <td> 10</td>\n      <td> 11</td>\n    </tr>\n    <tr>\n      <th>New York</th>\n      <td> 12</td>\n      <td> 13</td>\n      <td> 14</td>\n      <td> 15</td>\n    </tr>\n  </tbody>\n</table>\n<p>4 rows \u00d7 4 columns</p>\n</div>",
       "metadata": {},
       "output_type": "pyout",
       "prompt_number": 98,
       "text": "          one  two  three  four\nOhio        0    0      0     0\nColorado    0    5      6     7\nUtah        8    9     10    11\nNew York   12   13     14    15\n\n[4 rows x 4 columns]"
      }
     ],
     "prompt_number": 98
    },
    {
     "cell_type": "raw",
     "metadata": {},
     "source": "Special indexing field ix - enables to select a subset of rows and columns from a DataFrame with NumPy notation plus axis labels."
    },
    {
     "cell_type": "code",
     "collapsed": false,
     "input": "data.ix['Colorado', ['two', 'three']]",
     "language": "python",
     "metadata": {},
     "outputs": [
      {
       "metadata": {},
       "output_type": "pyout",
       "prompt_number": 99,
       "text": "two      5\nthree    6\nName: Colorado, dtype: int32"
      }
     ],
     "prompt_number": 99
    },
    {
     "cell_type": "code",
     "collapsed": false,
     "input": "data.ix[['Colorado', 'Utah'], [3, 0, 1]]",
     "language": "python",
     "metadata": {},
     "outputs": [
      {
       "html": "<div style=\"max-height:1000px;max-width:1500px;overflow:auto;\">\n<table border=\"1\" class=\"dataframe\">\n  <thead>\n    <tr style=\"text-align: right;\">\n      <th></th>\n      <th>four</th>\n      <th>one</th>\n      <th>two</th>\n    </tr>\n  </thead>\n  <tbody>\n    <tr>\n      <th>Colorado</th>\n      <td>  7</td>\n      <td> 0</td>\n      <td> 5</td>\n    </tr>\n    <tr>\n      <th>Utah</th>\n      <td> 11</td>\n      <td> 8</td>\n      <td> 9</td>\n    </tr>\n  </tbody>\n</table>\n<p>2 rows \u00d7 3 columns</p>\n</div>",
       "metadata": {},
       "output_type": "pyout",
       "prompt_number": 100,
       "text": "          four  one  two\nColorado     7    0    5\nUtah        11    8    9\n\n[2 rows x 3 columns]"
      }
     ],
     "prompt_number": 100
    },
    {
     "cell_type": "code",
     "collapsed": false,
     "input": "data.ix[2]",
     "language": "python",
     "metadata": {},
     "outputs": [
      {
       "metadata": {},
       "output_type": "pyout",
       "prompt_number": 101,
       "text": "one       8\ntwo       9\nthree    10\nfour     11\nName: Utah, dtype: int32"
      }
     ],
     "prompt_number": 101
    },
    {
     "cell_type": "code",
     "collapsed": false,
     "input": "data.ix[:'Utah', 'two']",
     "language": "python",
     "metadata": {},
     "outputs": [
      {
       "metadata": {},
       "output_type": "pyout",
       "prompt_number": 102,
       "text": "Ohio        0\nColorado    5\nUtah        9\nName: two, dtype: int32"
      }
     ],
     "prompt_number": 102
    },
    {
     "cell_type": "code",
     "collapsed": false,
     "input": "data.ix[data.three > 5, :3]",
     "language": "python",
     "metadata": {},
     "outputs": [
      {
       "html": "<div style=\"max-height:1000px;max-width:1500px;overflow:auto;\">\n<table border=\"1\" class=\"dataframe\">\n  <thead>\n    <tr style=\"text-align: right;\">\n      <th></th>\n      <th>one</th>\n      <th>two</th>\n      <th>three</th>\n    </tr>\n  </thead>\n  <tbody>\n    <tr>\n      <th>Colorado</th>\n      <td>  0</td>\n      <td>  5</td>\n      <td>  6</td>\n    </tr>\n    <tr>\n      <th>Utah</th>\n      <td>  8</td>\n      <td>  9</td>\n      <td> 10</td>\n    </tr>\n    <tr>\n      <th>New York</th>\n      <td> 12</td>\n      <td> 13</td>\n      <td> 14</td>\n    </tr>\n  </tbody>\n</table>\n<p>3 rows \u00d7 3 columns</p>\n</div>",
       "metadata": {},
       "output_type": "pyout",
       "prompt_number": 103,
       "text": "          one  two  three\nColorado    0    5      6\nUtah        8    9     10\nNew York   12   13     14\n\n[3 rows x 3 columns]"
      }
     ],
     "prompt_number": 103
    },
    {
     "cell_type": "heading",
     "level": 3,
     "metadata": {},
     "source": "Arithmetic and Data Alignment"
    },
    {
     "cell_type": "raw",
     "metadata": {},
     "source": "When adding together objects, if any index pairs are not the same, the respective index in the result will be the union of the index pairs. "
    },
    {
     "cell_type": "code",
     "collapsed": false,
     "input": "s1 = Series([7.3, -2.5, 3.4, 1.5], index=['a', 'c', 'd', 'e'])",
     "language": "python",
     "metadata": {},
     "outputs": [],
     "prompt_number": 105
    },
    {
     "cell_type": "code",
     "collapsed": false,
     "input": "s2 = Series([-2.1, 3.6, -1.5, 4, 3.1], index=['a', 'c', 'e', 'f', 'g'])",
     "language": "python",
     "metadata": {},
     "outputs": [],
     "prompt_number": 106
    },
    {
     "cell_type": "code",
     "collapsed": false,
     "input": "s1",
     "language": "python",
     "metadata": {},
     "outputs": [
      {
       "metadata": {},
       "output_type": "pyout",
       "prompt_number": 107,
       "text": "a    7.3\nc   -2.5\nd    3.4\ne    1.5\ndtype: float64"
      }
     ],
     "prompt_number": 107
    },
    {
     "cell_type": "code",
     "collapsed": false,
     "input": "s2",
     "language": "python",
     "metadata": {},
     "outputs": [
      {
       "metadata": {},
       "output_type": "pyout",
       "prompt_number": 108,
       "text": "a   -2.1\nc    3.6\ne   -1.5\nf    4.0\ng    3.1\ndtype: float64"
      }
     ],
     "prompt_number": 108
    },
    {
     "cell_type": "code",
     "collapsed": false,
     "input": "s1 + s2",
     "language": "python",
     "metadata": {},
     "outputs": [
      {
       "metadata": {},
       "output_type": "pyout",
       "prompt_number": 109,
       "text": "a    5.2\nc    1.1\nd    NaN\ne    0.0\nf    NaN\ng    NaN\ndtype: float64"
      }
     ],
     "prompt_number": 109
    },
    {
     "cell_type": "raw",
     "metadata": {},
     "source": "The internal data alignment introduces NA values in the indices that don't overlap. Missing values propagate in arithmetic computations.\n\nIn the DataFrame case, alignment is performed on both the rows and columns:"
    },
    {
     "cell_type": "code",
     "collapsed": false,
     "input": "df1 = DataFrame(np.arange(9.).reshape((3, 3)), columns=list('bcd'),\n                index=['Ohio', 'Texas', 'Colorado'])",
     "language": "python",
     "metadata": {},
     "outputs": [],
     "prompt_number": 110
    },
    {
     "cell_type": "code",
     "collapsed": false,
     "input": "df2 = DataFrame(np.arange(12.).reshape((4, 3)), columns=list('bde'),\n                index=['Utah', 'Ohio', 'Texas', 'Oregon'])",
     "language": "python",
     "metadata": {},
     "outputs": [],
     "prompt_number": 111
    },
    {
     "cell_type": "code",
     "collapsed": false,
     "input": "df1",
     "language": "python",
     "metadata": {},
     "outputs": [
      {
       "html": "<div style=\"max-height:1000px;max-width:1500px;overflow:auto;\">\n<table border=\"1\" class=\"dataframe\">\n  <thead>\n    <tr style=\"text-align: right;\">\n      <th></th>\n      <th>b</th>\n      <th>c</th>\n      <th>d</th>\n    </tr>\n  </thead>\n  <tbody>\n    <tr>\n      <th>Ohio</th>\n      <td> 0</td>\n      <td> 1</td>\n      <td> 2</td>\n    </tr>\n    <tr>\n      <th>Texas</th>\n      <td> 3</td>\n      <td> 4</td>\n      <td> 5</td>\n    </tr>\n    <tr>\n      <th>Colorado</th>\n      <td> 6</td>\n      <td> 7</td>\n      <td> 8</td>\n    </tr>\n  </tbody>\n</table>\n<p>3 rows \u00d7 3 columns</p>\n</div>",
       "metadata": {},
       "output_type": "pyout",
       "prompt_number": 112,
       "text": "          b  c  d\nOhio      0  1  2\nTexas     3  4  5\nColorado  6  7  8\n\n[3 rows x 3 columns]"
      }
     ],
     "prompt_number": 112
    },
    {
     "cell_type": "code",
     "collapsed": false,
     "input": "df2",
     "language": "python",
     "metadata": {},
     "outputs": [
      {
       "html": "<div style=\"max-height:1000px;max-width:1500px;overflow:auto;\">\n<table border=\"1\" class=\"dataframe\">\n  <thead>\n    <tr style=\"text-align: right;\">\n      <th></th>\n      <th>b</th>\n      <th>d</th>\n      <th>e</th>\n    </tr>\n  </thead>\n  <tbody>\n    <tr>\n      <th>Utah</th>\n      <td> 0</td>\n      <td>  1</td>\n      <td>  2</td>\n    </tr>\n    <tr>\n      <th>Ohio</th>\n      <td> 3</td>\n      <td>  4</td>\n      <td>  5</td>\n    </tr>\n    <tr>\n      <th>Texas</th>\n      <td> 6</td>\n      <td>  7</td>\n      <td>  8</td>\n    </tr>\n    <tr>\n      <th>Oregon</th>\n      <td> 9</td>\n      <td> 10</td>\n      <td> 11</td>\n    </tr>\n  </tbody>\n</table>\n<p>4 rows \u00d7 3 columns</p>\n</div>",
       "metadata": {},
       "output_type": "pyout",
       "prompt_number": 113,
       "text": "        b   d   e\nUtah    0   1   2\nOhio    3   4   5\nTexas   6   7   8\nOregon  9  10  11\n\n[4 rows x 3 columns]"
      }
     ],
     "prompt_number": 113
    },
    {
     "cell_type": "code",
     "collapsed": false,
     "input": "df1 + df2",
     "language": "python",
     "metadata": {},
     "outputs": [
      {
       "html": "<div style=\"max-height:1000px;max-width:1500px;overflow:auto;\">\n<table border=\"1\" class=\"dataframe\">\n  <thead>\n    <tr style=\"text-align: right;\">\n      <th></th>\n      <th>b</th>\n      <th>c</th>\n      <th>d</th>\n      <th>e</th>\n    </tr>\n  </thead>\n  <tbody>\n    <tr>\n      <th>Colorado</th>\n      <td>NaN</td>\n      <td>NaN</td>\n      <td>NaN</td>\n      <td>NaN</td>\n    </tr>\n    <tr>\n      <th>Ohio</th>\n      <td>  3</td>\n      <td>NaN</td>\n      <td>  6</td>\n      <td>NaN</td>\n    </tr>\n    <tr>\n      <th>Oregon</th>\n      <td>NaN</td>\n      <td>NaN</td>\n      <td>NaN</td>\n      <td>NaN</td>\n    </tr>\n    <tr>\n      <th>Texas</th>\n      <td>  9</td>\n      <td>NaN</td>\n      <td> 12</td>\n      <td>NaN</td>\n    </tr>\n    <tr>\n      <th>Utah</th>\n      <td>NaN</td>\n      <td>NaN</td>\n      <td>NaN</td>\n      <td>NaN</td>\n    </tr>\n  </tbody>\n</table>\n<p>5 rows \u00d7 4 columns</p>\n</div>",
       "metadata": {},
       "output_type": "pyout",
       "prompt_number": 114,
       "text": "           b   c   d   e\nColorado NaN NaN NaN NaN\nOhio       3 NaN   6 NaN\nOregon   NaN NaN NaN NaN\nTexas      9 NaN  12 NaN\nUtah     NaN NaN NaN NaN\n\n[5 rows x 4 columns]"
      }
     ],
     "prompt_number": 114
    },
    {
     "cell_type": "heading",
     "level": 2,
     "metadata": {},
     "source": "Arithmetic methods with fill values"
    },
    {
     "cell_type": "raw",
     "metadata": {},
     "source": "In arithmetic operations between differently-indexed objects, can fill with a special value, like 0, when an axis label is found in one object but not the other:"
    },
    {
     "cell_type": "code",
     "collapsed": false,
     "input": "df1 = DataFrame(np.arange(12.).reshape((3, 4)), columns=list('abcd'))",
     "language": "python",
     "metadata": {},
     "outputs": [],
     "prompt_number": 116
    },
    {
     "cell_type": "code",
     "collapsed": false,
     "input": "df2 = DataFrame(np.arange(20.).reshape((4, 5)), columns=list('abcde'))",
     "language": "python",
     "metadata": {},
     "outputs": [],
     "prompt_number": 117
    },
    {
     "cell_type": "code",
     "collapsed": false,
     "input": "df1",
     "language": "python",
     "metadata": {},
     "outputs": [
      {
       "html": "<div style=\"max-height:1000px;max-width:1500px;overflow:auto;\">\n<table border=\"1\" class=\"dataframe\">\n  <thead>\n    <tr style=\"text-align: right;\">\n      <th></th>\n      <th>a</th>\n      <th>b</th>\n      <th>c</th>\n      <th>d</th>\n    </tr>\n  </thead>\n  <tbody>\n    <tr>\n      <th>0</th>\n      <td> 0</td>\n      <td> 1</td>\n      <td>  2</td>\n      <td>  3</td>\n    </tr>\n    <tr>\n      <th>1</th>\n      <td> 4</td>\n      <td> 5</td>\n      <td>  6</td>\n      <td>  7</td>\n    </tr>\n    <tr>\n      <th>2</th>\n      <td> 8</td>\n      <td> 9</td>\n      <td> 10</td>\n      <td> 11</td>\n    </tr>\n  </tbody>\n</table>\n<p>3 rows \u00d7 4 columns</p>\n</div>",
       "metadata": {},
       "output_type": "pyout",
       "prompt_number": 118,
       "text": "   a  b   c   d\n0  0  1   2   3\n1  4  5   6   7\n2  8  9  10  11\n\n[3 rows x 4 columns]"
      }
     ],
     "prompt_number": 118
    },
    {
     "cell_type": "code",
     "collapsed": false,
     "input": "df2",
     "language": "python",
     "metadata": {},
     "outputs": [
      {
       "html": "<div style=\"max-height:1000px;max-width:1500px;overflow:auto;\">\n<table border=\"1\" class=\"dataframe\">\n  <thead>\n    <tr style=\"text-align: right;\">\n      <th></th>\n      <th>a</th>\n      <th>b</th>\n      <th>c</th>\n      <th>d</th>\n      <th>e</th>\n    </tr>\n  </thead>\n  <tbody>\n    <tr>\n      <th>0</th>\n      <td>  0</td>\n      <td>  1</td>\n      <td>  2</td>\n      <td>  3</td>\n      <td>  4</td>\n    </tr>\n    <tr>\n      <th>1</th>\n      <td>  5</td>\n      <td>  6</td>\n      <td>  7</td>\n      <td>  8</td>\n      <td>  9</td>\n    </tr>\n    <tr>\n      <th>2</th>\n      <td> 10</td>\n      <td> 11</td>\n      <td> 12</td>\n      <td> 13</td>\n      <td> 14</td>\n    </tr>\n    <tr>\n      <th>3</th>\n      <td> 15</td>\n      <td> 16</td>\n      <td> 17</td>\n      <td> 18</td>\n      <td> 19</td>\n    </tr>\n  </tbody>\n</table>\n<p>4 rows \u00d7 5 columns</p>\n</div>",
       "metadata": {},
       "output_type": "pyout",
       "prompt_number": 119,
       "text": "    a   b   c   d   e\n0   0   1   2   3   4\n1   5   6   7   8   9\n2  10  11  12  13  14\n3  15  16  17  18  19\n\n[4 rows x 5 columns]"
      }
     ],
     "prompt_number": 119
    },
    {
     "cell_type": "code",
     "collapsed": false,
     "input": "df1 + df2",
     "language": "python",
     "metadata": {},
     "outputs": [
      {
       "html": "<div style=\"max-height:1000px;max-width:1500px;overflow:auto;\">\n<table border=\"1\" class=\"dataframe\">\n  <thead>\n    <tr style=\"text-align: right;\">\n      <th></th>\n      <th>a</th>\n      <th>b</th>\n      <th>c</th>\n      <th>d</th>\n      <th>e</th>\n    </tr>\n  </thead>\n  <tbody>\n    <tr>\n      <th>0</th>\n      <td>  0</td>\n      <td>  2</td>\n      <td>  4</td>\n      <td>  6</td>\n      <td>NaN</td>\n    </tr>\n    <tr>\n      <th>1</th>\n      <td>  9</td>\n      <td> 11</td>\n      <td> 13</td>\n      <td> 15</td>\n      <td>NaN</td>\n    </tr>\n    <tr>\n      <th>2</th>\n      <td> 18</td>\n      <td> 20</td>\n      <td> 22</td>\n      <td> 24</td>\n      <td>NaN</td>\n    </tr>\n    <tr>\n      <th>3</th>\n      <td>NaN</td>\n      <td>NaN</td>\n      <td>NaN</td>\n      <td>NaN</td>\n      <td>NaN</td>\n    </tr>\n  </tbody>\n</table>\n<p>4 rows \u00d7 5 columns</p>\n</div>",
       "metadata": {},
       "output_type": "pyout",
       "prompt_number": 120,
       "text": "    a   b   c   d   e\n0   0   2   4   6 NaN\n1   9  11  13  15 NaN\n2  18  20  22  24 NaN\n3 NaN NaN NaN NaN NaN\n\n[4 rows x 5 columns]"
      }
     ],
     "prompt_number": 120
    },
    {
     "cell_type": "code",
     "collapsed": false,
     "input": "df1.add(df2, fill_value=0)",
     "language": "python",
     "metadata": {},
     "outputs": [
      {
       "html": "<div style=\"max-height:1000px;max-width:1500px;overflow:auto;\">\n<table border=\"1\" class=\"dataframe\">\n  <thead>\n    <tr style=\"text-align: right;\">\n      <th></th>\n      <th>a</th>\n      <th>b</th>\n      <th>c</th>\n      <th>d</th>\n      <th>e</th>\n    </tr>\n  </thead>\n  <tbody>\n    <tr>\n      <th>0</th>\n      <td>  0</td>\n      <td>  2</td>\n      <td>  4</td>\n      <td>  6</td>\n      <td>  4</td>\n    </tr>\n    <tr>\n      <th>1</th>\n      <td>  9</td>\n      <td> 11</td>\n      <td> 13</td>\n      <td> 15</td>\n      <td>  9</td>\n    </tr>\n    <tr>\n      <th>2</th>\n      <td> 18</td>\n      <td> 20</td>\n      <td> 22</td>\n      <td> 24</td>\n      <td> 14</td>\n    </tr>\n    <tr>\n      <th>3</th>\n      <td> 15</td>\n      <td> 16</td>\n      <td> 17</td>\n      <td> 18</td>\n      <td> 19</td>\n    </tr>\n  </tbody>\n</table>\n<p>4 rows \u00d7 5 columns</p>\n</div>",
       "metadata": {},
       "output_type": "pyout",
       "prompt_number": 121,
       "text": "    a   b   c   d   e\n0   0   2   4   6   4\n1   9  11  13  15   9\n2  18  20  22  24  14\n3  15  16  17  18  19\n\n[4 rows x 5 columns]"
      }
     ],
     "prompt_number": 121
    },
    {
     "cell_type": "raw",
     "metadata": {},
     "source": "When reindexing a Series or DataFrame, can also specify a different fill value:"
    },
    {
     "cell_type": "code",
     "collapsed": false,
     "input": "df1.reindex(columns=df2.columns, fill_value=0)",
     "language": "python",
     "metadata": {},
     "outputs": [
      {
       "html": "<div style=\"max-height:1000px;max-width:1500px;overflow:auto;\">\n<table border=\"1\" class=\"dataframe\">\n  <thead>\n    <tr style=\"text-align: right;\">\n      <th></th>\n      <th>a</th>\n      <th>b</th>\n      <th>c</th>\n      <th>d</th>\n      <th>e</th>\n    </tr>\n  </thead>\n  <tbody>\n    <tr>\n      <th>0</th>\n      <td> 0</td>\n      <td> 1</td>\n      <td>  2</td>\n      <td>  3</td>\n      <td> 0</td>\n    </tr>\n    <tr>\n      <th>1</th>\n      <td> 4</td>\n      <td> 5</td>\n      <td>  6</td>\n      <td>  7</td>\n      <td> 0</td>\n    </tr>\n    <tr>\n      <th>2</th>\n      <td> 8</td>\n      <td> 9</td>\n      <td> 10</td>\n      <td> 11</td>\n      <td> 0</td>\n    </tr>\n  </tbody>\n</table>\n<p>3 rows \u00d7 5 columns</p>\n</div>",
       "metadata": {},
       "output_type": "pyout",
       "prompt_number": 122,
       "text": "   a  b   c   d  e\n0  0  1   2   3  0\n1  4  5   6   7  0\n2  8  9  10  11  0\n\n[3 rows x 5 columns]"
      }
     ],
     "prompt_number": 122
    },
    {
     "cell_type": "heading",
     "level": 2,
     "metadata": {},
     "source": "Operations Between DataFrame and Series"
    },
    {
     "cell_type": "code",
     "collapsed": false,
     "input": "arr = np.arange(12.).reshape((3, 4))",
     "language": "python",
     "metadata": {},
     "outputs": [],
     "prompt_number": 123
    },
    {
     "cell_type": "code",
     "collapsed": false,
     "input": "arr",
     "language": "python",
     "metadata": {},
     "outputs": [
      {
       "metadata": {},
       "output_type": "pyout",
       "prompt_number": 124,
       "text": "array([[  0.,   1.,   2.,   3.],\n       [  4.,   5.,   6.,   7.],\n       [  8.,   9.,  10.,  11.]])"
      }
     ],
     "prompt_number": 124
    },
    {
     "cell_type": "code",
     "collapsed": false,
     "input": "arr[0]",
     "language": "python",
     "metadata": {},
     "outputs": [
      {
       "metadata": {},
       "output_type": "pyout",
       "prompt_number": 125,
       "text": "array([ 0.,  1.,  2.,  3.])"
      }
     ],
     "prompt_number": 125
    },
    {
     "cell_type": "code",
     "collapsed": false,
     "input": "arr - arr[0]",
     "language": "python",
     "metadata": {},
     "outputs": [
      {
       "metadata": {},
       "output_type": "pyout",
       "prompt_number": 127,
       "text": "array([[ 0.,  0.,  0.,  0.],\n       [ 4.,  4.,  4.,  4.],\n       [ 8.,  8.,  8.,  8.]])"
      }
     ],
     "prompt_number": 127
    },
    {
     "cell_type": "raw",
     "metadata": {},
     "source": "This is referred to as broadcasting. Operations between a DataFrame and a Series are similar:"
    },
    {
     "cell_type": "code",
     "collapsed": false,
     "input": "frame = DataFrame(np.arange(12.).reshape((4, 3)), columns=list('bde'),\n                  index=['Utah', 'Ohio', 'Texas', 'Oregon'])",
     "language": "python",
     "metadata": {},
     "outputs": [],
     "prompt_number": 128
    },
    {
     "cell_type": "code",
     "collapsed": false,
     "input": "series = frame.ix[0]",
     "language": "python",
     "metadata": {},
     "outputs": [],
     "prompt_number": 129
    },
    {
     "cell_type": "code",
     "collapsed": false,
     "input": "frame",
     "language": "python",
     "metadata": {},
     "outputs": [
      {
       "html": "<div style=\"max-height:1000px;max-width:1500px;overflow:auto;\">\n<table border=\"1\" class=\"dataframe\">\n  <thead>\n    <tr style=\"text-align: right;\">\n      <th></th>\n      <th>b</th>\n      <th>d</th>\n      <th>e</th>\n    </tr>\n  </thead>\n  <tbody>\n    <tr>\n      <th>Utah</th>\n      <td> 0</td>\n      <td>  1</td>\n      <td>  2</td>\n    </tr>\n    <tr>\n      <th>Ohio</th>\n      <td> 3</td>\n      <td>  4</td>\n      <td>  5</td>\n    </tr>\n    <tr>\n      <th>Texas</th>\n      <td> 6</td>\n      <td>  7</td>\n      <td>  8</td>\n    </tr>\n    <tr>\n      <th>Oregon</th>\n      <td> 9</td>\n      <td> 10</td>\n      <td> 11</td>\n    </tr>\n  </tbody>\n</table>\n<p>4 rows \u00d7 3 columns</p>\n</div>",
       "metadata": {},
       "output_type": "pyout",
       "prompt_number": 130,
       "text": "        b   d   e\nUtah    0   1   2\nOhio    3   4   5\nTexas   6   7   8\nOregon  9  10  11\n\n[4 rows x 3 columns]"
      }
     ],
     "prompt_number": 130
    },
    {
     "cell_type": "code",
     "collapsed": false,
     "input": "series",
     "language": "python",
     "metadata": {},
     "outputs": [
      {
       "metadata": {},
       "output_type": "pyout",
       "prompt_number": 131,
       "text": "b    0\nd    1\ne    2\nName: Utah, dtype: float64"
      }
     ],
     "prompt_number": 131
    },
    {
     "cell_type": "raw",
     "metadata": {},
     "source": "If an index value is not found in either the DataFrame's columns or the Serie's index, the objects will be reindexed to form the union:"
    },
    {
     "cell_type": "code",
     "collapsed": false,
     "input": "series2 = Series(range(3), index=['b', 'e', 'f'])",
     "language": "python",
     "metadata": {},
     "outputs": [],
     "prompt_number": 132
    },
    {
     "cell_type": "code",
     "collapsed": false,
     "input": "frame + series2",
     "language": "python",
     "metadata": {},
     "outputs": [
      {
       "html": "<div style=\"max-height:1000px;max-width:1500px;overflow:auto;\">\n<table border=\"1\" class=\"dataframe\">\n  <thead>\n    <tr style=\"text-align: right;\">\n      <th></th>\n      <th>b</th>\n      <th>d</th>\n      <th>e</th>\n      <th>f</th>\n    </tr>\n  </thead>\n  <tbody>\n    <tr>\n      <th>Utah</th>\n      <td> 0</td>\n      <td>NaN</td>\n      <td>  3</td>\n      <td>NaN</td>\n    </tr>\n    <tr>\n      <th>Ohio</th>\n      <td> 3</td>\n      <td>NaN</td>\n      <td>  6</td>\n      <td>NaN</td>\n    </tr>\n    <tr>\n      <th>Texas</th>\n      <td> 6</td>\n      <td>NaN</td>\n      <td>  9</td>\n      <td>NaN</td>\n    </tr>\n    <tr>\n      <th>Oregon</th>\n      <td> 9</td>\n      <td>NaN</td>\n      <td> 12</td>\n      <td>NaN</td>\n    </tr>\n  </tbody>\n</table>\n<p>4 rows \u00d7 4 columns</p>\n</div>",
       "metadata": {},
       "output_type": "pyout",
       "prompt_number": 133,
       "text": "        b   d   e   f\nUtah    0 NaN   3 NaN\nOhio    3 NaN   6 NaN\nTexas   6 NaN   9 NaN\nOregon  9 NaN  12 NaN\n\n[4 rows x 4 columns]"
      }
     ],
     "prompt_number": 133
    },
    {
     "cell_type": "raw",
     "metadata": {},
     "source": "To broadcast over the columns, matching on the rows, need to use one of the arithmetic methods. "
    },
    {
     "cell_type": "code",
     "collapsed": false,
     "input": "series3 = frame['d']",
     "language": "python",
     "metadata": {},
     "outputs": [],
     "prompt_number": 135
    },
    {
     "cell_type": "code",
     "collapsed": false,
     "input": "frame",
     "language": "python",
     "metadata": {},
     "outputs": [
      {
       "html": "<div style=\"max-height:1000px;max-width:1500px;overflow:auto;\">\n<table border=\"1\" class=\"dataframe\">\n  <thead>\n    <tr style=\"text-align: right;\">\n      <th></th>\n      <th>b</th>\n      <th>d</th>\n      <th>e</th>\n    </tr>\n  </thead>\n  <tbody>\n    <tr>\n      <th>Utah</th>\n      <td> 0</td>\n      <td>  1</td>\n      <td>  2</td>\n    </tr>\n    <tr>\n      <th>Ohio</th>\n      <td> 3</td>\n      <td>  4</td>\n      <td>  5</td>\n    </tr>\n    <tr>\n      <th>Texas</th>\n      <td> 6</td>\n      <td>  7</td>\n      <td>  8</td>\n    </tr>\n    <tr>\n      <th>Oregon</th>\n      <td> 9</td>\n      <td> 10</td>\n      <td> 11</td>\n    </tr>\n  </tbody>\n</table>\n<p>4 rows \u00d7 3 columns</p>\n</div>",
       "metadata": {},
       "output_type": "pyout",
       "prompt_number": 136,
       "text": "        b   d   e\nUtah    0   1   2\nOhio    3   4   5\nTexas   6   7   8\nOregon  9  10  11\n\n[4 rows x 3 columns]"
      }
     ],
     "prompt_number": 136
    },
    {
     "cell_type": "code",
     "collapsed": false,
     "input": "series3",
     "language": "python",
     "metadata": {},
     "outputs": [
      {
       "metadata": {},
       "output_type": "pyout",
       "prompt_number": 137,
       "text": "Utah       1\nOhio       4\nTexas      7\nOregon    10\nName: d, dtype: float64"
      }
     ],
     "prompt_number": 137
    },
    {
     "cell_type": "code",
     "collapsed": false,
     "input": "frame.sub(series3, axis=0)",
     "language": "python",
     "metadata": {},
     "outputs": [
      {
       "html": "<div style=\"max-height:1000px;max-width:1500px;overflow:auto;\">\n<table border=\"1\" class=\"dataframe\">\n  <thead>\n    <tr style=\"text-align: right;\">\n      <th></th>\n      <th>b</th>\n      <th>d</th>\n      <th>e</th>\n    </tr>\n  </thead>\n  <tbody>\n    <tr>\n      <th>Utah</th>\n      <td>-1</td>\n      <td> 0</td>\n      <td> 1</td>\n    </tr>\n    <tr>\n      <th>Ohio</th>\n      <td>-1</td>\n      <td> 0</td>\n      <td> 1</td>\n    </tr>\n    <tr>\n      <th>Texas</th>\n      <td>-1</td>\n      <td> 0</td>\n      <td> 1</td>\n    </tr>\n    <tr>\n      <th>Oregon</th>\n      <td>-1</td>\n      <td> 0</td>\n      <td> 1</td>\n    </tr>\n  </tbody>\n</table>\n<p>4 rows \u00d7 3 columns</p>\n</div>",
       "metadata": {},
       "output_type": "pyout",
       "prompt_number": 138,
       "text": "        b  d  e\nUtah   -1  0  1\nOhio   -1  0  1\nTexas  -1  0  1\nOregon -1  0  1\n\n[4 rows x 3 columns]"
      }
     ],
     "prompt_number": 138
    },
    {
     "cell_type": "raw",
     "metadata": {},
     "source": "The axis number that is passed is the axis to match on."
    },
    {
     "cell_type": "heading",
     "level": 2,
     "metadata": {},
     "source": "Function Application and Mapping"
    },
    {
     "cell_type": "raw",
     "metadata": {},
     "source": "NumPy ufuncs work with pandas objects:"
    },
    {
     "cell_type": "code",
     "collapsed": false,
     "input": "frame = DataFrame(np.random.randn(4, 3), columns=list('bde'),\n                  index=['Utah', 'Ohio', 'Texas', 'Oregon'])",
     "language": "python",
     "metadata": {},
     "outputs": [],
     "prompt_number": 139
    },
    {
     "cell_type": "code",
     "collapsed": false,
     "input": "frame",
     "language": "python",
     "metadata": {},
     "outputs": [
      {
       "html": "<div style=\"max-height:1000px;max-width:1500px;overflow:auto;\">\n<table border=\"1\" class=\"dataframe\">\n  <thead>\n    <tr style=\"text-align: right;\">\n      <th></th>\n      <th>b</th>\n      <th>d</th>\n      <th>e</th>\n    </tr>\n  </thead>\n  <tbody>\n    <tr>\n      <th>Utah</th>\n      <td> 0.652563</td>\n      <td>-1.290841</td>\n      <td>-0.843051</td>\n    </tr>\n    <tr>\n      <th>Ohio</th>\n      <td>-0.603713</td>\n      <td> 1.239292</td>\n      <td>-1.584471</td>\n    </tr>\n    <tr>\n      <th>Texas</th>\n      <td>-0.635387</td>\n      <td> 1.742165</td>\n      <td> 1.038018</td>\n    </tr>\n    <tr>\n      <th>Oregon</th>\n      <td> 1.299551</td>\n      <td> 0.353446</td>\n      <td> 0.383568</td>\n    </tr>\n  </tbody>\n</table>\n<p>4 rows \u00d7 3 columns</p>\n</div>",
       "metadata": {},
       "output_type": "pyout",
       "prompt_number": 140,
       "text": "               b         d         e\nUtah    0.652563 -1.290841 -0.843051\nOhio   -0.603713  1.239292 -1.584471\nTexas  -0.635387  1.742165  1.038018\nOregon  1.299551  0.353446  0.383568\n\n[4 rows x 3 columns]"
      }
     ],
     "prompt_number": 140
    },
    {
     "cell_type": "code",
     "collapsed": false,
     "input": "np.abs(frame)",
     "language": "python",
     "metadata": {},
     "outputs": [
      {
       "html": "<div style=\"max-height:1000px;max-width:1500px;overflow:auto;\">\n<table border=\"1\" class=\"dataframe\">\n  <thead>\n    <tr style=\"text-align: right;\">\n      <th></th>\n      <th>b</th>\n      <th>d</th>\n      <th>e</th>\n    </tr>\n  </thead>\n  <tbody>\n    <tr>\n      <th>Utah</th>\n      <td> 0.652563</td>\n      <td> 1.290841</td>\n      <td> 0.843051</td>\n    </tr>\n    <tr>\n      <th>Ohio</th>\n      <td> 0.603713</td>\n      <td> 1.239292</td>\n      <td> 1.584471</td>\n    </tr>\n    <tr>\n      <th>Texas</th>\n      <td> 0.635387</td>\n      <td> 1.742165</td>\n      <td> 1.038018</td>\n    </tr>\n    <tr>\n      <th>Oregon</th>\n      <td> 1.299551</td>\n      <td> 0.353446</td>\n      <td> 0.383568</td>\n    </tr>\n  </tbody>\n</table>\n<p>4 rows \u00d7 3 columns</p>\n</div>",
       "metadata": {},
       "output_type": "pyout",
       "prompt_number": 141,
       "text": "               b         d         e\nUtah    0.652563  1.290841  0.843051\nOhio    0.603713  1.239292  1.584471\nTexas   0.635387  1.742165  1.038018\nOregon  1.299551  0.353446  0.383568\n\n[4 rows x 3 columns]"
      }
     ],
     "prompt_number": 141
    },
    {
     "cell_type": "raw",
     "metadata": {},
     "source": "DataFrame's apply function applies a function on 1D arrays to each column or row."
    },
    {
     "cell_type": "code",
     "collapsed": false,
     "input": "f = lambda x: x.max() - x.min()",
     "language": "python",
     "metadata": {},
     "outputs": [],
     "prompt_number": 142
    },
    {
     "cell_type": "code",
     "collapsed": false,
     "input": "frame.apply(f)",
     "language": "python",
     "metadata": {},
     "outputs": [
      {
       "metadata": {},
       "output_type": "pyout",
       "prompt_number": 143,
       "text": "b    1.934938\nd    3.033006\ne    2.622489\ndtype: float64"
      }
     ],
     "prompt_number": 143
    },
    {
     "cell_type": "code",
     "collapsed": false,
     "input": "frame.apply(f, axis=1)",
     "language": "python",
     "metadata": {},
     "outputs": [
      {
       "metadata": {},
       "output_type": "pyout",
       "prompt_number": 145,
       "text": "Utah      1.943404\nOhio      2.823763\nTexas     2.377552\nOregon    0.946105\ndtype: float64"
      }
     ],
     "prompt_number": 145
    },
    {
     "cell_type": "code",
     "collapsed": false,
     "input": "def f(x):\n    return Series([x.min(), x.max()], index=['min', 'max'])",
     "language": "python",
     "metadata": {},
     "outputs": [],
     "prompt_number": 147
    },
    {
     "cell_type": "code",
     "collapsed": false,
     "input": "frame.apply(f)",
     "language": "python",
     "metadata": {},
     "outputs": [
      {
       "html": "<div style=\"max-height:1000px;max-width:1500px;overflow:auto;\">\n<table border=\"1\" class=\"dataframe\">\n  <thead>\n    <tr style=\"text-align: right;\">\n      <th></th>\n      <th>b</th>\n      <th>d</th>\n      <th>e</th>\n    </tr>\n  </thead>\n  <tbody>\n    <tr>\n      <th>min</th>\n      <td>-0.635387</td>\n      <td>-1.290841</td>\n      <td>-1.584471</td>\n    </tr>\n    <tr>\n      <th>max</th>\n      <td> 1.299551</td>\n      <td> 1.742165</td>\n      <td> 1.038018</td>\n    </tr>\n  </tbody>\n</table>\n<p>2 rows \u00d7 3 columns</p>\n</div>",
       "metadata": {},
       "output_type": "pyout",
       "prompt_number": 148,
       "text": "            b         d         e\nmin -0.635387 -1.290841 -1.584471\nmax  1.299551  1.742165  1.038018\n\n[2 rows x 3 columns]"
      }
     ],
     "prompt_number": 148
    },
    {
     "cell_type": "heading",
     "level": 2,
     "metadata": {},
     "source": "Sorting and Ranking"
    },
    {
     "cell_type": "raw",
     "metadata": {},
     "source": "To sort by row or column index, use the sort_index method, which returns a new, sorted object:"
    },
    {
     "cell_type": "code",
     "collapsed": false,
     "input": "obj = Series(range(4), index=['d', 'a', 'b', 'c'])",
     "language": "python",
     "metadata": {},
     "outputs": [],
     "prompt_number": 149
    },
    {
     "cell_type": "code",
     "collapsed": false,
     "input": "obj.sort_index()",
     "language": "python",
     "metadata": {},
     "outputs": [
      {
       "metadata": {},
       "output_type": "pyout",
       "prompt_number": 150,
       "text": "a    1\nb    2\nc    3\nd    0\ndtype: int64"
      }
     ],
     "prompt_number": 150
    },
    {
     "cell_type": "code",
     "collapsed": false,
     "input": "frame.sort_index()",
     "language": "python",
     "metadata": {},
     "outputs": [
      {
       "html": "<div style=\"max-height:1000px;max-width:1500px;overflow:auto;\">\n<table border=\"1\" class=\"dataframe\">\n  <thead>\n    <tr style=\"text-align: right;\">\n      <th></th>\n      <th>b</th>\n      <th>d</th>\n      <th>e</th>\n    </tr>\n  </thead>\n  <tbody>\n    <tr>\n      <th>Ohio</th>\n      <td>-0.603713</td>\n      <td> 1.239292</td>\n      <td>-1.584471</td>\n    </tr>\n    <tr>\n      <th>Oregon</th>\n      <td> 1.299551</td>\n      <td> 0.353446</td>\n      <td> 0.383568</td>\n    </tr>\n    <tr>\n      <th>Texas</th>\n      <td>-0.635387</td>\n      <td> 1.742165</td>\n      <td> 1.038018</td>\n    </tr>\n    <tr>\n      <th>Utah</th>\n      <td> 0.652563</td>\n      <td>-1.290841</td>\n      <td>-0.843051</td>\n    </tr>\n  </tbody>\n</table>\n<p>4 rows \u00d7 3 columns</p>\n</div>",
       "metadata": {},
       "output_type": "pyout",
       "prompt_number": 151,
       "text": "               b         d         e\nOhio   -0.603713  1.239292 -1.584471\nOregon  1.299551  0.353446  0.383568\nTexas  -0.635387  1.742165  1.038018\nUtah    0.652563 -1.290841 -0.843051\n\n[4 rows x 3 columns]"
      }
     ],
     "prompt_number": 151
    },
    {
     "cell_type": "code",
     "collapsed": false,
     "input": "frame.sort_index(axis=1)",
     "language": "python",
     "metadata": {},
     "outputs": [
      {
       "html": "<div style=\"max-height:1000px;max-width:1500px;overflow:auto;\">\n<table border=\"1\" class=\"dataframe\">\n  <thead>\n    <tr style=\"text-align: right;\">\n      <th></th>\n      <th>b</th>\n      <th>d</th>\n      <th>e</th>\n    </tr>\n  </thead>\n  <tbody>\n    <tr>\n      <th>Utah</th>\n      <td> 0.652563</td>\n      <td>-1.290841</td>\n      <td>-0.843051</td>\n    </tr>\n    <tr>\n      <th>Ohio</th>\n      <td>-0.603713</td>\n      <td> 1.239292</td>\n      <td>-1.584471</td>\n    </tr>\n    <tr>\n      <th>Texas</th>\n      <td>-0.635387</td>\n      <td> 1.742165</td>\n      <td> 1.038018</td>\n    </tr>\n    <tr>\n      <th>Oregon</th>\n      <td> 1.299551</td>\n      <td> 0.353446</td>\n      <td> 0.383568</td>\n    </tr>\n  </tbody>\n</table>\n<p>4 rows \u00d7 3 columns</p>\n</div>",
       "metadata": {},
       "output_type": "pyout",
       "prompt_number": 152,
       "text": "               b         d         e\nUtah    0.652563 -1.290841 -0.843051\nOhio   -0.603713  1.239292 -1.584471\nTexas  -0.635387  1.742165  1.038018\nOregon  1.299551  0.353446  0.383568\n\n[4 rows x 3 columns]"
      }
     ],
     "prompt_number": 152
    },
    {
     "cell_type": "code",
     "collapsed": false,
     "input": "frame.sort_index(axis=1, ascending=False)",
     "language": "python",
     "metadata": {},
     "outputs": [
      {
       "html": "<div style=\"max-height:1000px;max-width:1500px;overflow:auto;\">\n<table border=\"1\" class=\"dataframe\">\n  <thead>\n    <tr style=\"text-align: right;\">\n      <th></th>\n      <th>e</th>\n      <th>d</th>\n      <th>b</th>\n    </tr>\n  </thead>\n  <tbody>\n    <tr>\n      <th>Utah</th>\n      <td>-0.843051</td>\n      <td>-1.290841</td>\n      <td> 0.652563</td>\n    </tr>\n    <tr>\n      <th>Ohio</th>\n      <td>-1.584471</td>\n      <td> 1.239292</td>\n      <td>-0.603713</td>\n    </tr>\n    <tr>\n      <th>Texas</th>\n      <td> 1.038018</td>\n      <td> 1.742165</td>\n      <td>-0.635387</td>\n    </tr>\n    <tr>\n      <th>Oregon</th>\n      <td> 0.383568</td>\n      <td> 0.353446</td>\n      <td> 1.299551</td>\n    </tr>\n  </tbody>\n</table>\n<p>4 rows \u00d7 3 columns</p>\n</div>",
       "metadata": {},
       "output_type": "pyout",
       "prompt_number": 153,
       "text": "               e         d         b\nUtah   -0.843051 -1.290841  0.652563\nOhio   -1.584471  1.239292 -0.603713\nTexas   1.038018  1.742165 -0.635387\nOregon  0.383568  0.353446  1.299551\n\n[4 rows x 3 columns]"
      }
     ],
     "prompt_number": 153
    },
    {
     "cell_type": "code",
     "collapsed": false,
     "input": "obj = Series([4, 7, -3, 2])",
     "language": "python",
     "metadata": {},
     "outputs": [],
     "prompt_number": 156
    },
    {
     "cell_type": "code",
     "collapsed": false,
     "input": "obj.order()",
     "language": "python",
     "metadata": {},
     "outputs": [
      {
       "metadata": {},
       "output_type": "pyout",
       "prompt_number": 157,
       "text": "2   -3\n3    2\n0    4\n1    7\ndtype: int64"
      }
     ],
     "prompt_number": 157
    },
    {
     "cell_type": "code",
     "collapsed": false,
     "input": "obj = Series([4, np.nan, 7, np.nan, -3, 2])",
     "language": "python",
     "metadata": {},
     "outputs": [],
     "prompt_number": 158
    },
    {
     "cell_type": "code",
     "collapsed": false,
     "input": "obj.order()",
     "language": "python",
     "metadata": {},
     "outputs": [
      {
       "metadata": {},
       "output_type": "pyout",
       "prompt_number": 159,
       "text": "4    -3\n5     2\n0     4\n2     7\n1   NaN\n3   NaN\ndtype: float64"
      }
     ],
     "prompt_number": 159
    },
    {
     "cell_type": "code",
     "collapsed": false,
     "input": "frame = DataFrame({'b': [4, 7, -3, 2], 'a': [0, 1, 0, 1]})",
     "language": "python",
     "metadata": {},
     "outputs": [],
     "prompt_number": 160
    },
    {
     "cell_type": "code",
     "collapsed": false,
     "input": "frame",
     "language": "python",
     "metadata": {},
     "outputs": [
      {
       "html": "<div style=\"max-height:1000px;max-width:1500px;overflow:auto;\">\n<table border=\"1\" class=\"dataframe\">\n  <thead>\n    <tr style=\"text-align: right;\">\n      <th></th>\n      <th>a</th>\n      <th>b</th>\n    </tr>\n  </thead>\n  <tbody>\n    <tr>\n      <th>0</th>\n      <td> 0</td>\n      <td> 4</td>\n    </tr>\n    <tr>\n      <th>1</th>\n      <td> 1</td>\n      <td> 7</td>\n    </tr>\n    <tr>\n      <th>2</th>\n      <td> 0</td>\n      <td>-3</td>\n    </tr>\n    <tr>\n      <th>3</th>\n      <td> 1</td>\n      <td> 2</td>\n    </tr>\n  </tbody>\n</table>\n<p>4 rows \u00d7 2 columns</p>\n</div>",
       "metadata": {},
       "output_type": "pyout",
       "prompt_number": 161,
       "text": "   a  b\n0  0  4\n1  1  7\n2  0 -3\n3  1  2\n\n[4 rows x 2 columns]"
      }
     ],
     "prompt_number": 161
    },
    {
     "cell_type": "code",
     "collapsed": false,
     "input": "frame.sort_index(by='b')",
     "language": "python",
     "metadata": {},
     "outputs": [
      {
       "html": "<div style=\"max-height:1000px;max-width:1500px;overflow:auto;\">\n<table border=\"1\" class=\"dataframe\">\n  <thead>\n    <tr style=\"text-align: right;\">\n      <th></th>\n      <th>a</th>\n      <th>b</th>\n    </tr>\n  </thead>\n  <tbody>\n    <tr>\n      <th>2</th>\n      <td> 0</td>\n      <td>-3</td>\n    </tr>\n    <tr>\n      <th>3</th>\n      <td> 1</td>\n      <td> 2</td>\n    </tr>\n    <tr>\n      <th>0</th>\n      <td> 0</td>\n      <td> 4</td>\n    </tr>\n    <tr>\n      <th>1</th>\n      <td> 1</td>\n      <td> 7</td>\n    </tr>\n  </tbody>\n</table>\n<p>4 rows \u00d7 2 columns</p>\n</div>",
       "metadata": {},
       "output_type": "pyout",
       "prompt_number": 162,
       "text": "   a  b\n2  0 -3\n3  1  2\n0  0  4\n1  1  7\n\n[4 rows x 2 columns]"
      }
     ],
     "prompt_number": 162
    },
    {
     "cell_type": "code",
     "collapsed": false,
     "input": "frame.sort_index(by=['a', 'b'])",
     "language": "python",
     "metadata": {},
     "outputs": [
      {
       "html": "<div style=\"max-height:1000px;max-width:1500px;overflow:auto;\">\n<table border=\"1\" class=\"dataframe\">\n  <thead>\n    <tr style=\"text-align: right;\">\n      <th></th>\n      <th>a</th>\n      <th>b</th>\n    </tr>\n  </thead>\n  <tbody>\n    <tr>\n      <th>2</th>\n      <td> 0</td>\n      <td>-3</td>\n    </tr>\n    <tr>\n      <th>0</th>\n      <td> 0</td>\n      <td> 4</td>\n    </tr>\n    <tr>\n      <th>3</th>\n      <td> 1</td>\n      <td> 2</td>\n    </tr>\n    <tr>\n      <th>1</th>\n      <td> 1</td>\n      <td> 7</td>\n    </tr>\n  </tbody>\n</table>\n<p>4 rows \u00d7 2 columns</p>\n</div>",
       "metadata": {},
       "output_type": "pyout",
       "prompt_number": 164,
       "text": "   a  b\n2  0 -3\n0  0  4\n3  1  2\n1  1  7\n\n[4 rows x 2 columns]"
      }
     ],
     "prompt_number": 164
    },
    {
     "cell_type": "raw",
     "metadata": {},
     "source": "Ranking is related to sorting, assigning ranks from one through the number of valid data points in an array. It is similar to the indirect sort indices produced by numpy.argsort, except that ties are broken. The rank methods for Series and DataFrame are the place to look; by default rank breaks ties by assigning each group the mean rank:"
    },
    {
     "cell_type": "code",
     "collapsed": false,
     "input": "obj = Series([7, -5, 7, 4, 2, 0, 4])",
     "language": "python",
     "metadata": {},
     "outputs": [],
     "prompt_number": 165
    },
    {
     "cell_type": "code",
     "collapsed": false,
     "input": "obj.rank()",
     "language": "python",
     "metadata": {},
     "outputs": [
      {
       "metadata": {},
       "output_type": "pyout",
       "prompt_number": 166,
       "text": "0    6.5\n1    1.0\n2    6.5\n3    4.5\n4    3.0\n5    2.0\n6    4.5\ndtype: float64"
      }
     ],
     "prompt_number": 166
    },
    {
     "cell_type": "code",
     "collapsed": false,
     "input": "obj.rank(method='first')",
     "language": "python",
     "metadata": {},
     "outputs": [
      {
       "metadata": {},
       "output_type": "pyout",
       "prompt_number": 167,
       "text": "0    6\n1    1\n2    7\n3    4\n4    3\n5    2\n6    5\ndtype: float64"
      }
     ],
     "prompt_number": 167
    },
    {
     "cell_type": "code",
     "collapsed": false,
     "input": "obj.rank(ascending=False, method='max')",
     "language": "python",
     "metadata": {},
     "outputs": [
      {
       "metadata": {},
       "output_type": "pyout",
       "prompt_number": 168,
       "text": "0    2\n1    7\n2    2\n3    4\n4    5\n5    6\n6    4\ndtype: float64"
      }
     ],
     "prompt_number": 168
    },
    {
     "cell_type": "heading",
     "level": 1,
     "metadata": {},
     "source": "Summarizing and Computing Descriptive Statistics"
    },
    {
     "cell_type": "raw",
     "metadata": {},
     "source": "pandas objects have a set of common mathematical and statistical methods. Most of these extract a single value from a Series or a Series of values from the rows or columns of a DataFrame. They also exclude missing data."
    },
    {
     "cell_type": "code",
     "collapsed": false,
     "input": "df = DataFrame([[1.4, np.nan], [7.1, -4.5],\n                [np.nan, np.nan], [0.75, -1.3]],\n               index=['a', 'b', 'c', 'd'],\n               columns=['one', 'two'])",
     "language": "python",
     "metadata": {},
     "outputs": [],
     "prompt_number": 2
    },
    {
     "cell_type": "code",
     "collapsed": false,
     "input": "df",
     "language": "python",
     "metadata": {},
     "outputs": [
      {
       "html": "<div style=\"max-height:1000px;max-width:1500px;overflow:auto;\">\n<table border=\"1\" class=\"dataframe\">\n  <thead>\n    <tr style=\"text-align: right;\">\n      <th></th>\n      <th>one</th>\n      <th>two</th>\n    </tr>\n  </thead>\n  <tbody>\n    <tr>\n      <th>a</th>\n      <td> 1.40</td>\n      <td> NaN</td>\n    </tr>\n    <tr>\n      <th>b</th>\n      <td> 7.10</td>\n      <td>-4.5</td>\n    </tr>\n    <tr>\n      <th>c</th>\n      <td>  NaN</td>\n      <td> NaN</td>\n    </tr>\n    <tr>\n      <th>d</th>\n      <td> 0.75</td>\n      <td>-1.3</td>\n    </tr>\n  </tbody>\n</table>\n<p>4 rows \u00d7 2 columns</p>\n</div>",
       "metadata": {},
       "output_type": "pyout",
       "prompt_number": 3,
       "text": "    one  two\na  1.40  NaN\nb  7.10 -4.5\nc   NaN  NaN\nd  0.75 -1.3\n\n[4 rows x 2 columns]"
      }
     ],
     "prompt_number": 3
    },
    {
     "cell_type": "code",
     "collapsed": false,
     "input": "df.sum()",
     "language": "python",
     "metadata": {},
     "outputs": [
      {
       "metadata": {},
       "output_type": "pyout",
       "prompt_number": 4,
       "text": "one    9.25\ntwo   -5.80\ndtype: float64"
      }
     ],
     "prompt_number": 4
    },
    {
     "cell_type": "code",
     "collapsed": false,
     "input": "df.sum(axis=1)",
     "language": "python",
     "metadata": {},
     "outputs": [
      {
       "metadata": {},
       "output_type": "pyout",
       "prompt_number": 5,
       "text": "a    1.40\nb    2.60\nc     NaN\nd   -0.55\ndtype: float64"
      }
     ],
     "prompt_number": 5
    },
    {
     "cell_type": "raw",
     "metadata": {},
     "source": "NA values are excluded unless the entire slice (row or column in this case) is NA. Can be disabled using the skipna option:"
    },
    {
     "cell_type": "code",
     "collapsed": false,
     "input": "df.mean(axis=1, skipna=False)",
     "language": "python",
     "metadata": {},
     "outputs": [
      {
       "metadata": {},
       "output_type": "pyout",
       "prompt_number": 6,
       "text": "a      NaN\nb    1.300\nc      NaN\nd   -0.275\ndtype: float64"
      }
     ],
     "prompt_number": 6
    },
    {
     "cell_type": "raw",
     "metadata": {},
     "source": "Some methods, like idxmin and idxmax, return indirect statistics like the index value where the minimum or maximum values are attained:"
    },
    {
     "cell_type": "code",
     "collapsed": false,
     "input": "df.idxmax()",
     "language": "python",
     "metadata": {},
     "outputs": [
      {
       "metadata": {},
       "output_type": "pyout",
       "prompt_number": 7,
       "text": "one    b\ntwo    d\ndtype: object"
      }
     ],
     "prompt_number": 7
    },
    {
     "cell_type": "code",
     "collapsed": false,
     "input": "df.describe()",
     "language": "python",
     "metadata": {},
     "outputs": [
      {
       "html": "<div style=\"max-height:1000px;max-width:1500px;overflow:auto;\">\n<table border=\"1\" class=\"dataframe\">\n  <thead>\n    <tr style=\"text-align: right;\">\n      <th></th>\n      <th>one</th>\n      <th>two</th>\n    </tr>\n  </thead>\n  <tbody>\n    <tr>\n      <th>count</th>\n      <td> 3.000000</td>\n      <td> 2.000000</td>\n    </tr>\n    <tr>\n      <th>mean</th>\n      <td> 3.083333</td>\n      <td>-2.900000</td>\n    </tr>\n    <tr>\n      <th>std</th>\n      <td> 3.493685</td>\n      <td> 2.262742</td>\n    </tr>\n    <tr>\n      <th>min</th>\n      <td> 0.750000</td>\n      <td>-4.500000</td>\n    </tr>\n    <tr>\n      <th>25%</th>\n      <td> 1.075000</td>\n      <td>-3.700000</td>\n    </tr>\n    <tr>\n      <th>50%</th>\n      <td> 1.400000</td>\n      <td>-2.900000</td>\n    </tr>\n    <tr>\n      <th>75%</th>\n      <td> 4.250000</td>\n      <td>-2.100000</td>\n    </tr>\n    <tr>\n      <th>max</th>\n      <td> 7.100000</td>\n      <td>-1.300000</td>\n    </tr>\n  </tbody>\n</table>\n<p>8 rows \u00d7 2 columns</p>\n</div>",
       "metadata": {},
       "output_type": "pyout",
       "prompt_number": 8,
       "text": "            one       two\ncount  3.000000  2.000000\nmean   3.083333 -2.900000\nstd    3.493685  2.262742\nmin    0.750000 -4.500000\n25%    1.075000 -3.700000\n50%    1.400000 -2.900000\n75%    4.250000 -2.100000\nmax    7.100000 -1.300000\n\n[8 rows x 2 columns]"
      }
     ],
     "prompt_number": 8
    },
    {
     "cell_type": "raw",
     "metadata": {},
     "source": "On non-numeric data, describe produces alternate summary statistics:"
    },
    {
     "cell_type": "code",
     "collapsed": false,
     "input": "obj = Series(['a', 'a', 'b', 'c'] * 4)",
     "language": "python",
     "metadata": {},
     "outputs": [],
     "prompt_number": 9
    },
    {
     "cell_type": "code",
     "collapsed": false,
     "input": "obj.describe()",
     "language": "python",
     "metadata": {},
     "outputs": [
      {
       "metadata": {},
       "output_type": "pyout",
       "prompt_number": 10,
       "text": "count     16\nunique     3\ntop        a\nfreq       8\ndtype: object"
      }
     ],
     "prompt_number": 10
    },
    {
     "cell_type": "heading",
     "level": 2,
     "metadata": {},
     "source": "Correlation and Covariance"
    },
    {
     "cell_type": "raw",
     "metadata": {},
     "source": "Some summary statistics, like correlation and covariance, are computed from pairs of arguments. "
    },
    {
     "cell_type": "code",
     "collapsed": false,
     "input": "import pandas.io.data as web",
     "language": "python",
     "metadata": {},
     "outputs": [],
     "prompt_number": 11
    },
    {
     "cell_type": "code",
     "collapsed": false,
     "input": "all_data = {}",
     "language": "python",
     "metadata": {},
     "outputs": [],
     "prompt_number": 12
    },
    {
     "cell_type": "code",
     "collapsed": false,
     "input": "for ticker in ['APPL', 'IBM', 'MSFT', 'GOOG']:\n    all_data[ticker] = web.get_data_yahoo(ticker, '1/1/2000', '1/1/2010')\n    \nprice = DataFrame({tic: data['Adj Close']\n                   for tic, data in all_data.iteritems()})\nvolume = DataFrame({tic: data['Volume']\n                    for tic, data in all_data.iteritems()})\n\nreturns = price.pct_change()\nreturns.tail()",
     "language": "python",
     "metadata": {},
     "outputs": [
      {
       "ename": "IOError",
       "evalue": "after 3 tries, Yahoo! did not return a 200 for url 'http://ichart.finance.yahoo.com/table.csv?s=APPL&a=0&b=1&c=2000&d=0&e=1&f=2010&g=d&ignore=.csv'",
       "output_type": "pyerr",
       "traceback": [
        "\u001b[1;31m---------------------------------------------------------------------------\u001b[0m\n\u001b[1;31mIOError\u001b[0m                                   Traceback (most recent call last)",
        "\u001b[1;32m<ipython-input-17-7df7b7f64d00>\u001b[0m in \u001b[0;36m<module>\u001b[1;34m()\u001b[0m\n\u001b[0;32m      1\u001b[0m \u001b[1;32mfor\u001b[0m \u001b[0mticker\u001b[0m \u001b[1;32min\u001b[0m \u001b[1;33m[\u001b[0m\u001b[1;34m'APPL'\u001b[0m\u001b[1;33m,\u001b[0m \u001b[1;34m'IBM'\u001b[0m\u001b[1;33m,\u001b[0m \u001b[1;34m'MSFT'\u001b[0m\u001b[1;33m,\u001b[0m \u001b[1;34m'GOOG'\u001b[0m\u001b[1;33m]\u001b[0m\u001b[1;33m:\u001b[0m\u001b[1;33m\u001b[0m\u001b[0m\n\u001b[1;32m----> 2\u001b[1;33m     \u001b[0mall_data\u001b[0m\u001b[1;33m[\u001b[0m\u001b[0mticker\u001b[0m\u001b[1;33m]\u001b[0m \u001b[1;33m=\u001b[0m \u001b[0mweb\u001b[0m\u001b[1;33m.\u001b[0m\u001b[0mget_data_yahoo\u001b[0m\u001b[1;33m(\u001b[0m\u001b[0mticker\u001b[0m\u001b[1;33m,\u001b[0m \u001b[1;34m'1/1/2000'\u001b[0m\u001b[1;33m,\u001b[0m \u001b[1;34m'1/1/2010'\u001b[0m\u001b[1;33m)\u001b[0m\u001b[1;33m\u001b[0m\u001b[0m\n\u001b[0m\u001b[0;32m      3\u001b[0m \u001b[1;33m\u001b[0m\u001b[0m\n\u001b[0;32m      4\u001b[0m price = DataFrame({tic: data['Adj Close']\n\u001b[0;32m      5\u001b[0m                    for tic, data in all_data.iteritems()})\n",
        "\u001b[1;32mC:\\Users\\Aaron\\Anaconda\\lib\\site-packages\\pandas\\io\\data.py\u001b[0m in \u001b[0;36mget_data_yahoo\u001b[1;34m(symbols, start, end, retry_count, pause, adjust_price, ret_index, chunksize, name)\u001b[0m\n\u001b[0;32m    403\u001b[0m     \"\"\"\n\u001b[0;32m    404\u001b[0m     return _get_data_from(symbols, start, end, retry_count, pause,\n\u001b[1;32m--> 405\u001b[1;33m                           adjust_price, ret_index, chunksize, 'yahoo', name)\n\u001b[0m\u001b[0;32m    406\u001b[0m \u001b[1;33m\u001b[0m\u001b[0m\n\u001b[0;32m    407\u001b[0m \u001b[1;33m\u001b[0m\u001b[0m\n",
        "\u001b[1;32mC:\\Users\\Aaron\\Anaconda\\lib\\site-packages\\pandas\\io\\data.py\u001b[0m in \u001b[0;36m_get_data_from\u001b[1;34m(symbols, start, end, retry_count, pause, adjust_price, ret_index, chunksize, source, name)\u001b[0m\n\u001b[0;32m    349\u001b[0m     \u001b[1;31m# If a single symbol, (e.g., 'GOOG')\u001b[0m\u001b[1;33m\u001b[0m\u001b[1;33m\u001b[0m\u001b[0m\n\u001b[0;32m    350\u001b[0m     \u001b[1;32mif\u001b[0m \u001b[0misinstance\u001b[0m\u001b[1;33m(\u001b[0m\u001b[0msymbols\u001b[0m\u001b[1;33m,\u001b[0m \u001b[1;33m(\u001b[0m\u001b[0mcompat\u001b[0m\u001b[1;33m.\u001b[0m\u001b[0mstring_types\u001b[0m\u001b[1;33m,\u001b[0m \u001b[0mint\u001b[0m\u001b[1;33m)\u001b[0m\u001b[1;33m)\u001b[0m\u001b[1;33m:\u001b[0m\u001b[1;33m\u001b[0m\u001b[0m\n\u001b[1;32m--> 351\u001b[1;33m         \u001b[0mhist_data\u001b[0m \u001b[1;33m=\u001b[0m \u001b[0msrc_fn\u001b[0m\u001b[1;33m(\u001b[0m\u001b[0msymbols\u001b[0m\u001b[1;33m,\u001b[0m \u001b[0mstart\u001b[0m\u001b[1;33m,\u001b[0m \u001b[0mend\u001b[0m\u001b[1;33m,\u001b[0m \u001b[0mretry_count\u001b[0m\u001b[1;33m,\u001b[0m \u001b[0mpause\u001b[0m\u001b[1;33m)\u001b[0m\u001b[1;33m\u001b[0m\u001b[0m\n\u001b[0m\u001b[0;32m    352\u001b[0m     \u001b[1;31m# Or multiple symbols, (e.g., ['GOOG', 'AAPL', 'MSFT'])\u001b[0m\u001b[1;33m\u001b[0m\u001b[1;33m\u001b[0m\u001b[0m\n\u001b[0;32m    353\u001b[0m     \u001b[1;32melif\u001b[0m \u001b[0misinstance\u001b[0m\u001b[1;33m(\u001b[0m\u001b[0msymbols\u001b[0m\u001b[1;33m,\u001b[0m \u001b[0mDataFrame\u001b[0m\u001b[1;33m)\u001b[0m\u001b[1;33m:\u001b[0m\u001b[1;33m\u001b[0m\u001b[0m\n",
        "\u001b[1;32mC:\\Users\\Aaron\\Anaconda\\lib\\site-packages\\pandas\\io\\data.py\u001b[0m in \u001b[0;36m_get_hist_yahoo\u001b[1;34m(sym, start, end, retry_count, pause)\u001b[0m\n\u001b[0;32m    198\u001b[0m            \u001b[1;34m'&g=d'\u001b[0m \u001b[1;33m+\u001b[0m\u001b[1;33m\u001b[0m\u001b[0m\n\u001b[0;32m    199\u001b[0m            '&ignore=.csv')\n\u001b[1;32m--> 200\u001b[1;33m     \u001b[1;32mreturn\u001b[0m \u001b[0m_retry_read_url\u001b[0m\u001b[1;33m(\u001b[0m\u001b[0murl\u001b[0m\u001b[1;33m,\u001b[0m \u001b[0mretry_count\u001b[0m\u001b[1;33m,\u001b[0m \u001b[0mpause\u001b[0m\u001b[1;33m,\u001b[0m \u001b[1;34m'Yahoo!'\u001b[0m\u001b[1;33m)\u001b[0m\u001b[1;33m\u001b[0m\u001b[0m\n\u001b[0m\u001b[0;32m    201\u001b[0m \u001b[1;33m\u001b[0m\u001b[0m\n\u001b[0;32m    202\u001b[0m \u001b[1;33m\u001b[0m\u001b[0m\n",
        "\u001b[1;32mC:\\Users\\Aaron\\Anaconda\\lib\\site-packages\\pandas\\io\\data.py\u001b[0m in \u001b[0;36m_retry_read_url\u001b[1;34m(url, retry_count, pause, name)\u001b[0m\n\u001b[0;32m    175\u001b[0m \u001b[1;33m\u001b[0m\u001b[0m\n\u001b[0;32m    176\u001b[0m     raise IOError(\"after %d tries, %s did not \"\n\u001b[1;32m--> 177\u001b[1;33m                   \"return a 200 for url %r\" % (retry_count, name, url))\n\u001b[0m\u001b[0;32m    178\u001b[0m \u001b[1;33m\u001b[0m\u001b[0m\n\u001b[0;32m    179\u001b[0m \u001b[1;33m\u001b[0m\u001b[0m\n",
        "\u001b[1;31mIOError\u001b[0m: after 3 tries, Yahoo! did not return a 200 for url 'http://ichart.finance.yahoo.com/table.csv?s=APPL&a=0&b=1&c=2000&d=0&e=1&f=2010&g=d&ignore=.csv'"
       ]
      }
     ],
     "prompt_number": 17
    },
    {
     "cell_type": "heading",
     "level": 2,
     "metadata": {},
     "source": "Unique Values, Value Counts, and Membership"
    },
    {
     "cell_type": "code",
     "collapsed": false,
     "input": "obj = Series(['c', 'a', 'd', 'a', 'a', 'b', 'b', 'c', 'c'])",
     "language": "python",
     "metadata": {},
     "outputs": [],
     "prompt_number": 18
    },
    {
     "cell_type": "code",
     "collapsed": false,
     "input": "uniques = obj.unique()",
     "language": "python",
     "metadata": {},
     "outputs": [],
     "prompt_number": 19
    },
    {
     "cell_type": "code",
     "collapsed": false,
     "input": "uniques",
     "language": "python",
     "metadata": {},
     "outputs": [
      {
       "metadata": {},
       "output_type": "pyout",
       "prompt_number": 20,
       "text": "array(['c', 'a', 'd', 'b'], dtype=object)"
      }
     ],
     "prompt_number": 20
    },
    {
     "cell_type": "raw",
     "metadata": {},
     "source": "The unique values are not necessarily returned in sorted order, but could be sorted after. (uniques.sort()). value_counts computes a Series containing value frequencies."
    },
    {
     "cell_type": "code",
     "collapsed": false,
     "input": "obj.value_counts()",
     "language": "python",
     "metadata": {},
     "outputs": [
      {
       "metadata": {},
       "output_type": "pyout",
       "prompt_number": 22,
       "text": "c    3\na    3\nb    2\nd    1\ndtype: int64"
      }
     ],
     "prompt_number": 22
    },
    {
     "cell_type": "raw",
     "metadata": {},
     "source": "The Series is sorted by value in descending order as a convenience. value_counts is also available as a top-level pandas method that can be used with an array or sequence:"
    },
    {
     "cell_type": "code",
     "collapsed": false,
     "input": "pd.value_counts(obj.values, sort=False)",
     "language": "python",
     "metadata": {},
     "outputs": [
      {
       "metadata": {},
       "output_type": "pyout",
       "prompt_number": 23,
       "text": "a    3\nc    3\nb    2\nd    1\ndtype: int64"
      }
     ],
     "prompt_number": 23
    },
    {
     "cell_type": "raw",
     "metadata": {},
     "source": "isin is responsible for vectorized set membership and can be useful in filtering a data set down to a subset of values in a Series or column in a DataFrame:"
    },
    {
     "cell_type": "code",
     "collapsed": false,
     "input": "mask = obj.isin(['b', 'c'])",
     "language": "python",
     "metadata": {},
     "outputs": [],
     "prompt_number": 24
    },
    {
     "cell_type": "code",
     "collapsed": false,
     "input": "mask",
     "language": "python",
     "metadata": {},
     "outputs": [
      {
       "metadata": {},
       "output_type": "pyout",
       "prompt_number": 25,
       "text": "0     True\n1    False\n2    False\n3    False\n4    False\n5     True\n6     True\n7     True\n8     True\ndtype: bool"
      }
     ],
     "prompt_number": 25
    },
    {
     "cell_type": "code",
     "collapsed": false,
     "input": "obj[mask]",
     "language": "python",
     "metadata": {},
     "outputs": [
      {
       "metadata": {},
       "output_type": "pyout",
       "prompt_number": 26,
       "text": "0    c\n5    b\n6    b\n7    c\n8    c\ndtype: object"
      }
     ],
     "prompt_number": 26
    },
    {
     "cell_type": "raw",
     "metadata": {},
     "source": "Can also compute a histogram on multiple related columns in a DataFrame."
    },
    {
     "cell_type": "code",
     "collapsed": false,
     "input": "data = DataFrame({'Qu1': [1, 3, 4, 3, 4],\n                  'Qu2': [2, 3, 1, 2, 3],\n                  'Qu3': [1, 5, 2, 4, 4]})",
     "language": "python",
     "metadata": {},
     "outputs": [],
     "prompt_number": 27
    },
    {
     "cell_type": "code",
     "collapsed": false,
     "input": "data",
     "language": "python",
     "metadata": {},
     "outputs": [
      {
       "html": "<div style=\"max-height:1000px;max-width:1500px;overflow:auto;\">\n<table border=\"1\" class=\"dataframe\">\n  <thead>\n    <tr style=\"text-align: right;\">\n      <th></th>\n      <th>Qu1</th>\n      <th>Qu2</th>\n      <th>Qu3</th>\n    </tr>\n  </thead>\n  <tbody>\n    <tr>\n      <th>0</th>\n      <td> 1</td>\n      <td> 2</td>\n      <td> 1</td>\n    </tr>\n    <tr>\n      <th>1</th>\n      <td> 3</td>\n      <td> 3</td>\n      <td> 5</td>\n    </tr>\n    <tr>\n      <th>2</th>\n      <td> 4</td>\n      <td> 1</td>\n      <td> 2</td>\n    </tr>\n    <tr>\n      <th>3</th>\n      <td> 3</td>\n      <td> 2</td>\n      <td> 4</td>\n    </tr>\n    <tr>\n      <th>4</th>\n      <td> 4</td>\n      <td> 3</td>\n      <td> 4</td>\n    </tr>\n  </tbody>\n</table>\n<p>5 rows \u00d7 3 columns</p>\n</div>",
       "metadata": {},
       "output_type": "pyout",
       "prompt_number": 28,
       "text": "   Qu1  Qu2  Qu3\n0    1    2    1\n1    3    3    5\n2    4    1    2\n3    3    2    4\n4    4    3    4\n\n[5 rows x 3 columns]"
      }
     ],
     "prompt_number": 28
    },
    {
     "cell_type": "code",
     "collapsed": false,
     "input": "result = data.apply(pd.value_counts).fillna(0)",
     "language": "python",
     "metadata": {},
     "outputs": [],
     "prompt_number": 29
    },
    {
     "cell_type": "code",
     "collapsed": false,
     "input": "result",
     "language": "python",
     "metadata": {},
     "outputs": [
      {
       "html": "<div style=\"max-height:1000px;max-width:1500px;overflow:auto;\">\n<table border=\"1\" class=\"dataframe\">\n  <thead>\n    <tr style=\"text-align: right;\">\n      <th></th>\n      <th>Qu1</th>\n      <th>Qu2</th>\n      <th>Qu3</th>\n    </tr>\n  </thead>\n  <tbody>\n    <tr>\n      <th>1</th>\n      <td> 1</td>\n      <td> 1</td>\n      <td> 1</td>\n    </tr>\n    <tr>\n      <th>2</th>\n      <td> 0</td>\n      <td> 2</td>\n      <td> 1</td>\n    </tr>\n    <tr>\n      <th>3</th>\n      <td> 2</td>\n      <td> 2</td>\n      <td> 0</td>\n    </tr>\n    <tr>\n      <th>4</th>\n      <td> 2</td>\n      <td> 0</td>\n      <td> 2</td>\n    </tr>\n    <tr>\n      <th>5</th>\n      <td> 0</td>\n      <td> 0</td>\n      <td> 1</td>\n    </tr>\n  </tbody>\n</table>\n<p>5 rows \u00d7 3 columns</p>\n</div>",
       "metadata": {},
       "output_type": "pyout",
       "prompt_number": 30,
       "text": "   Qu1  Qu2  Qu3\n1    1    1    1\n2    0    2    1\n3    2    2    0\n4    2    0    2\n5    0    0    1\n\n[5 rows x 3 columns]"
      }
     ],
     "prompt_number": 30
    },
    {
     "cell_type": "heading",
     "level": 2,
     "metadata": {},
     "source": "Handling Missing Data"
    },
    {
     "cell_type": "raw",
     "metadata": {},
     "source": "pandas use the floating point value NaN to represent missing data in both floating as well as in non-floating point arrays."
    },
    {
     "cell_type": "code",
     "collapsed": false,
     "input": "string_data = Series(['aardvark', 'artichoke', np.nan, 'avocado'])",
     "language": "python",
     "metadata": {},
     "outputs": [],
     "prompt_number": 31
    },
    {
     "cell_type": "code",
     "collapsed": false,
     "input": "string_data",
     "language": "python",
     "metadata": {},
     "outputs": [
      {
       "metadata": {},
       "output_type": "pyout",
       "prompt_number": 32,
       "text": "0     aardvark\n1    artichoke\n2          NaN\n3      avocado\ndtype: object"
      }
     ],
     "prompt_number": 32
    },
    {
     "cell_type": "code",
     "collapsed": false,
     "input": "string_data.isnull()",
     "language": "python",
     "metadata": {},
     "outputs": [
      {
       "metadata": {},
       "output_type": "pyout",
       "prompt_number": 33,
       "text": "0    False\n1    False\n2     True\n3    False\ndtype: bool"
      }
     ],
     "prompt_number": 33
    },
    {
     "cell_type": "code",
     "collapsed": false,
     "input": "string_data[0] = None",
     "language": "python",
     "metadata": {},
     "outputs": [],
     "prompt_number": 34
    },
    {
     "cell_type": "code",
     "collapsed": false,
     "input": "string_data.isnull()",
     "language": "python",
     "metadata": {},
     "outputs": [
      {
       "metadata": {},
       "output_type": "pyout",
       "prompt_number": 35,
       "text": "0     True\n1    False\n2     True\n3    False\ndtype: bool"
      }
     ],
     "prompt_number": 35
    },
    {
     "cell_type": "raw",
     "metadata": {},
     "source": "Filtering Out Missing Data"
    },
    {
     "cell_type": "raw",
     "metadata": {},
     "source": "dropna on a Series returns the Series with only the non-null data and index values:"
    },
    {
     "cell_type": "code",
     "collapsed": false,
     "input": "from numpy import nan as NA",
     "language": "python",
     "metadata": {},
     "outputs": [],
     "prompt_number": 36
    },
    {
     "cell_type": "code",
     "collapsed": false,
     "input": "data = Series([1, NA, 3.5, NA, 7])",
     "language": "python",
     "metadata": {},
     "outputs": [],
     "prompt_number": 37
    },
    {
     "cell_type": "code",
     "collapsed": false,
     "input": "data.dropna()",
     "language": "python",
     "metadata": {},
     "outputs": [
      {
       "metadata": {},
       "output_type": "pyout",
       "prompt_number": 38,
       "text": "0    1.0\n2    3.5\n4    7.0\ndtype: float64"
      }
     ],
     "prompt_number": 38
    },
    {
     "cell_type": "code",
     "collapsed": false,
     "input": "data[data.notnull()]     #or could do this",
     "language": "python",
     "metadata": {},
     "outputs": [
      {
       "metadata": {},
       "output_type": "pyout",
       "prompt_number": 39,
       "text": "0    1.0\n2    3.5\n4    7.0\ndtype: float64"
      }
     ],
     "prompt_number": 39
    },
    {
     "cell_type": "raw",
     "metadata": {},
     "source": "dropna by default drops any row containing a missing value. For DataFrames, can drop rows or columns which are all NA"
    },
    {
     "cell_type": "code",
     "collapsed": false,
     "input": "data = DataFrame([[1., 6.5, 3.], [1., NA, NA],\n                  [NA, NA, NA], [NA, 6.5, 3.]])",
     "language": "python",
     "metadata": {},
     "outputs": [],
     "prompt_number": 40
    },
    {
     "cell_type": "code",
     "collapsed": false,
     "input": "cleaned = data.dropna()",
     "language": "python",
     "metadata": {},
     "outputs": [],
     "prompt_number": 41
    },
    {
     "cell_type": "code",
     "collapsed": false,
     "input": "data",
     "language": "python",
     "metadata": {},
     "outputs": [
      {
       "html": "<div style=\"max-height:1000px;max-width:1500px;overflow:auto;\">\n<table border=\"1\" class=\"dataframe\">\n  <thead>\n    <tr style=\"text-align: right;\">\n      <th></th>\n      <th>0</th>\n      <th>1</th>\n      <th>2</th>\n    </tr>\n  </thead>\n  <tbody>\n    <tr>\n      <th>0</th>\n      <td>  1</td>\n      <td> 6.5</td>\n      <td>  3</td>\n    </tr>\n    <tr>\n      <th>1</th>\n      <td>  1</td>\n      <td> NaN</td>\n      <td>NaN</td>\n    </tr>\n    <tr>\n      <th>2</th>\n      <td>NaN</td>\n      <td> NaN</td>\n      <td>NaN</td>\n    </tr>\n    <tr>\n      <th>3</th>\n      <td>NaN</td>\n      <td> 6.5</td>\n      <td>  3</td>\n    </tr>\n  </tbody>\n</table>\n<p>4 rows \u00d7 3 columns</p>\n</div>",
       "metadata": {},
       "output_type": "pyout",
       "prompt_number": 42,
       "text": "    0    1   2\n0   1  6.5   3\n1   1  NaN NaN\n2 NaN  NaN NaN\n3 NaN  6.5   3\n\n[4 rows x 3 columns]"
      }
     ],
     "prompt_number": 42
    },
    {
     "cell_type": "code",
     "collapsed": false,
     "input": "cleaned",
     "language": "python",
     "metadata": {},
     "outputs": [
      {
       "html": "<div style=\"max-height:1000px;max-width:1500px;overflow:auto;\">\n<table border=\"1\" class=\"dataframe\">\n  <thead>\n    <tr style=\"text-align: right;\">\n      <th></th>\n      <th>0</th>\n      <th>1</th>\n      <th>2</th>\n    </tr>\n  </thead>\n  <tbody>\n    <tr>\n      <th>0</th>\n      <td> 1</td>\n      <td> 6.5</td>\n      <td> 3</td>\n    </tr>\n  </tbody>\n</table>\n<p>1 rows \u00d7 3 columns</p>\n</div>",
       "metadata": {},
       "output_type": "pyout",
       "prompt_number": 43,
       "text": "   0    1  2\n0  1  6.5  3\n\n[1 rows x 3 columns]"
      }
     ],
     "prompt_number": 43
    },
    {
     "cell_type": "raw",
     "metadata": {},
     "source": "Passing how='all' will only drop rows that are all NA:"
    },
    {
     "cell_type": "code",
     "collapsed": false,
     "input": "data.dropna(how='all')",
     "language": "python",
     "metadata": {},
     "outputs": [
      {
       "html": "<div style=\"max-height:1000px;max-width:1500px;overflow:auto;\">\n<table border=\"1\" class=\"dataframe\">\n  <thead>\n    <tr style=\"text-align: right;\">\n      <th></th>\n      <th>0</th>\n      <th>1</th>\n      <th>2</th>\n    </tr>\n  </thead>\n  <tbody>\n    <tr>\n      <th>0</th>\n      <td>  1</td>\n      <td> 6.5</td>\n      <td>  3</td>\n    </tr>\n    <tr>\n      <th>1</th>\n      <td>  1</td>\n      <td> NaN</td>\n      <td>NaN</td>\n    </tr>\n    <tr>\n      <th>3</th>\n      <td>NaN</td>\n      <td> 6.5</td>\n      <td>  3</td>\n    </tr>\n  </tbody>\n</table>\n<p>3 rows \u00d7 3 columns</p>\n</div>",
       "metadata": {},
       "output_type": "pyout",
       "prompt_number": 44,
       "text": "    0    1   2\n0   1  6.5   3\n1   1  NaN NaN\n3 NaN  6.5   3\n\n[3 rows x 3 columns]"
      }
     ],
     "prompt_number": 44
    },
    {
     "cell_type": "code",
     "collapsed": false,
     "input": "",
     "language": "python",
     "metadata": {},
     "outputs": []
    }
   ],
   "metadata": {}
  }
 ]
}