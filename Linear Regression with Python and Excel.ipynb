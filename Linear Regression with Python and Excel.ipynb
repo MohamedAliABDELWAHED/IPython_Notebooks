{
 "metadata": {
  "name": "Linear Regression with Python and Excel"
 },
 "nbformat": 3,
 "nbformat_minor": 0,
 "worksheets": [
  {
   "cells": [
    {
     "cell_type": "code",
     "collapsed": false,
     "input": "%matplotlib inline",
     "language": "python",
     "metadata": {},
     "outputs": [],
     "prompt_number": 1
    },
    {
     "cell_type": "code",
     "collapsed": false,
     "input": "from __future__ import print_function\nimport statsmodels\nimport numpy as np\nimport pandas as pd\nimport statsmodels.api as sm\nimport statsmodels.formula.api as smf\nimport statsmodels.stats.api as sms\nimport matplotlib.pyplot as plt",
     "language": "python",
     "metadata": {},
     "outputs": [],
     "prompt_number": 2
    },
    {
     "cell_type": "code",
     "collapsed": false,
     "input": "from xlwings import Range, Workbook, Chart\nwb = Workbook()",
     "language": "python",
     "metadata": {},
     "outputs": [],
     "prompt_number": 3
    },
    {
     "cell_type": "code",
     "collapsed": false,
     "input": "data = pd.read_csv(\"C:/Users/Aaron/Google_Drive/Resources/Datasets/Rdata/car/Ginzberg.csv\")",
     "language": "python",
     "metadata": {},
     "outputs": [],
     "prompt_number": 4
    },
    {
     "cell_type": "code",
     "collapsed": false,
     "input": "Range(\"A1\").value = data",
     "language": "python",
     "metadata": {},
     "outputs": [],
     "prompt_number": 5
    },
    {
     "cell_type": "code",
     "collapsed": false,
     "input": "data.head()",
     "language": "python",
     "metadata": {},
     "outputs": [
      {
       "html": "<div style=\"max-height:1000px;max-width:1500px;overflow:auto;\">\n<table border=\"1\" class=\"dataframe\">\n  <thead>\n    <tr style=\"text-align: right;\">\n      <th></th>\n      <th>Unnamed: 0</th>\n      <th>simplicity</th>\n      <th>fatalism</th>\n      <th>depression</th>\n      <th>adjsimp</th>\n      <th>adjfatal</th>\n      <th>adjdep</th>\n    </tr>\n  </thead>\n  <tbody>\n    <tr>\n      <th>0</th>\n      <td> 1</td>\n      <td> 0.92983</td>\n      <td> 0.35589</td>\n      <td> 0.59870</td>\n      <td> 0.75934</td>\n      <td> 0.10673</td>\n      <td> 0.41865</td>\n    </tr>\n    <tr>\n      <th>1</th>\n      <td> 2</td>\n      <td> 0.91097</td>\n      <td> 1.18439</td>\n      <td> 0.72787</td>\n      <td> 0.72717</td>\n      <td> 0.99915</td>\n      <td> 0.51688</td>\n    </tr>\n    <tr>\n      <th>2</th>\n      <td> 3</td>\n      <td> 0.53366</td>\n      <td>-0.05837</td>\n      <td> 0.53411</td>\n      <td> 0.62176</td>\n      <td> 0.03811</td>\n      <td> 0.70699</td>\n    </tr>\n    <tr>\n      <th>3</th>\n      <td> 4</td>\n      <td> 0.74118</td>\n      <td> 0.35589</td>\n      <td> 0.56641</td>\n      <td> 0.83522</td>\n      <td> 0.42218</td>\n      <td> 0.65639</td>\n    </tr>\n    <tr>\n      <th>4</th>\n      <td> 5</td>\n      <td> 0.53366</td>\n      <td> 0.77014</td>\n      <td> 0.50182</td>\n      <td> 0.47697</td>\n      <td> 0.81423</td>\n      <td> 0.53518</td>\n    </tr>\n  </tbody>\n</table>\n<p>5 rows \u00d7 7 columns</p>\n</div>",
       "metadata": {},
       "output_type": "pyout",
       "prompt_number": 6,
       "text": "   Unnamed: 0  simplicity  fatalism  depression  adjsimp  adjfatal   adjdep\n0           1     0.92983   0.35589     0.59870  0.75934   0.10673  0.41865\n1           2     0.91097   1.18439     0.72787  0.72717   0.99915  0.51688\n2           3     0.53366  -0.05837     0.53411  0.62176   0.03811  0.70699\n3           4     0.74118   0.35589     0.56641  0.83522   0.42218  0.65639\n4           5     0.53366   0.77014     0.50182  0.47697   0.81423  0.53518\n\n[5 rows x 7 columns]"
      }
     ],
     "prompt_number": 6
    },
    {
     "cell_type": "code",
     "collapsed": false,
     "input": "params = str(Range(\"O2\").value)",
     "language": "python",
     "metadata": {},
     "outputs": [],
     "prompt_number": 31
    },
    {
     "cell_type": "code",
     "collapsed": false,
     "input": "params",
     "language": "python",
     "metadata": {},
     "outputs": [
      {
       "metadata": {},
       "output_type": "pyout",
       "prompt_number": 32,
       "text": "'depression~simplicity + fatalism'"
      }
     ],
     "prompt_number": 32
    },
    {
     "cell_type": "code",
     "collapsed": false,
     "input": "model = smf.ols(params, data = data).fit()",
     "language": "python",
     "metadata": {},
     "outputs": [],
     "prompt_number": 33
    },
    {
     "cell_type": "code",
     "collapsed": false,
     "input": "print(model.summary())",
     "language": "python",
     "metadata": {},
     "outputs": [
      {
       "output_type": "stream",
       "stream": "stdout",
       "text": "                            OLS Regression Results                            \n==============================================================================\nDep. Variable:             depression   R-squared:                       0.519\nModel:                            OLS   Adj. R-squared:                  0.507\nMethod:                 Least Squares   F-statistic:                     42.58\nDate:                Sun, 22 Jun 2014   Prob (F-statistic):           2.84e-13\nTime:                        20:44:02   Log-Likelihood:                -29.024\nNo. Observations:                  82   AIC:                             64.05\nDf Residuals:                      79   BIC:                             71.27\nDf Model:                           2                                         \n==============================================================================\n                 coef    std err          t      P>|t|      [95.0% Conf. Int.]\n------------------------------------------------------------------------------\nIntercept      0.2027      0.095      2.140      0.035         0.014     0.391\nsimplicity     0.3795      0.101      3.771      0.000         0.179     0.580\nfatalism       0.4178      0.101      4.151      0.000         0.217     0.618\n==============================================================================\nOmnibus:                       11.218   Durbin-Watson:                   1.179\nProb(Omnibus):                  0.004   Jarque-Bera (JB):               11.425\nSkew:                           0.857   Prob(JB):                      0.00330\nKurtosis:                       3.636   Cond. No.                         6.00\n==============================================================================\n"
      }
     ],
     "prompt_number": 34
    },
    {
     "cell_type": "code",
     "collapsed": false,
     "input": "r_squared = model.rsquared\nr_square_adj = model.rsquared_adj\nresiduals = model.resid\np = model.f_pvalue\naic = model.aic",
     "language": "python",
     "metadata": {},
     "outputs": [],
     "prompt_number": 63
    },
    {
     "cell_type": "code",
     "collapsed": false,
     "input": "Range(\"K9\").value = \"R^2\"\nRange(\"L9\").value = r_squared\n\nRange(\"K10\").value = \"R^2 Adjusted\"\nRange(\"L10\").value = r_square_adj\n\nRange(\"M9\").value = \"residuals\"\nRange(\"N9\").value = pd.DataFrame(residuals)\n\nRange(\"K12\").value = \"p-value\"\nRange(\"L12\").value = p\n\nRange(\"K13\").value = \"AIC\"\nRange(\"L13\").value = aic",
     "language": "python",
     "metadata": {},
     "outputs": [],
     "prompt_number": 65
    },
    {
     "cell_type": "code",
     "collapsed": false,
     "input": "",
     "language": "python",
     "metadata": {},
     "outputs": []
    }
   ],
   "metadata": {}
  }
 ]
}