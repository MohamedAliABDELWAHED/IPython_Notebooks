{
 "metadata": {
  "name": "Linear Regression with Python and Excel",
  "signature": "sha256:7ec66124d4c8fd37528a300ce3806462e8f1782b28f117e8610b55513b4dc394"
 },
 "nbformat": 3,
 "nbformat_minor": 0,
 "worksheets": [
  {
   "cells": [
    {
     "cell_type": "code",
     "collapsed": false,
     "input": "%matplotlib inline",
     "language": "python",
     "metadata": {},
     "outputs": [],
     "prompt_number": 75
    },
    {
     "cell_type": "code",
     "collapsed": false,
     "input": "from __future__ import print_function\nimport statsmodels\nimport numpy as np\nimport pandas as pd\nimport statsmodels.api as sm\nimport statsmodels.formula.api as smf\nimport statsmodels.stats.api as sms\nimport matplotlib.pyplot as plt",
     "language": "python",
     "metadata": {},
     "outputs": [],
     "prompt_number": 76
    },
    {
     "cell_type": "code",
     "collapsed": false,
     "input": "from xlwings import Range, Workbook, Chart\nwb = Workbook('C:/Users/Aaron/Google_Drive/Projects/Python_R_Data_Analysis/Python/Workbook.xlsx')",
     "language": "python",
     "metadata": {},
     "outputs": [],
     "prompt_number": 77
    },
    {
     "cell_type": "code",
     "collapsed": false,
     "input": "data = pd.read_csv(\"C:/Users/Aaron/Google_Drive/Projects/Python_R_Data_Analysis/Python/Ginzberg.csv\")",
     "language": "python",
     "metadata": {},
     "outputs": [],
     "prompt_number": 78
    },
    {
     "cell_type": "code",
     "collapsed": false,
     "input": "data_ex = data.drop('Unnamed: 0',1)",
     "language": "python",
     "metadata": {},
     "outputs": [],
     "prompt_number": 79
    },
    {
     "cell_type": "code",
     "collapsed": false,
     "input": "data_ex.head()",
     "language": "python",
     "metadata": {},
     "outputs": [
      {
       "html": "<div style=\"max-height:1000px;max-width:1500px;overflow:auto;\">\n<table border=\"1\" class=\"dataframe\">\n  <thead>\n    <tr style=\"text-align: right;\">\n      <th></th>\n      <th>simplicity</th>\n      <th>fatalism</th>\n      <th>depression</th>\n      <th>adjsimp</th>\n      <th>adjfatal</th>\n      <th>adjdep</th>\n    </tr>\n  </thead>\n  <tbody>\n    <tr>\n      <th>0</th>\n      <td> 0.92983</td>\n      <td> 0.35589</td>\n      <td> 0.59870</td>\n      <td> 0.75934</td>\n      <td> 0.10673</td>\n      <td> 0.41865</td>\n    </tr>\n    <tr>\n      <th>1</th>\n      <td> 0.91097</td>\n      <td> 1.18439</td>\n      <td> 0.72787</td>\n      <td> 0.72717</td>\n      <td> 0.99915</td>\n      <td> 0.51688</td>\n    </tr>\n    <tr>\n      <th>2</th>\n      <td> 0.53366</td>\n      <td>-0.05837</td>\n      <td> 0.53411</td>\n      <td> 0.62176</td>\n      <td> 0.03811</td>\n      <td> 0.70699</td>\n    </tr>\n    <tr>\n      <th>3</th>\n      <td> 0.74118</td>\n      <td> 0.35589</td>\n      <td> 0.56641</td>\n      <td> 0.83522</td>\n      <td> 0.42218</td>\n      <td> 0.65639</td>\n    </tr>\n    <tr>\n      <th>4</th>\n      <td> 0.53366</td>\n      <td> 0.77014</td>\n      <td> 0.50182</td>\n      <td> 0.47697</td>\n      <td> 0.81423</td>\n      <td> 0.53518</td>\n    </tr>\n  </tbody>\n</table>\n<p>5 rows \u00d7 6 columns</p>\n</div>",
       "metadata": {},
       "output_type": "pyout",
       "prompt_number": 80,
       "text": "   simplicity  fatalism  depression  adjsimp  adjfatal   adjdep\n0     0.92983   0.35589     0.59870  0.75934   0.10673  0.41865\n1     0.91097   1.18439     0.72787  0.72717   0.99915  0.51688\n2     0.53366  -0.05837     0.53411  0.62176   0.03811  0.70699\n3     0.74118   0.35589     0.56641  0.83522   0.42218  0.65639\n4     0.53366   0.77014     0.50182  0.47697   0.81423  0.53518\n\n[5 rows x 6 columns]"
      }
     ],
     "prompt_number": 80
    },
    {
     "cell_type": "code",
     "collapsed": false,
     "input": "Range(\"Data\", \"A1\").value = data_ex",
     "language": "python",
     "metadata": {},
     "outputs": [],
     "prompt_number": 81
    },
    {
     "cell_type": "code",
     "collapsed": false,
     "input": "data.head()",
     "language": "python",
     "metadata": {},
     "outputs": [
      {
       "html": "<div style=\"max-height:1000px;max-width:1500px;overflow:auto;\">\n<table border=\"1\" class=\"dataframe\">\n  <thead>\n    <tr style=\"text-align: right;\">\n      <th></th>\n      <th>Unnamed: 0</th>\n      <th>simplicity</th>\n      <th>fatalism</th>\n      <th>depression</th>\n      <th>adjsimp</th>\n      <th>adjfatal</th>\n      <th>adjdep</th>\n    </tr>\n  </thead>\n  <tbody>\n    <tr>\n      <th>0</th>\n      <td> 1</td>\n      <td> 0.92983</td>\n      <td> 0.35589</td>\n      <td> 0.59870</td>\n      <td> 0.75934</td>\n      <td> 0.10673</td>\n      <td> 0.41865</td>\n    </tr>\n    <tr>\n      <th>1</th>\n      <td> 2</td>\n      <td> 0.91097</td>\n      <td> 1.18439</td>\n      <td> 0.72787</td>\n      <td> 0.72717</td>\n      <td> 0.99915</td>\n      <td> 0.51688</td>\n    </tr>\n    <tr>\n      <th>2</th>\n      <td> 3</td>\n      <td> 0.53366</td>\n      <td>-0.05837</td>\n      <td> 0.53411</td>\n      <td> 0.62176</td>\n      <td> 0.03811</td>\n      <td> 0.70699</td>\n    </tr>\n    <tr>\n      <th>3</th>\n      <td> 4</td>\n      <td> 0.74118</td>\n      <td> 0.35589</td>\n      <td> 0.56641</td>\n      <td> 0.83522</td>\n      <td> 0.42218</td>\n      <td> 0.65639</td>\n    </tr>\n    <tr>\n      <th>4</th>\n      <td> 5</td>\n      <td> 0.53366</td>\n      <td> 0.77014</td>\n      <td> 0.50182</td>\n      <td> 0.47697</td>\n      <td> 0.81423</td>\n      <td> 0.53518</td>\n    </tr>\n  </tbody>\n</table>\n<p>5 rows \u00d7 7 columns</p>\n</div>",
       "metadata": {},
       "output_type": "pyout",
       "prompt_number": 82,
       "text": "   Unnamed: 0  simplicity  fatalism  depression  adjsimp  adjfatal   adjdep\n0           1     0.92983   0.35589     0.59870  0.75934   0.10673  0.41865\n1           2     0.91097   1.18439     0.72787  0.72717   0.99915  0.51688\n2           3     0.53366  -0.05837     0.53411  0.62176   0.03811  0.70699\n3           4     0.74118   0.35589     0.56641  0.83522   0.42218  0.65639\n4           5     0.53366   0.77014     0.50182  0.47697   0.81423  0.53518\n\n[5 rows x 7 columns]"
      }
     ],
     "prompt_number": 82
    },
    {
     "cell_type": "code",
     "collapsed": false,
     "input": "params = str(Range(\"K5\").value)",
     "language": "python",
     "metadata": {},
     "outputs": [],
     "prompt_number": 83
    },
    {
     "cell_type": "code",
     "collapsed": false,
     "input": "params",
     "language": "python",
     "metadata": {},
     "outputs": [
      {
       "metadata": {},
       "output_type": "pyout",
       "prompt_number": 84,
       "text": "'depression ~ fatalism + simplicity'"
      }
     ],
     "prompt_number": 84
    },
    {
     "cell_type": "code",
     "collapsed": false,
     "input": "model = smf.ols(params, data = data).fit()",
     "language": "python",
     "metadata": {},
     "outputs": [],
     "prompt_number": 85
    },
    {
     "cell_type": "code",
     "collapsed": false,
     "input": "print(model.summary())",
     "language": "python",
     "metadata": {},
     "outputs": [
      {
       "output_type": "stream",
       "stream": "stdout",
       "text": "                            OLS Regression Results                            \n==============================================================================\nDep. Variable:             depression   R-squared:                       0.519\nModel:                            OLS   Adj. R-squared:                  0.507\nMethod:                 Least Squares   F-statistic:                     42.58\nDate:                Mon, 23 Jun 2014   Prob (F-statistic):           2.84e-13\nTime:                        21:01:27   Log-Likelihood:                -29.024\nNo. Observations:                  82   AIC:                             64.05\nDf Residuals:                      79   BIC:                             71.27\nDf Model:                           2                                         \n==============================================================================\n                 coef    std err          t      P>|t|      [95.0% Conf. Int.]\n------------------------------------------------------------------------------\nIntercept      0.2027      0.095      2.140      0.035         0.014     0.391\nfatalism       0.4178      0.101      4.151      0.000         0.217     0.618\nsimplicity     0.3795      0.101      3.771      0.000         0.179     0.580\n==============================================================================\nOmnibus:                       11.218   Durbin-Watson:                   1.179\nProb(Omnibus):                  0.004   Jarque-Bera (JB):               11.425\nSkew:                           0.857   Prob(JB):                      0.00330\nKurtosis:                       3.636   Cond. No.                         6.00\n==============================================================================\n"
      }
     ],
     "prompt_number": 86
    },
    {
     "cell_type": "code",
     "collapsed": false,
     "input": "r_squared = model.rsquared\nr_square_adj = model.rsquared_adj\nresiduals = model.resid\np = model.f_pvalue\naic = model.aic\npvalues = pd.DataFrame(model.pvalues)\nparams = pd.DataFrame(model.params)\nnormality = sms.jarque_bera(model.resid)\nbreush_pagan_hska = sms.het_breushpagan(model.resid, model.model.exog)\nharvey_collier = sms.linear_harvey_collier(model)",
     "language": "python",
     "metadata": {},
     "outputs": [],
     "prompt_number": 105
    },
    {
     "cell_type": "code",
     "collapsed": false,
     "input": "harvey_collier[0]",
     "language": "python",
     "metadata": {},
     "outputs": [
      {
       "metadata": {},
       "output_type": "pyout",
       "prompt_number": 108,
       "text": "array(5.146280012850883)"
      }
     ],
     "prompt_number": 108
    },
    {
     "cell_type": "code",
     "collapsed": false,
     "input": "normality[0]",
     "language": "python",
     "metadata": {},
     "outputs": [
      {
       "metadata": {},
       "output_type": "pyout",
       "prompt_number": 99,
       "text": "11.424710465430602"
      }
     ],
     "prompt_number": 99
    },
    {
     "cell_type": "code",
     "collapsed": false,
     "input": "Range(\"O5\").value = \"R^2\"\nRange(\"P5\").value = r_squared\n\nRange(\"O6\").value = \"R^2 Adjusted\"\nRange(\"P6\").value = r_square_adj\n\nRange(\"O7\").value = \"p-value\"\nRange(\"P7\").value = p\n\nRange(\"O8\").value = \"AIC\"\nRange(\"P8\").value = aic\n\nRange(\"O9\").value = \"Harvey-Collier t-value\"\nRange(\"P9\").value = harvey_collier[0]\n\nRange(\"O10\").value = \"Harvey-Collier p-value\"\nRange(\"P10\").value = harvey_collier[1]\n\nRange(\"R5\").value = \"Jarque-Bera\"\nRange(\"S5\").value = normality[0]\n\nRange(\"R6\").value = \"Chi^2 two-tail\"\nRange(\"S6\").value = normality[1]\n\nRange(\"R7\").value = \"Skew\"\nRange(\"S7\").value = normality[2]\n\nRange(\"R8\").value = \"Kurtosis\"\nRange(\"S8\").value = normality[3]\n\nRange(\"R9\").value = \"Lagrange Multiplier\"\nRange(\"S9\").value = breush_pagan_hska[0]\n\nRange(\"R10\").value = \"p-value\"\nRange(\"S10\").value = breush_pagan_hska[1]\n\nRange(\"R11\").value = \"f-value\"\nRange(\"S11\").value = breush_pagan_hska[2]\n\nRange(\"R12\").value = \"f p-value\"\nRange(\"S12\").value = breush_pagan_hska[3]\n\nRange(\"W3\").value = \"residuals\"\nRange(\"W6\").value = pd.DataFrame(residuals)\n\nRange(\"R15\").value = \"Coefficients\"\nRange(\"S15\").value = params\n\nRange(\"O15\").value = \"P>|t|\"\nRange(\"P15\").value = pvalues",
     "language": "python",
     "metadata": {},
     "outputs": [],
     "prompt_number": 109
    },
    {
     "cell_type": "code",
     "collapsed": false,
     "input": "",
     "language": "python",
     "metadata": {},
     "outputs": []
    }
   ],
   "metadata": {}
  }
 ]
}