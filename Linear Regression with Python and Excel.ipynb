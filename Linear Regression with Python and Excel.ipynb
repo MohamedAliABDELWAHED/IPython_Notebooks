{
 "metadata": {
  "name": "",
  "signature": "sha256:bdb0a8c5298ed7306381639f00b3134af3aeae722a848170103152319d26a9c7"
 },
 "nbformat": 3,
 "nbformat_minor": 0,
 "worksheets": [
  {
   "cells": [
    {
     "cell_type": "heading",
     "level": 1,
     "metadata": {},
     "source": [
      "Linear Regression in Excel with Python"
     ]
    },
    {
     "cell_type": "heading",
     "level": 4,
     "metadata": {},
     "source": []
    },
    {
     "cell_type": "code",
     "collapsed": false,
     "input": [
      "%matplotlib inline"
     ],
     "language": "python",
     "metadata": {},
     "outputs": [],
     "prompt_number": 1
    },
    {
     "cell_type": "code",
     "collapsed": false,
     "input": [
      "from __future__ import print_function\n",
      "import statsmodels\n",
      "import numpy as np\n",
      "import pandas as pd\n",
      "import statsmodels.api as sm\n",
      "import statsmodels.formula.api as smf\n",
      "import statsmodels.stats.api as sms\n",
      "import matplotlib.pyplot as plt"
     ],
     "language": "python",
     "metadata": {},
     "outputs": [],
     "prompt_number": 36
    },
    {
     "cell_type": "code",
     "collapsed": false,
     "input": [
      "from xlwings import Range, Workbook, Chart\n",
      "wb = Workbook('D:/Google_Drive/Google_Drive/Projects/Python_R_Data_Analysis/Python/Workbook.xlsx')"
     ],
     "language": "python",
     "metadata": {},
     "outputs": [],
     "prompt_number": 37
    },
    {
     "cell_type": "code",
     "collapsed": false,
     "input": [
      "data = pd.read_csv(\"D:/Google_Drive/Google_Drive/Projects/Python_R_Data_Analysis/Python/Ginzberg.csv\")"
     ],
     "language": "python",
     "metadata": {},
     "outputs": [],
     "prompt_number": 38
    },
    {
     "cell_type": "code",
     "collapsed": false,
     "input": [
      "data_ex = data.drop('Unnamed: 0',1)"
     ],
     "language": "python",
     "metadata": {},
     "outputs": [],
     "prompt_number": 39
    },
    {
     "cell_type": "code",
     "collapsed": false,
     "input": [
      "data_ex.head()"
     ],
     "language": "python",
     "metadata": {},
     "outputs": [
      {
       "html": [
        "<div style=\"max-height:1000px;max-width:1500px;overflow:auto;\">\n",
        "<table border=\"1\" class=\"dataframe\">\n",
        "  <thead>\n",
        "    <tr style=\"text-align: right;\">\n",
        "      <th></th>\n",
        "      <th>simplicity</th>\n",
        "      <th>fatalism</th>\n",
        "      <th>depression</th>\n",
        "      <th>adjsimp</th>\n",
        "      <th>adjfatal</th>\n",
        "      <th>adjdep</th>\n",
        "    </tr>\n",
        "  </thead>\n",
        "  <tbody>\n",
        "    <tr>\n",
        "      <th>0</th>\n",
        "      <td> 0.92983</td>\n",
        "      <td> 0.35589</td>\n",
        "      <td> 0.59870</td>\n",
        "      <td> 0.75934</td>\n",
        "      <td> 0.10673</td>\n",
        "      <td> 0.41865</td>\n",
        "    </tr>\n",
        "    <tr>\n",
        "      <th>1</th>\n",
        "      <td> 0.91097</td>\n",
        "      <td> 1.18439</td>\n",
        "      <td> 0.72787</td>\n",
        "      <td> 0.72717</td>\n",
        "      <td> 0.99915</td>\n",
        "      <td> 0.51688</td>\n",
        "    </tr>\n",
        "    <tr>\n",
        "      <th>2</th>\n",
        "      <td> 0.53366</td>\n",
        "      <td>-0.05837</td>\n",
        "      <td> 0.53411</td>\n",
        "      <td> 0.62176</td>\n",
        "      <td> 0.03811</td>\n",
        "      <td> 0.70699</td>\n",
        "    </tr>\n",
        "    <tr>\n",
        "      <th>3</th>\n",
        "      <td> 0.74118</td>\n",
        "      <td> 0.35589</td>\n",
        "      <td> 0.56641</td>\n",
        "      <td> 0.83522</td>\n",
        "      <td> 0.42218</td>\n",
        "      <td> 0.65639</td>\n",
        "    </tr>\n",
        "    <tr>\n",
        "      <th>4</th>\n",
        "      <td> 0.53366</td>\n",
        "      <td> 0.77014</td>\n",
        "      <td> 0.50182</td>\n",
        "      <td> 0.47697</td>\n",
        "      <td> 0.81423</td>\n",
        "      <td> 0.53518</td>\n",
        "    </tr>\n",
        "  </tbody>\n",
        "</table>\n",
        "<p>5 rows \u00d7 6 columns</p>\n",
        "</div>"
       ],
       "metadata": {},
       "output_type": "pyout",
       "prompt_number": 40,
       "text": [
        "   simplicity  fatalism  depression  adjsimp  adjfatal   adjdep\n",
        "0     0.92983   0.35589     0.59870  0.75934   0.10673  0.41865\n",
        "1     0.91097   1.18439     0.72787  0.72717   0.99915  0.51688\n",
        "2     0.53366  -0.05837     0.53411  0.62176   0.03811  0.70699\n",
        "3     0.74118   0.35589     0.56641  0.83522   0.42218  0.65639\n",
        "4     0.53366   0.77014     0.50182  0.47697   0.81423  0.53518\n",
        "\n",
        "[5 rows x 6 columns]"
       ]
      }
     ],
     "prompt_number": 40
    },
    {
     "cell_type": "code",
     "collapsed": false,
     "input": [
      "Range(\"Data\", \"A1\").value = data_ex"
     ],
     "language": "python",
     "metadata": {},
     "outputs": [],
     "prompt_number": 41
    },
    {
     "cell_type": "code",
     "collapsed": false,
     "input": [
      "data.head()"
     ],
     "language": "python",
     "metadata": {},
     "outputs": [
      {
       "html": [
        "<div style=\"max-height:1000px;max-width:1500px;overflow:auto;\">\n",
        "<table border=\"1\" class=\"dataframe\">\n",
        "  <thead>\n",
        "    <tr style=\"text-align: right;\">\n",
        "      <th></th>\n",
        "      <th>Unnamed: 0</th>\n",
        "      <th>simplicity</th>\n",
        "      <th>fatalism</th>\n",
        "      <th>depression</th>\n",
        "      <th>adjsimp</th>\n",
        "      <th>adjfatal</th>\n",
        "      <th>adjdep</th>\n",
        "    </tr>\n",
        "  </thead>\n",
        "  <tbody>\n",
        "    <tr>\n",
        "      <th>0</th>\n",
        "      <td> 1</td>\n",
        "      <td> 0.92983</td>\n",
        "      <td> 0.35589</td>\n",
        "      <td> 0.59870</td>\n",
        "      <td> 0.75934</td>\n",
        "      <td> 0.10673</td>\n",
        "      <td> 0.41865</td>\n",
        "    </tr>\n",
        "    <tr>\n",
        "      <th>1</th>\n",
        "      <td> 2</td>\n",
        "      <td> 0.91097</td>\n",
        "      <td> 1.18439</td>\n",
        "      <td> 0.72787</td>\n",
        "      <td> 0.72717</td>\n",
        "      <td> 0.99915</td>\n",
        "      <td> 0.51688</td>\n",
        "    </tr>\n",
        "    <tr>\n",
        "      <th>2</th>\n",
        "      <td> 3</td>\n",
        "      <td> 0.53366</td>\n",
        "      <td>-0.05837</td>\n",
        "      <td> 0.53411</td>\n",
        "      <td> 0.62176</td>\n",
        "      <td> 0.03811</td>\n",
        "      <td> 0.70699</td>\n",
        "    </tr>\n",
        "    <tr>\n",
        "      <th>3</th>\n",
        "      <td> 4</td>\n",
        "      <td> 0.74118</td>\n",
        "      <td> 0.35589</td>\n",
        "      <td> 0.56641</td>\n",
        "      <td> 0.83522</td>\n",
        "      <td> 0.42218</td>\n",
        "      <td> 0.65639</td>\n",
        "    </tr>\n",
        "    <tr>\n",
        "      <th>4</th>\n",
        "      <td> 5</td>\n",
        "      <td> 0.53366</td>\n",
        "      <td> 0.77014</td>\n",
        "      <td> 0.50182</td>\n",
        "      <td> 0.47697</td>\n",
        "      <td> 0.81423</td>\n",
        "      <td> 0.53518</td>\n",
        "    </tr>\n",
        "  </tbody>\n",
        "</table>\n",
        "<p>5 rows \u00d7 7 columns</p>\n",
        "</div>"
       ],
       "metadata": {},
       "output_type": "pyout",
       "prompt_number": 42,
       "text": [
        "   Unnamed: 0  simplicity  fatalism  depression  adjsimp  adjfatal   adjdep\n",
        "0           1     0.92983   0.35589     0.59870  0.75934   0.10673  0.41865\n",
        "1           2     0.91097   1.18439     0.72787  0.72717   0.99915  0.51688\n",
        "2           3     0.53366  -0.05837     0.53411  0.62176   0.03811  0.70699\n",
        "3           4     0.74118   0.35589     0.56641  0.83522   0.42218  0.65639\n",
        "4           5     0.53366   0.77014     0.50182  0.47697   0.81423  0.53518\n",
        "\n",
        "[5 rows x 7 columns]"
       ]
      }
     ],
     "prompt_number": 42
    },
    {
     "cell_type": "code",
     "collapsed": false,
     "input": [
      "params = str(Range(\"K5\").value)"
     ],
     "language": "python",
     "metadata": {},
     "outputs": [],
     "prompt_number": 43
    },
    {
     "cell_type": "code",
     "collapsed": false,
     "input": [
      "params"
     ],
     "language": "python",
     "metadata": {},
     "outputs": [
      {
       "metadata": {},
       "output_type": "pyout",
       "prompt_number": 44,
       "text": [
        "'depression ~ fatalism + simplicity'"
       ]
      }
     ],
     "prompt_number": 44
    },
    {
     "cell_type": "code",
     "collapsed": false,
     "input": [
      "model = smf.ols(params, data = data).fit()"
     ],
     "language": "python",
     "metadata": {},
     "outputs": [],
     "prompt_number": 45
    },
    {
     "cell_type": "code",
     "collapsed": false,
     "input": [
      "print(model.summary())"
     ],
     "language": "python",
     "metadata": {},
     "outputs": [
      {
       "output_type": "stream",
       "stream": "stdout",
       "text": [
        "                            OLS Regression Results                            \n",
        "==============================================================================\n",
        "Dep. Variable:             depression   R-squared:                       0.519\n",
        "Model:                            OLS   Adj. R-squared:                  0.507\n",
        "Method:                 Least Squares   F-statistic:                     42.58\n",
        "Date:                Tue, 24 Jun 2014   Prob (F-statistic):           2.84e-13\n",
        "Time:                        14:50:15   Log-Likelihood:                -29.024\n",
        "No. Observations:                  82   AIC:                             64.05\n",
        "Df Residuals:                      79   BIC:                             71.27\n",
        "Df Model:                           2                                         \n",
        "==============================================================================\n",
        "                 coef    std err          t      P>|t|      [95.0% Conf. Int.]\n",
        "------------------------------------------------------------------------------\n",
        "Intercept      0.2027      0.095      2.140      0.035         0.014     0.391\n",
        "fatalism       0.4178      0.101      4.151      0.000         0.217     0.618\n",
        "simplicity     0.3795      0.101      3.771      0.000         0.179     0.580\n",
        "==============================================================================\n",
        "Omnibus:                       11.218   Durbin-Watson:                   1.179\n",
        "Prob(Omnibus):                  0.004   Jarque-Bera (JB):               11.425\n",
        "Skew:                           0.857   Prob(JB):                      0.00330\n",
        "Kurtosis:                       3.636   Cond. No.                         6.00\n",
        "==============================================================================\n"
       ]
      }
     ],
     "prompt_number": 46
    },
    {
     "cell_type": "code",
     "collapsed": false,
     "input": [
      "r_squared = model.rsquared\n",
      "r_square_adj = model.rsquared_adj\n",
      "residuals = model.resid\n",
      "p = model.f_pvalue\n",
      "aic = model.aic\n",
      "pvalues = pd.DataFrame(model.pvalues)\n",
      "params = pd.DataFrame(model.params)\n",
      "normality = sms.jarque_bera(model.resid)\n",
      "breush_pagan_hska = sms.het_breushpagan(model.resid, model.model.exog)\n",
      "harvey_collier = sms.linear_harvey_collier(model)"
     ],
     "language": "python",
     "metadata": {},
     "outputs": [],
     "prompt_number": 47
    },
    {
     "cell_type": "code",
     "collapsed": false,
     "input": [
      "harvey_collier[0]"
     ],
     "language": "python",
     "metadata": {},
     "outputs": [
      {
       "metadata": {},
       "output_type": "pyout",
       "prompt_number": 48,
       "text": [
        "array(5.146280012850883)"
       ]
      }
     ],
     "prompt_number": 48
    },
    {
     "cell_type": "code",
     "collapsed": false,
     "input": [
      "normality[0]"
     ],
     "language": "python",
     "metadata": {},
     "outputs": [
      {
       "metadata": {},
       "output_type": "pyout",
       "prompt_number": 49,
       "text": [
        "11.42471046543063"
       ]
      }
     ],
     "prompt_number": 49
    },
    {
     "cell_type": "code",
     "collapsed": false,
     "input": [
      "Range(\"O6\").value = \"R^2\"\n",
      "Range(\"P6\").value = r_squared\n",
      "\n",
      "Range(\"O7\").value = \"R^2 Adjusted\"\n",
      "Range(\"P7\").value = r_square_adj\n",
      "\n",
      "Range(\"O8\").value = \"p-value\"\n",
      "Range(\"P8\").value = p\n",
      "\n",
      "Range(\"O9\").value = \"AIC\"\n",
      "Range(\"P9\").value = aic\n",
      "\n",
      "Range(\"O10\").value = \"Harvey-Collier t-value\"\n",
      "Range(\"P10\").value = harvey_collier[0]\n",
      "\n",
      "Range(\"O11\").value = \"Harvey-Collier p-value\"\n",
      "Range(\"P11\").value = harvey_collier[1]\n",
      "\n",
      "Range(\"R6\").value = \"Jarque-Bera\"\n",
      "Range(\"S6\").value = normality[0]\n",
      "\n",
      "Range(\"R7\").value = \"Chi^2 two-tail\"\n",
      "Range(\"S7\").value = normality[1]\n",
      "\n",
      "Range(\"R8\").value = \"Skew\"\n",
      "Range(\"S8\").value = normality[2]\n",
      "\n",
      "Range(\"R9\").value = \"Kurtosis\"\n",
      "Range(\"S9\").value = normality[3]\n",
      "\n",
      "Range(\"R12\").value = \"Lagrange Multiplier\"\n",
      "Range(\"S12\").value = breush_pagan_hska[0]\n",
      "\n",
      "Range(\"R13\").value = \"p-value\"\n",
      "Range(\"S13\").value = breush_pagan_hska[1]\n",
      "\n",
      "Range(\"R14\").value = \"f-value\"\n",
      "Range(\"S14\").value = breush_pagan_hska[2]\n",
      "\n",
      "Range(\"R15\").value = \"f p-value\"\n",
      "Range(\"S15\").value = breush_pagan_hska[3]\n",
      "\n",
      "Range(\"Z3\").value = \"residuals\"\n",
      "Range(\"Z6\").value = pd.DataFrame(residuals)\n",
      "\n",
      "Range(\"R17\").value = \"Coefficients\"\n",
      "Range(\"S17\").value = params\n",
      "\n",
      "Range(\"O17\").value = \"P>|t|\"\n",
      "Range(\"P17\").value = pvalues"
     ],
     "language": "python",
     "metadata": {},
     "outputs": [],
     "prompt_number": 50
    }
   ],
   "metadata": {}
  }
 ]
}