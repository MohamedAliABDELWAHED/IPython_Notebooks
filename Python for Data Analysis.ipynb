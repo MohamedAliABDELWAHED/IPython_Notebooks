{
 "metadata": {
  "name": "Python for Data Analysis"
 },
 "nbformat": 3,
 "nbformat_minor": 0,
 "worksheets": [
  {
   "cells": [
    {
     "cell_type": "heading",
     "level": 1,
     "metadata": {},
     "source": "Universal Functions"
    },
    {
     "cell_type": "raw",
     "metadata": {},
     "source": "A universal function, called a ufunc, is a function that performs elementwise operations on data in ndarrays.\n\nMany ufuncs are simple like sqrt and exp:"
    },
    {
     "cell_type": "code",
     "collapsed": false,
     "input": "import numpy as np\n\narr = np.arange(10)",
     "language": "python",
     "metadata": {},
     "outputs": [],
     "prompt_number": 1
    },
    {
     "cell_type": "code",
     "collapsed": false,
     "input": "np.sqrt(arr)",
     "language": "python",
     "metadata": {},
     "outputs": [
      {
       "metadata": {},
       "output_type": "pyout",
       "prompt_number": 2,
       "text": "array([ 0.        ,  1.        ,  1.41421356,  1.73205081,  2.        ,\n        2.23606798,  2.44948974,  2.64575131,  2.82842712,  3.        ])"
      }
     ],
     "prompt_number": 2
    },
    {
     "cell_type": "code",
     "collapsed": false,
     "input": "np.exp(arr)",
     "language": "python",
     "metadata": {},
     "outputs": [
      {
       "metadata": {},
       "output_type": "pyout",
       "prompt_number": 3,
       "text": "array([  1.00000000e+00,   2.71828183e+00,   7.38905610e+00,\n         2.00855369e+01,   5.45981500e+01,   1.48413159e+02,\n         4.03428793e+02,   1.09663316e+03,   2.98095799e+03,\n         8.10308393e+03])"
      }
     ],
     "prompt_number": 3
    },
    {
     "cell_type": "raw",
     "metadata": {},
     "source": "These are unary ufuncs - they take one array. Others, like sum and maximum take 2 arrays and return a single array as a result"
    },
    {
     "cell_type": "code",
     "collapsed": false,
     "input": "x = np.random.randn(8)",
     "language": "python",
     "metadata": {},
     "outputs": [],
     "prompt_number": 5
    },
    {
     "cell_type": "code",
     "collapsed": false,
     "input": "y = np.random.randn(8)",
     "language": "python",
     "metadata": {},
     "outputs": [],
     "prompt_number": 6
    },
    {
     "cell_type": "code",
     "collapsed": false,
     "input": "x",
     "language": "python",
     "metadata": {},
     "outputs": [
      {
       "metadata": {},
       "output_type": "pyout",
       "prompt_number": 7,
       "text": "array([-0.29001996,  0.07345483, -0.23846004, -0.73744207, -0.4893659 ,\n        0.7426932 , -0.92265192, -0.75107657])"
      }
     ],
     "prompt_number": 7
    },
    {
     "cell_type": "code",
     "collapsed": false,
     "input": "y",
     "language": "python",
     "metadata": {},
     "outputs": [
      {
       "metadata": {},
       "output_type": "pyout",
       "prompt_number": 8,
       "text": "array([-0.16338177,  0.32882777, -0.21936828,  1.13539589,  1.82187826,\n       -0.03170706,  0.66221208,  0.67949968])"
      }
     ],
     "prompt_number": 8
    },
    {
     "cell_type": "code",
     "collapsed": false,
     "input": "np.maximum(x, y)",
     "language": "python",
     "metadata": {},
     "outputs": [
      {
       "metadata": {},
       "output_type": "pyout",
       "prompt_number": 9,
       "text": "array([-0.16338177,  0.32882777, -0.21936828,  1.13539589,  1.82187826,\n        0.7426932 ,  0.66221208,  0.67949968])"
      }
     ],
     "prompt_number": 9
    },
    {
     "cell_type": "heading",
     "level": 2,
     "metadata": {},
     "source": "Data Processing Using Arrays"
    },
    {
     "cell_type": "raw",
     "metadata": {},
     "source": "NumPy focuses on using concise array expressions that might otherwise be done with loops. NumPy uses vectorization, and is used due to its much faster computation speed compared to loops."
    },
    {
     "cell_type": "raw",
     "metadata": {},
     "source": "Evaluate the function sqrt(x^2 + y^2) across a regular grid of values. The np.meshgrid function takes two 1D arrays and produces two 2D matrices corresponding to all pairs of (x, y)."
    },
    {
     "cell_type": "code",
     "collapsed": false,
     "input": "points = np.arange(-5, 5, 0.01)",
     "language": "python",
     "metadata": {},
     "outputs": [],
     "prompt_number": 10
    },
    {
     "cell_type": "code",
     "collapsed": false,
     "input": "xs, ys = np.meshgrid(points, points)",
     "language": "python",
     "metadata": {},
     "outputs": [],
     "prompt_number": 11
    },
    {
     "cell_type": "code",
     "collapsed": false,
     "input": "ys",
     "language": "python",
     "metadata": {},
     "outputs": [
      {
       "metadata": {},
       "output_type": "pyout",
       "prompt_number": 12,
       "text": "array([[-5.  , -5.  , -5.  , ..., -5.  , -5.  , -5.  ],\n       [-4.99, -4.99, -4.99, ..., -4.99, -4.99, -4.99],\n       [-4.98, -4.98, -4.98, ..., -4.98, -4.98, -4.98],\n       ..., \n       [ 4.97,  4.97,  4.97, ...,  4.97,  4.97,  4.97],\n       [ 4.98,  4.98,  4.98, ...,  4.98,  4.98,  4.98],\n       [ 4.99,  4.99,  4.99, ...,  4.99,  4.99,  4.99]])"
      }
     ],
     "prompt_number": 12
    },
    {
     "cell_type": "raw",
     "metadata": {},
     "source": "Evaluate the function:"
    },
    {
     "cell_type": "code",
     "collapsed": false,
     "input": "import matplotlib.pyplot as plt",
     "language": "python",
     "metadata": {},
     "outputs": [],
     "prompt_number": 13
    },
    {
     "cell_type": "code",
     "collapsed": false,
     "input": "z = np.sqrt(xs ** 2 + y ** 2)",
     "language": "python",
     "metadata": {},
     "outputs": [
      {
       "ename": "ValueError",
       "evalue": "operands could not be broadcast together with shapes (1000,1000) (8,) ",
       "output_type": "pyerr",
       "traceback": [
        "\u001b[1;31m---------------------------------------------------------------------------\u001b[0m\n\u001b[1;31mValueError\u001b[0m                                Traceback (most recent call last)",
        "\u001b[1;32m<ipython-input-14-0f6d7d4eabdf>\u001b[0m in \u001b[0;36m<module>\u001b[1;34m()\u001b[0m\n\u001b[1;32m----> 1\u001b[1;33m \u001b[0mz\u001b[0m \u001b[1;33m=\u001b[0m \u001b[0mnp\u001b[0m\u001b[1;33m.\u001b[0m\u001b[0msqrt\u001b[0m\u001b[1;33m(\u001b[0m\u001b[0mxs\u001b[0m \u001b[1;33m**\u001b[0m \u001b[1;36m2\u001b[0m \u001b[1;33m+\u001b[0m \u001b[0my\u001b[0m \u001b[1;33m**\u001b[0m \u001b[1;36m2\u001b[0m\u001b[1;33m)\u001b[0m\u001b[1;33m\u001b[0m\u001b[0m\n\u001b[0m",
        "\u001b[1;31mValueError\u001b[0m: operands could not be broadcast together with shapes (1000,1000) (8,) "
       ]
      }
     ],
     "prompt_number": 14
    },
    {
     "cell_type": "heading",
     "level": 3,
     "metadata": {},
     "source": "Expressing Conditional Logic as Array Operations"
    },
    {
     "cell_type": "raw",
     "metadata": {},
     "source": "The numpy.where function is a vectorized version of the ternary expression x if condition else y. "
    },
    {
     "cell_type": "code",
     "collapsed": false,
     "input": "xarr = np.array([1.1, 1.2, 1.3, 1.4, 1.5])\n\nyarr = np.array([2.1, 2.2, 2.3, 2.4, 2.5])",
     "language": "python",
     "metadata": {},
     "outputs": [],
     "prompt_number": 15
    },
    {
     "cell_type": "code",
     "collapsed": false,
     "input": "cond = np.array([True, False, True, True, False])",
     "language": "python",
     "metadata": {},
     "outputs": [],
     "prompt_number": 16
    },
    {
     "cell_type": "raw",
     "metadata": {},
     "source": "Take a value from xarr whenever the corresponding value in cond is True otherwise take the value of yarr."
    },
    {
     "cell_type": "code",
     "collapsed": false,
     "input": "result = np.where(cond, xarr, yarr)",
     "language": "python",
     "metadata": {},
     "outputs": [],
     "prompt_number": 17
    },
    {
     "cell_type": "code",
     "collapsed": false,
     "input": "result",
     "language": "python",
     "metadata": {},
     "outputs": [
      {
       "metadata": {},
       "output_type": "pyout",
       "prompt_number": 18,
       "text": "array([ 1.1,  2.2,  1.3,  1.4,  2.5])"
      }
     ],
     "prompt_number": 18
    },
    {
     "cell_type": "raw",
     "metadata": {},
     "source": "The second and third arguments of np.where don't need to be arrays, they can be scalars. A typical use of where in data analysis is to produce a new array of values based on another array. "
    },
    {
     "cell_type": "code",
     "collapsed": false,
     "input": "arr = np.random.randn(4, 4)",
     "language": "python",
     "metadata": {},
     "outputs": [],
     "prompt_number": 20
    },
    {
     "cell_type": "code",
     "collapsed": false,
     "input": "arr",
     "language": "python",
     "metadata": {},
     "outputs": [
      {
       "metadata": {},
       "output_type": "pyout",
       "prompt_number": 21,
       "text": "array([[-0.28742068,  0.14207543, -0.98658172,  1.8192412 ],\n       [ 1.40411637,  0.43571088,  1.46961085, -0.27612267],\n       [ 0.88633184, -2.24743169, -1.66711524, -1.53961981],\n       [ 0.22459125,  0.41943776,  1.11191245,  0.25845235]])"
      }
     ],
     "prompt_number": 21
    },
    {
     "cell_type": "code",
     "collapsed": false,
     "input": "np.where(arr > 0, 2, -2)",
     "language": "python",
     "metadata": {},
     "outputs": [
      {
       "metadata": {},
       "output_type": "pyout",
       "prompt_number": 22,
       "text": "array([[-2,  2, -2,  2],\n       [ 2,  2,  2, -2],\n       [ 2, -2, -2, -2],\n       [ 2,  2,  2,  2]])"
      }
     ],
     "prompt_number": 22
    },
    {
     "cell_type": "code",
     "collapsed": false,
     "input": "np.where(arr > 0, 2, arr)",
     "language": "python",
     "metadata": {},
     "outputs": [
      {
       "metadata": {},
       "output_type": "pyout",
       "prompt_number": 23,
       "text": "array([[-0.28742068,  2.        , -0.98658172,  2.        ],\n       [ 2.        ,  2.        ,  2.        , -0.27612267],\n       [ 2.        , -2.24743169, -1.66711524, -1.53961981],\n       [ 2.        ,  2.        ,  2.        ,  2.        ]])"
      }
     ],
     "prompt_number": 23
    },
    {
     "cell_type": "raw",
     "metadata": {},
     "source": "Where can also be used to express more complicated logic. Two boolean arrays, cond1 and cond2 and wish to assign a different value for each of the 4 possible pairs of boolean values."
    },
    {
     "cell_type": "raw",
     "metadata": {},
     "source": "np.where(cond1 & cond2, 0,\n         np.where(cond1, 1,\n                  np.where(cond2, 2, 3)))"
    },
    {
     "cell_type": "heading",
     "level": 2,
     "metadata": {},
     "source": "Mathematical and Statistical Methods"
    },
    {
     "cell_type": "raw",
     "metadata": {},
     "source": "Mathematical functions which compute statistics about an entire array or about the data along an axis are accessible as array methods. Sum, mean, and standard deviation std can be used by calling the array instance method or using the top level NumPy function:"
    },
    {
     "cell_type": "code",
     "collapsed": false,
     "input": "arr = np.random.randn(5, 4)",
     "language": "python",
     "metadata": {},
     "outputs": [],
     "prompt_number": 26
    },
    {
     "cell_type": "code",
     "collapsed": false,
     "input": "arr.mean()",
     "language": "python",
     "metadata": {},
     "outputs": [
      {
       "metadata": {},
       "output_type": "pyout",
       "prompt_number": 27,
       "text": "-0.1926831279222907"
      }
     ],
     "prompt_number": 27
    },
    {
     "cell_type": "code",
     "collapsed": false,
     "input": "np.mean(arr)",
     "language": "python",
     "metadata": {},
     "outputs": [
      {
       "metadata": {},
       "output_type": "pyout",
       "prompt_number": 28,
       "text": "-0.1926831279222907"
      }
     ],
     "prompt_number": 28
    },
    {
     "cell_type": "code",
     "collapsed": false,
     "input": "arr.sum()",
     "language": "python",
     "metadata": {},
     "outputs": [
      {
       "metadata": {},
       "output_type": "pyout",
       "prompt_number": 29,
       "text": "-3.853662558445814"
      }
     ],
     "prompt_number": 29
    },
    {
     "cell_type": "raw",
     "metadata": {},
     "source": "Functions like mean and sum take an optional axis argument which computes the statistic over the given axis, resulting in an array with one fewer dimension."
    },
    {
     "cell_type": "code",
     "collapsed": false,
     "input": "arr.mean(axis=1)",
     "language": "python",
     "metadata": {},
     "outputs": [
      {
       "metadata": {},
       "output_type": "pyout",
       "prompt_number": 30,
       "text": "array([-0.14957127, -0.08333302, -0.03892858, -0.44576748, -0.24581529])"
      }
     ],
     "prompt_number": 30
    },
    {
     "cell_type": "code",
     "collapsed": false,
     "input": "arr.sum(0)",
     "language": "python",
     "metadata": {},
     "outputs": [
      {
       "metadata": {},
       "output_type": "pyout",
       "prompt_number": 31,
       "text": "array([-3.5062505 , -1.71630095, -0.81181939,  2.18070828])"
      }
     ],
     "prompt_number": 31
    },
    {
     "cell_type": "raw",
     "metadata": {},
     "source": "Other methods like cumsum and cumprod do not aggregate but produce an array of the intermediate results instead:"
    },
    {
     "cell_type": "code",
     "collapsed": false,
     "input": "arr = np.array([[0, 1, 2], [3, 4, 5], [6, 7, 8]])",
     "language": "python",
     "metadata": {},
     "outputs": [],
     "prompt_number": 32
    },
    {
     "cell_type": "code",
     "collapsed": false,
     "input": "arr.cumsum(0)",
     "language": "python",
     "metadata": {},
     "outputs": [
      {
       "metadata": {},
       "output_type": "pyout",
       "prompt_number": 33,
       "text": "array([[ 0,  1,  2],\n       [ 3,  5,  7],\n       [ 9, 12, 15]])"
      }
     ],
     "prompt_number": 33
    },
    {
     "cell_type": "code",
     "collapsed": false,
     "input": "arr.cumprod(1)",
     "language": "python",
     "metadata": {},
     "outputs": [
      {
       "metadata": {},
       "output_type": "pyout",
       "prompt_number": 34,
       "text": "array([[  0,   0,   0],\n       [  3,  12,  60],\n       [  6,  42, 336]])"
      }
     ],
     "prompt_number": 34
    },
    {
     "cell_type": "heading",
     "level": 3,
     "metadata": {},
     "source": "Methods for Boolean Arrays"
    },
    {
     "cell_type": "raw",
     "metadata": {},
     "source": "Boolean values are coerced to 1 (True) and 0 (False). Thus sum is often used as a means of counting True values in a boolean array."
    },
    {
     "cell_type": "code",
     "collapsed": false,
     "input": "arr = np.random.randn(100)",
     "language": "python",
     "metadata": {},
     "outputs": [],
     "prompt_number": 36
    },
    {
     "cell_type": "code",
     "collapsed": false,
     "input": "arr = np.random.randn(8)",
     "language": "python",
     "metadata": {},
     "outputs": [],
     "prompt_number": 38
    },
    {
     "cell_type": "code",
     "collapsed": false,
     "input": "arr",
     "language": "python",
     "metadata": {},
     "outputs": [
      {
       "metadata": {},
       "output_type": "pyout",
       "prompt_number": 39,
       "text": "array([-0.8942936 , -0.01482558, -0.8327611 ,  0.25811038, -0.55600636,\n        2.17097618, -0.14498757,  0.91343987])"
      }
     ],
     "prompt_number": 39
    },
    {
     "cell_type": "code",
     "collapsed": false,
     "input": "arr.sort()",
     "language": "python",
     "metadata": {},
     "outputs": [],
     "prompt_number": 40
    },
    {
     "cell_type": "code",
     "collapsed": false,
     "input": "arr",
     "language": "python",
     "metadata": {},
     "outputs": [
      {
       "metadata": {},
       "output_type": "pyout",
       "prompt_number": 41,
       "text": "array([-0.8942936 , -0.8327611 , -0.55600636, -0.14498757, -0.01482558,\n        0.25811038,  0.91343987,  2.17097618])"
      }
     ],
     "prompt_number": 41
    },
    {
     "cell_type": "code",
     "collapsed": false,
     "input": "arr = np.random.randn(5, 3)",
     "language": "python",
     "metadata": {},
     "outputs": [],
     "prompt_number": 43
    },
    {
     "cell_type": "code",
     "collapsed": false,
     "input": "arr",
     "language": "python",
     "metadata": {},
     "outputs": [
      {
       "metadata": {},
       "output_type": "pyout",
       "prompt_number": 44,
       "text": "array([[ 1.27407532,  2.15576083, -0.37670306],\n       [ 0.62591636,  0.17217041,  1.03326605],\n       [-1.06100613, -0.61410197, -3.06005267],\n       [ 0.01230474, -2.08114661, -0.54752051],\n       [ 0.93724513, -1.26340683, -0.40566635]])"
      }
     ],
     "prompt_number": 44
    },
    {
     "cell_type": "code",
     "collapsed": false,
     "input": "arr.sort(1)",
     "language": "python",
     "metadata": {},
     "outputs": [],
     "prompt_number": 45
    },
    {
     "cell_type": "code",
     "collapsed": false,
     "input": "arr",
     "language": "python",
     "metadata": {},
     "outputs": [
      {
       "metadata": {},
       "output_type": "pyout",
       "prompt_number": 46,
       "text": "array([[-0.37670306,  1.27407532,  2.15576083],\n       [ 0.17217041,  0.62591636,  1.03326605],\n       [-3.06005267, -1.06100613, -0.61410197],\n       [-2.08114661, -0.54752051,  0.01230474],\n       [-1.26340683, -0.40566635,  0.93724513]])"
      }
     ],
     "prompt_number": 46
    },
    {
     "cell_type": "raw",
     "metadata": {},
     "source": "The top level method np.sort returns a sorted copy of an array instead of modifying the array in place. Compute the quantiles of an array is to sort and select the value at a particular rank:"
    },
    {
     "cell_type": "code",
     "collapsed": false,
     "input": "large_arr = np.random.randn(1000)",
     "language": "python",
     "metadata": {},
     "outputs": [],
     "prompt_number": 47
    },
    {
     "cell_type": "code",
     "collapsed": false,
     "input": "large_arr.sort()",
     "language": "python",
     "metadata": {},
     "outputs": [],
     "prompt_number": 48
    },
    {
     "cell_type": "code",
     "collapsed": false,
     "input": "large_arr[int(0.05 * len(large_arr))]",
     "language": "python",
     "metadata": {},
     "outputs": [
      {
       "metadata": {},
       "output_type": "pyout",
       "prompt_number": 49,
       "text": "-1.6912120420858214"
      }
     ],
     "prompt_number": 49
    },
    {
     "cell_type": "heading",
     "level": 3,
     "metadata": {},
     "source": "Unique and Other Set Logic"
    },
    {
     "cell_type": "raw",
     "metadata": {},
     "source": "np.unique returns the sorted unique values in an array:"
    },
    {
     "cell_type": "code",
     "collapsed": false,
     "input": "names = np.array(['Bob', 'Joe', 'Will', 'Bob', 'Will', 'Joe', 'Joe'])",
     "language": "python",
     "metadata": {},
     "outputs": [],
     "prompt_number": 50
    },
    {
     "cell_type": "code",
     "collapsed": false,
     "input": "np.unique(names)",
     "language": "python",
     "metadata": {},
     "outputs": [
      {
       "metadata": {},
       "output_type": "pyout",
       "prompt_number": 51,
       "text": "array(['Bob', 'Joe', 'Will'], \n      dtype='|S4')"
      }
     ],
     "prompt_number": 51
    },
    {
     "cell_type": "code",
     "collapsed": false,
     "input": "ints = np.array([3, 3, 3, 2, 2, 1, 1, 4, 4])",
     "language": "python",
     "metadata": {},
     "outputs": [],
     "prompt_number": 52
    },
    {
     "cell_type": "code",
     "collapsed": false,
     "input": "np.unique(ints)",
     "language": "python",
     "metadata": {},
     "outputs": [
      {
       "metadata": {},
       "output_type": "pyout",
       "prompt_number": 53,
       "text": "array([1, 2, 3, 4])"
      }
     ],
     "prompt_number": 53
    },
    {
     "cell_type": "code",
     "collapsed": false,
     "input": "sorted(set(names))",
     "language": "python",
     "metadata": {},
     "outputs": [
      {
       "metadata": {},
       "output_type": "pyout",
       "prompt_number": 54,
       "text": "['Bob', 'Joe', 'Will']"
      }
     ],
     "prompt_number": 54
    },
    {
     "cell_type": "heading",
     "level": 3,
     "metadata": {},
     "source": "File Input and Output with Arrays"
    },
    {
     "cell_type": "raw",
     "metadata": {},
     "source": "NumPy can also save and load data to and from disk in text or binary format. "
    },
    {
     "cell_type": "heading",
     "level": 2,
     "metadata": {},
     "source": "Linear Algebra "
    },
    {
     "cell_type": "raw",
     "metadata": {},
     "source": "Multiplying two two-dimensional arrays with * is an element-wise product instead of a matrix dot product. As such, there is a function dot, both an array method, and a function in the numpy namespace, for matrix multiplication."
    },
    {
     "cell_type": "code",
     "collapsed": false,
     "input": "x = np.array([[1., 2., 3.], [4., 5., 6.]])",
     "language": "python",
     "metadata": {},
     "outputs": [],
     "prompt_number": 55
    },
    {
     "cell_type": "code",
     "collapsed": false,
     "input": "y = np.array([[6., 23.], [-1, 7], [8, 9]])",
     "language": "python",
     "metadata": {},
     "outputs": [],
     "prompt_number": 56
    },
    {
     "cell_type": "code",
     "collapsed": false,
     "input": "x",
     "language": "python",
     "metadata": {},
     "outputs": [
      {
       "metadata": {},
       "output_type": "pyout",
       "prompt_number": 57,
       "text": "array([[ 1.,  2.,  3.],\n       [ 4.,  5.,  6.]])"
      }
     ],
     "prompt_number": 57
    },
    {
     "cell_type": "code",
     "collapsed": false,
     "input": "y",
     "language": "python",
     "metadata": {},
     "outputs": [
      {
       "metadata": {},
       "output_type": "pyout",
       "prompt_number": 58,
       "text": "array([[  6.,  23.],\n       [ -1.,   7.],\n       [  8.,   9.]])"
      }
     ],
     "prompt_number": 58
    },
    {
     "cell_type": "code",
     "collapsed": false,
     "input": "x.dot(y)     #equivalent np.dot(x, y)",
     "language": "python",
     "metadata": {},
     "outputs": []
    }
   ],
   "metadata": {}
  }
 ]
}